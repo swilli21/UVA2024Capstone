{
 "cells": [
  {
   "cell_type": "markdown",
   "id": "d6b7dd4a-1376-4f57-9201-33693df5e06c",
   "metadata": {},
   "source": [
    "# Weight Technique 1: Keyword Model Training"
   ]
  },
  {
   "cell_type": "markdown",
   "id": "da89b503-8d32-425a-9176-502300513185",
   "metadata": {},
   "source": [
    "## Evaluation - Fine Tune Model usuing Keyword weights"
   ]
  },
  {
   "cell_type": "code",
   "execution_count": 1,
   "id": "a2dae7ba-3385-4fb1-9756-5a1cbbe0115c",
   "metadata": {
    "tags": []
   },
   "outputs": [],
   "source": [
    "import json\n",
    "from google.cloud import aiplatform\n",
    "from google.cloud.aiplatform.gapic.schema import predict\n",
    "from google.protobuf import json_format\n",
    "from google.protobuf.struct_pb2 import Value\n",
    "from langchain.llms import OpenAI\n",
    "from langchain.prompts import PromptTemplate\n",
    "from google.cloud import bigquery\n",
    "from langchain_openai import ChatOpenAI\n",
    "from langchain_experimental.sql import SQLDatabaseChain\n",
    "from langchain.sql_database import SQLDatabase\n",
    "from langchain.prompts import PromptTemplate\n",
    "import warnings\n",
    "warnings.filterwarnings('ignore')"
   ]
  },
  {
   "cell_type": "code",
   "execution_count": 2,
   "id": "5c904fd1-dfa9-48ef-8b7c-6d2ec4638adc",
   "metadata": {
    "tags": []
   },
   "outputs": [],
   "source": [
    "openai_api_key = openai_api_key"
   ]
  },
  {
   "cell_type": "code",
   "execution_count": 3,
   "id": "d1ef46bf-9965-481a-bf4e-973e555f5935",
   "metadata": {},
   "outputs": [],
   "source": [
    "# need to ask very specific questions to help the RAG model query the appropriate tables"
   ]
  },
  {
   "cell_type": "markdown",
   "id": "55016648-f1e3-4358-827e-7fcde0ff3f58",
   "metadata": {},
   "source": [
    "### Keyword Extraction:\n",
    "NLP Techniques: You can use various NLP techniques to extract keywords:\n",
    "\n",
    "Frequency Analysis: Identify the most frequent words in the text.\n",
    "\n",
    "Part-of-Speech Tagging: Identify nouns and adjectives, which are often good indicators of keywords.\n",
    "\n",
    "Named Entity Recognition (NER): Identify entities like people, organizations, locations, and medical terms."
   ]
  },
  {
   "cell_type": "markdown",
   "id": "14447bdf-33d5-40ef-b72b-6f5f039911da",
   "metadata": {},
   "source": [
    "### Weight assignment on Keywords using TF-IDF Calculation\n",
    "- Once you have a list of potential keywords, you can use TF-IDF to assign weights:\n",
    "\n",
    "Term Frequency (TF): Calculate the frequency of each keyword in the text.\n",
    "\n",
    "Inverse Document Frequency (IDF): Calculate the inverse document frequency of each keyword, which measures how unique it is across the entire dataset.\n",
    "\n",
    "TF-IDF Score: Multiply TF and IDF to get the TF-IDF score for each keyword. Higher scores indicate more important keywords."
   ]
  },
  {
   "cell_type": "code",
   "execution_count": 7,
   "id": "b2b00742-0f85-4e37-a5a8-1189616eade6",
   "metadata": {
    "tags": []
   },
   "outputs": [
    {
     "name": "stdout",
     "output_type": "stream",
     "text": [
      "cardiac: 0.5773502691896258\n",
      "murmurs: 0.5773502691896258\n",
      "undiagnosed: 0.5773502691896258\n"
     ]
    }
   ],
   "source": [
    "from sklearn.feature_extraction.text import TfidfVectorizer\n",
    "\n",
    "# Connect to BigQuery\n",
    "client = bigquery.Client()\n",
    "\n",
    "# Query the database (replace with your actual query)\n",
    "query = \"\"\"\n",
    "SELECT long_title\n",
    "FROM `us-gcp-ame-con-5b680-sbx-1.mimic_iv_hosp_icu_dataset.d_icd_diagnoses`\n",
    "WHERE long_title LIKE '%diagnosed%'\n",
    "\"\"\"\n",
    "query_job = client.query(query)\n",
    "results = query_job.result()\n",
    "\n",
    "# Extract text and clean it\n",
    "texts = [row.long_title for row in results]\n",
    "texts = [text.lower().replace('.', '').replace(',', '') for text in texts]\n",
    "\n",
    "# Create a TF-IDF vectorizer\n",
    "vectorizer = TfidfVectorizer()\n",
    "\n",
    "# Fit the vectorizer to the text data\n",
    "vectorizer.fit(texts)\n",
    "\n",
    "# Transform the text data into TF-IDF vectors\n",
    "tfidf_matrix = vectorizer.transform(texts)\n",
    "\n",
    "# Get the keywords and their TF-IDF scores\n",
    "keywords = vectorizer.get_feature_names_out()\n",
    "tfidf_scores = tfidf_matrix.toarray()\n",
    "\n",
    "# Print the keywords and their scores\n",
    "for i, keyword in enumerate(keywords):\n",
    "    print(f\"{keyword}: {tfidf_scores[0][i]}\")"
   ]
  },
  {
   "cell_type": "code",
   "execution_count": 8,
   "id": "527cef85-1145-448c-9a50-660d8df953f7",
   "metadata": {
    "tags": []
   },
   "outputs": [
    {
     "name": "stdout",
     "output_type": "stream",
     "text": [
      "125: 0.7071067811865475\n",
      "antigen: 0.35355339059327373\n",
      "ca: 0.35355339059327373\n",
      "cancer: 0.35355339059327373\n",
      "elevated: 0.35355339059327373\n"
     ]
    }
   ],
   "source": [
    "from sklearn.feature_extraction.text import TfidfVectorizer\n",
    "\n",
    "# Connect to BigQuery\n",
    "client = bigquery.Client()\n",
    "\n",
    "# Query the database (replace with your actual query)\n",
    "query = \"\"\"\n",
    "SELECT long_title\n",
    "FROM `us-gcp-ame-con-5b680-sbx-1.mimic_iv_hosp_icu_dataset.d_icd_diagnoses`\n",
    "WHERE long_title LIKE '%cancer%'\n",
    "\"\"\"\n",
    "query_job = client.query(query)\n",
    "results = query_job.result()\n",
    "\n",
    "# Extract text and clean it\n",
    "texts = [row.long_title for row in results]\n",
    "texts = [text.lower().replace('.', '').replace(',', '') for text in texts]\n",
    "\n",
    "# Create a TF-IDF vectorizer\n",
    "vectorizer = TfidfVectorizer()\n",
    "\n",
    "# Fit the vectorizer to the text data\n",
    "vectorizer.fit(texts)\n",
    "\n",
    "# Transform the text data into TF-IDF vectors\n",
    "tfidf_matrix = vectorizer.transform(texts)\n",
    "\n",
    "# Get the keywords and their TF-IDF scores\n",
    "keywords = vectorizer.get_feature_names_out()\n",
    "tfidf_scores = tfidf_matrix.toarray()\n",
    "\n",
    "# Print the keywords and their scores\n",
    "for i, keyword in enumerate(keywords):\n",
    "    print(f\"{keyword}: {tfidf_scores[0][i]}\")"
   ]
  },
  {
   "cell_type": "code",
   "execution_count": 12,
   "id": "cf72b681-dd3e-4eda-86f0-3aa7f7175d72",
   "metadata": {
    "tags": []
   },
   "outputs": [
    {
     "name": "stdout",
     "output_type": "stream",
     "text": [
      "chronic: 0.5773502691896258\n",
      "other: 0.5773502691896258\n",
      "pain: 0.5773502691896258\n"
     ]
    }
   ],
   "source": [
    "from sklearn.feature_extraction.text import TfidfVectorizer\n",
    "\n",
    "# Connect to BigQuery\n",
    "client = bigquery.Client()\n",
    "\n",
    "# Query the database (replace with your actual query)\n",
    "query = \"\"\"\n",
    "SELECT long_title\n",
    "FROM `us-gcp-ame-con-5b680-sbx-1.mimic_iv_hosp_icu_dataset.d_icd_diagnoses`\n",
    "WHERE long_title LIKE '%chronic pain%'\n",
    "\"\"\"\n",
    "query_job = client.query(query)\n",
    "results = query_job.result()\n",
    "\n",
    "# Extract text and clean it\n",
    "texts = [row.long_title for row in results]\n",
    "texts = [text.lower().replace('.', '').replace(',', '') for text in texts]\n",
    "\n",
    "# Create a TF-IDF vectorizer\n",
    "vectorizer = TfidfVectorizer()\n",
    "\n",
    "# Fit the vectorizer to the text data\n",
    "vectorizer.fit(texts)\n",
    "\n",
    "# Transform the text data into TF-IDF vectors\n",
    "tfidf_matrix = vectorizer.transform(texts)\n",
    "\n",
    "# Get the keywords and their TF-IDF scores\n",
    "keywords = vectorizer.get_feature_names_out()\n",
    "tfidf_scores = tfidf_matrix.toarray()\n",
    "\n",
    "# Print the keywords and their scores\n",
    "for i, keyword in enumerate(keywords):\n",
    "    print(f\"{keyword}: {tfidf_scores[0][i]}\")"
   ]
  },
  {
   "cell_type": "code",
   "execution_count": 31,
   "id": "d4851b33-3a56-43c4-8b72-de2a832fa37f",
   "metadata": {
    "tags": []
   },
   "outputs": [
    {
     "name": "stdout",
     "output_type": "stream",
     "text": [
      "abdominal: 0.0\n",
      "abnormal: 0.0\n",
      "and: 0.0\n",
      "appendix: 0.0\n",
      "ascending: 0.0\n",
      "associated: 0.0\n",
      "axilla: 0.0\n",
      "benign: 0.0\n",
      "bone: 0.0\n",
      "bronchus: 0.0\n",
      "burkitt: 0.0\n",
      "carcinoid: 0.0\n",
      "cecum: 0.0\n",
      "cell: 0.0\n",
      "colon: 0.0\n",
      "cysts: 0.0\n",
      "deformans: 0.0\n",
      "descending: 0.0\n",
      "distant: 0.0\n",
      "duodenum: 0.0\n",
      "extranodal: 0.0\n",
      "face: 0.0\n",
      "foregut: 0.0\n",
      "giant: 0.0\n",
      "glaucoma: 0.0\n",
      "head: 0.0\n",
      "hindgut: 0.0\n",
      "ileum: 0.0\n",
      "inguinal: 0.0\n",
      "intestine: 0.0\n",
      "intra: 0.0\n",
      "intrapelvic: 0.0\n",
      "intrathoracic: 0.0\n",
      "jejunum: 0.0\n",
      "kidney: 0.0\n",
      "large: 0.0\n",
      "limb: 0.0\n",
      "liver: 0.0\n",
      "lower: 0.0\n",
      "lung: 0.0\n",
      "lymph: 0.0\n",
      "lymphoma: 0.0\n",
      "malignant: 0.0\n",
      "markers: 0.0\n",
      "mast: 0.0\n",
      "mention: 0.0\n",
      "midgut: 0.0\n",
      "monkey: 0.5713913488374838\n",
      "multiple: 0.0\n",
      "neck: 0.0\n",
      "neuroendocrine: 0.0\n",
      "nodes: 0.0\n",
      "not: 0.0\n",
      "of: 0.0\n",
      "or: 0.0\n",
      "organ: 0.0\n",
      "osteitis: 0.0\n",
      "other: 0.0\n",
      "otherwise: 0.0\n",
      "peritoneum: 0.0\n",
      "portion: 0.0\n",
      "primary: 0.0\n",
      "rectum: 0.0\n",
      "region: 0.0\n",
      "secondary: 0.0\n",
      "sheath: 0.0\n",
      "sigmoid: 0.0\n",
      "site: 0.0\n",
      "sites: 0.0\n",
      "small: 0.0\n",
      "solid: 0.0\n",
      "specified: 0.0\n",
      "spleen: 0.0\n",
      "stomach: 0.0\n",
      "tendon: 0.0\n",
      "the: 0.0\n",
      "thymus: 0.0\n",
      "transverse: 0.0\n",
      "tumor: 0.14330310331965265\n",
      "tumors: 0.0\n",
      "unknown: 0.0\n",
      "unspecified: 0.0\n",
      "upper: 0.0\n",
      "virus: 0.5713913488374838\n",
      "with: 0.0\n",
      "without: 0.0\n",
      "yaba: 0.5713913488374838\n"
     ]
    }
   ],
   "source": [
    "from sklearn.feature_extraction.text import TfidfVectorizer\n",
    "\n",
    "# Connect to BigQuery\n",
    "client = bigquery.Client()\n",
    "\n",
    "# Query the database (replace with your actual query)\n",
    "query = \"\"\"\n",
    "SELECT long_title\n",
    "FROM `us-gcp-ame-con-5b680-sbx-1.mimic_iv_hosp_icu_dataset.d_icd_diagnoses`\n",
    "WHERE long_title LIKE '%tumor%'\n",
    "\"\"\"\n",
    "query_job = client.query(query)\n",
    "results = query_job.result()\n",
    "\n",
    "# Extract text and clean it\n",
    "texts = [row.long_title for row in results]\n",
    "texts = [text.lower().replace('.', '').replace(',', '') for text in texts]\n",
    "\n",
    "# Create a TF-IDF vectorizer\n",
    "vectorizer = TfidfVectorizer()\n",
    "\n",
    "# Fit the vectorizer to the text data\n",
    "vectorizer.fit(texts)\n",
    "\n",
    "# Transform the text data into TF-IDF vectors\n",
    "tfidf_matrix = vectorizer.transform(texts)\n",
    "\n",
    "# Get the keywords and their TF-IDF scores\n",
    "keywords = vectorizer.get_feature_names_out()\n",
    "tfidf_scores = tfidf_matrix.toarray()\n",
    "\n",
    "# Print the keywords and their scores\n",
    "for i, keyword in enumerate(keywords):\n",
    "    print(f\"{keyword}: {tfidf_scores[0][i]}\")"
   ]
  },
  {
   "cell_type": "code",
   "execution_count": 32,
   "id": "a1fae982-08f5-478e-8925-8af16b75f661",
   "metadata": {
    "tags": []
   },
   "outputs": [
    {
     "name": "stdout",
     "output_type": "stream",
     "text": [
      "anemia: 0.6317450542765208\n",
      "antineoplastic: 0.4804583972923858\n",
      "chemotherapy: 0.3731188059313277\n",
      "extravasation: 0.0\n",
      "induced: 0.4804583972923858\n",
      "of: 0.0\n",
      "pancytopenia: 0.0\n",
      "vesicant: 0.0\n"
     ]
    }
   ],
   "source": [
    "from sklearn.feature_extraction.text import TfidfVectorizer\n",
    "\n",
    "# Connect to BigQuery\n",
    "client = bigquery.Client()\n",
    "\n",
    "# Query the database (replace with your actual query)\n",
    "query = \"\"\"\n",
    "SELECT long_title\n",
    "FROM `us-gcp-ame-con-5b680-sbx-1.mimic_iv_hosp_icu_dataset.d_icd_diagnoses`\n",
    "WHERE long_title LIKE '%chemotherapy%'\n",
    "\"\"\"\n",
    "query_job = client.query(query)\n",
    "results = query_job.result()\n",
    "\n",
    "# Extract text and clean it\n",
    "texts = [row.long_title for row in results]\n",
    "texts = [text.lower().replace('.', '').replace(',', '') for text in texts]\n",
    "\n",
    "# Create a TF-IDF vectorizer\n",
    "vectorizer = TfidfVectorizer()\n",
    "\n",
    "# Fit the vectorizer to the text data\n",
    "vectorizer.fit(texts)\n",
    "\n",
    "# Transform the text data into TF-IDF vectors\n",
    "tfidf_matrix = vectorizer.transform(texts)\n",
    "\n",
    "# Get the keywords and their TF-IDF scores\n",
    "keywords = vectorizer.get_feature_names_out()\n",
    "tfidf_scores = tfidf_matrix.toarray()\n",
    "\n",
    "# Print the keywords and their scores\n",
    "for i, keyword in enumerate(keywords):\n",
    "    print(f\"{keyword}: {tfidf_scores[0][i]}\")"
   ]
  },
  {
   "cell_type": "code",
   "execution_count": 33,
   "id": "b871d37d-b999-49e7-b420-cd8ef529d1cc",
   "metadata": {
    "tags": []
   },
   "outputs": [
    {
     "name": "stdout",
     "output_type": "stream",
     "text": [
      "abuse: 0.0\n",
      "achieved: 0.33121896613728974\n",
      "acting: 0.0\n",
      "acute: 0.0\n",
      "affective: 0.0\n",
      "alcohol: 0.0\n",
      "alcoholic: 0.0\n",
      "alcoholism: 0.0\n",
      "amphetamine: 0.0\n",
      "and: 0.0\n",
      "antidepressant: 0.0\n",
      "anxiolytic: 0.0\n",
      "any: 0.0\n",
      "bipolar: 0.0\n",
      "cannabis: 0.0\n",
      "catatonic: 0.0\n",
      "cell: 0.0\n",
      "chronic: 0.0\n",
      "cocaine: 0.0\n",
      "combinations: 0.0\n",
      "current: 0.0\n",
      "dependence: 0.0\n",
      "depressed: 0.0\n",
      "depressive: 0.0\n",
      "disorder: 0.0\n",
      "disorders: 0.0\n",
      "disorganized: 0.0\n",
      "drug: 0.0\n",
      "episode: 0.0\n",
      "erythremia: 0.0\n",
      "erythroleukemia: 0.0\n",
      "excluding: 0.0\n",
      "full: 0.0\n",
      "hallucinogen: 0.0\n",
      "having: 0.33121896613728974\n",
      "hypnotic: 0.0\n",
      "immunoproliferative: 0.0\n",
      "in: 0.0\n",
      "intoxication: 0.0\n",
      "latent: 0.0\n",
      "leukemia: 0.26676042229536756\n",
      "leukemiain: 0.0\n",
      "lymphoid: 0.47343765051956477\n",
      "major: 0.0\n",
      "manic: 0.0\n",
      "megakaryocytic: 0.0\n",
      "mention: 0.33121896613728974\n",
      "mixed: 0.0\n",
      "monocytic: 0.0\n",
      "most: 0.0\n",
      "multiple: 0.0\n",
      "myeloid: 0.0\n",
      "myeloma: 0.0\n",
      "neoplasms: 0.0\n",
      "of: 0.299497335907578\n",
      "opioid: 0.0\n",
      "or: 0.0\n",
      "other: 0.3932553911833998\n",
      "paranoid: 0.0\n",
      "partial: 0.0\n",
      "plasma: 0.0\n",
      "psychostimulant: 0.0\n",
      "recent: 0.0\n",
      "recurrent: 0.0\n",
      "related: 0.0\n",
      "remission: 0.14670786325397045\n",
      "residual: 0.0\n",
      "sarcoma: 0.0\n",
      "schizoaffective: 0.0\n",
      "schizophrenia: 0.0\n",
      "schizophrenic: 0.0\n",
      "schizophreniform: 0.0\n",
      "sedative: 0.0\n",
      "simple: 0.0\n",
      "single: 0.0\n",
      "specified: 0.0\n",
      "subacute: 0.0\n",
      "sympathomimetic: 0.0\n",
      "type: 0.0\n",
      "types: 0.0\n",
      "unspecified: 0.0\n",
      "with: 0.0\n",
      "without: 0.33121896613728974\n"
     ]
    }
   ],
   "source": [
    "from sklearn.feature_extraction.text import TfidfVectorizer\n",
    "\n",
    "# Connect to BigQuery\n",
    "client = bigquery.Client()\n",
    "\n",
    "# Query the database (replace with your actual query)\n",
    "query = \"\"\"\n",
    "SELECT long_title\n",
    "FROM `us-gcp-ame-con-5b680-sbx-1.mimic_iv_hosp_icu_dataset.d_icd_diagnoses`\n",
    "WHERE long_title LIKE '%remission%'\n",
    "\"\"\"\n",
    "query_job = client.query(query)\n",
    "results = query_job.result()\n",
    "\n",
    "# Extract text and clean it\n",
    "texts = [row.long_title for row in results]\n",
    "texts = [text.lower().replace('.', '').replace(',', '') for text in texts]\n",
    "\n",
    "# Create a TF-IDF vectorizer\n",
    "vectorizer = TfidfVectorizer()\n",
    "\n",
    "# Fit the vectorizer to the text data\n",
    "vectorizer.fit(texts)\n",
    "\n",
    "# Transform the text data into TF-IDF vectors\n",
    "tfidf_matrix = vectorizer.transform(texts)\n",
    "\n",
    "# Get the keywords and their TF-IDF scores\n",
    "keywords = vectorizer.get_feature_names_out()\n",
    "tfidf_scores = tfidf_matrix.toarray()\n",
    "\n",
    "# Print the keywords and their scores\n",
    "for i, keyword in enumerate(keywords):\n",
    "    print(f\"{keyword}: {tfidf_scores[0][i]}\")"
   ]
  },
  {
   "cell_type": "code",
   "execution_count": 37,
   "id": "fbc78db4-be14-43cb-9804-c777aa6d6626",
   "metadata": {
    "tags": []
   },
   "outputs": [
    {
     "name": "stdout",
     "output_type": "stream",
     "text": [
      "adult: 0.0\n",
      "after: 0.0\n",
      "and: 0.33279753491049574\n",
      "associated: 0.0\n",
      "by: 0.33279753491049574\n",
      "drugs: 0.33279753491049574\n",
      "early: 0.0\n",
      "endodontic: 0.0\n",
      "hair: 0.33279753491049574\n",
      "keratolytics: 0.33279753491049574\n",
      "keratoplastics: 0.33279753491049574\n",
      "latent: 0.0\n",
      "maltreatment: 0.0\n",
      "other: 0.26238139907778524\n",
      "pathology: 0.0\n",
      "periradicular: 0.0\n",
      "poisoning: 0.33279753491049574\n",
      "preparations: 0.33279753491049574\n",
      "previous: 0.0\n",
      "relapse: 0.0\n",
      "serological: 0.0\n",
      "syphilis: 0.0\n",
      "treatment: 0.2124203556111393\n",
      "unspecified: 0.0\n",
      "with: 0.0\n"
     ]
    }
   ],
   "source": [
    "from sklearn.feature_extraction.text import TfidfVectorizer\n",
    "\n",
    "# Connect to BigQuery\n",
    "client = bigquery.Client()\n",
    "\n",
    "# Query the database (replace with your actual query)\n",
    "query = \"\"\"\n",
    "SELECT long_title\n",
    "FROM `us-gcp-ame-con-5b680-sbx-1.mimic_iv_hosp_icu_dataset.d_icd_diagnoses`\n",
    "WHERE long_title LIKE '%treatment%'\n",
    "\"\"\"\n",
    "query_job = client.query(query)\n",
    "results = query_job.result()\n",
    "\n",
    "# Extract text and clean it\n",
    "texts = [row.long_title for row in results]\n",
    "texts = [text.lower().replace('.', '').replace(',', '') for text in texts]\n",
    "\n",
    "# Create a TF-IDF vectorizer\n",
    "vectorizer = TfidfVectorizer()\n",
    "\n",
    "# Fit the vectorizer to the text data\n",
    "vectorizer.fit(texts)\n",
    "\n",
    "# Transform the text data into TF-IDF vectors\n",
    "tfidf_matrix = vectorizer.transform(texts)\n",
    "\n",
    "# Get the keywords and their TF-IDF scores\n",
    "keywords = vectorizer.get_feature_names_out()\n",
    "tfidf_scores = tfidf_matrix.toarray()\n",
    "\n",
    "# Print the keywords and their scores\n",
    "for i, keyword in enumerate(keywords):\n",
    "    print(f\"{keyword}: {tfidf_scores[0][i]}\")"
   ]
  },
  {
   "cell_type": "code",
   "execution_count": 36,
   "id": "37effae4-db66-4221-ba08-e09fc85e5053",
   "metadata": {
    "tags": []
   },
   "outputs": [
    {
     "name": "stdout",
     "output_type": "stream",
     "text": [
      "anal: 0.48589858435884453\n",
      "angle: 0.0\n",
      "borderline: 0.0\n",
      "cervical: 0.0\n",
      "dna: 0.32541194487568753\n",
      "findings: 0.0\n",
      "high: 0.2737467867719999\n",
      "hpv: 0.32541194487568753\n",
      "human: 0.32541194487568753\n",
      "low: 0.0\n",
      "open: 0.0\n",
      "papillomavirus: 0.32541194487568753\n",
      "positive: 0.32541194487568753\n",
      "risk: 0.23153327891128542\n",
      "test: 0.32541194487568753\n",
      "vaginal: 0.0\n",
      "with: 0.0\n"
     ]
    }
   ],
   "source": [
    "from sklearn.feature_extraction.text import TfidfVectorizer\n",
    "\n",
    "# Connect to BigQuery\n",
    "client = bigquery.Client()\n",
    "\n",
    "# Query the database (replace with your actual query)\n",
    "query = \"\"\"\n",
    "SELECT long_title\n",
    "FROM `us-gcp-ame-con-5b680-sbx-1.mimic_iv_hosp_icu_dataset.d_icd_diagnoses`\n",
    "WHERE long_title LIKE '%risk%'\n",
    "\"\"\"\n",
    "query_job = client.query(query)\n",
    "results = query_job.result()\n",
    "\n",
    "# Extract text and clean it\n",
    "texts = [row.long_title for row in results]\n",
    "texts = [text.lower().replace('.', '').replace(',', '') for text in texts]\n",
    "\n",
    "# Create a TF-IDF vectorizer\n",
    "vectorizer = TfidfVectorizer()\n",
    "\n",
    "# Fit the vectorizer to the text data\n",
    "vectorizer.fit(texts)\n",
    "\n",
    "# Transform the text data into TF-IDF vectors\n",
    "tfidf_matrix = vectorizer.transform(texts)\n",
    "\n",
    "# Get the keywords and their TF-IDF scores\n",
    "keywords = vectorizer.get_feature_names_out()\n",
    "tfidf_scores = tfidf_matrix.toarray()\n",
    "\n",
    "# Print the keywords and their scores\n",
    "for i, keyword in enumerate(keywords):\n",
    "    print(f\"{keyword}: {tfidf_scores[0][i]}\")"
   ]
  },
  {
   "cell_type": "code",
   "execution_count": 38,
   "id": "56ef53c4-f2a8-46b2-a4f5-ceced7d0ebf0",
   "metadata": {
    "tags": []
   },
   "outputs": [
    {
     "name": "stdout",
     "output_type": "stream",
     "text": [
      "blood: 0.35355339059327373\n",
      "diagnosis: 0.35355339059327373\n",
      "elevated: 0.35355339059327373\n",
      "hypertension: 0.35355339059327373\n",
      "of: 0.35355339059327373\n",
      "pressure: 0.35355339059327373\n",
      "reading: 0.35355339059327373\n",
      "without: 0.35355339059327373\n"
     ]
    }
   ],
   "source": [
    "from sklearn.feature_extraction.text import TfidfVectorizer\n",
    "\n",
    "# Connect to BigQuery\n",
    "client = bigquery.Client()\n",
    "\n",
    "# Query the database (replace with your actual query)\n",
    "query = \"\"\"\n",
    "SELECT long_title\n",
    "FROM `us-gcp-ame-con-5b680-sbx-1.mimic_iv_hosp_icu_dataset.d_icd_diagnoses`\n",
    "WHERE long_title LIKE '%diagnosis%'\n",
    "\"\"\"\n",
    "query_job = client.query(query)\n",
    "results = query_job.result()\n",
    "\n",
    "# Extract text and clean it\n",
    "texts = [row.long_title for row in results]\n",
    "texts = [text.lower().replace('.', '').replace(',', '') for text in texts]\n",
    "\n",
    "# Create a TF-IDF vectorizer\n",
    "vectorizer = TfidfVectorizer()\n",
    "\n",
    "# Fit the vectorizer to the text data\n",
    "vectorizer.fit(texts)\n",
    "\n",
    "# Transform the text data into TF-IDF vectors\n",
    "tfidf_matrix = vectorizer.transform(texts)\n",
    "\n",
    "# Get the keywords and their TF-IDF scores\n",
    "keywords = vectorizer.get_feature_names_out()\n",
    "tfidf_scores = tfidf_matrix.toarray()\n",
    "\n",
    "# Print the keywords and their scores\n",
    "for i, keyword in enumerate(keywords):\n",
    "    print(f\"{keyword}: {tfidf_scores[0][i]}\")"
   ]
  },
  {
   "cell_type": "markdown",
   "id": "3ad0f7c5-ba3e-49cb-8d4d-76e4f1ba3e4e",
   "metadata": {},
   "source": [
    "# Medlm Fine Tuned Model (multiple diagnoses keywords)"
   ]
  },
  {
   "cell_type": "code",
   "execution_count": 45,
   "id": "298af6d9-0dec-4234-93a2-d965d7d9ca5b",
   "metadata": {
    "tags": []
   },
   "outputs": [
    {
     "name": "stdout",
     "output_type": "stream",
     "text": [
      "Generated SQL: The unique medications prescribed to post-op patients are Fentanyl Citrate, Norepinephrine, and Potassium C 20mEq/50mL 50mL IVPB.\n"
     ]
    }
   ],
   "source": [
    "# Initialize BigQuery client\n",
    "bigquery_client = bigquery.Client()\n",
    "\n",
    "# Define the Gemini model\n",
    "llm = ChatOpenAI(openai_api_key=openai_api_key, model=\"gpt-4-32k\")\n",
    "\n",
    "# Manually define the SQLDatabase\n",
    "# Assume you have a BigQuery connection string or credentials file\n",
    "connection_string = \"bigquery://us-gcp-ame-con-5b680-sbx-1/mimic_iv_hosp_icu_dataset\"\n",
    "\n",
    "# Create the SQLDatabase instance\n",
    "db = SQLDatabase.from_uri(connection_string)\n",
    "\n",
    "# Create the SQLDatabaseChain\n",
    "chain = SQLDatabaseChain(llm=llm, database=db)\n",
    "\n",
    "# Define your natural language query\n",
    "natural_language_query = \"List of unique medications prescribed to patients treated post op limit 3\"\n",
    "\n",
    "# Generate SQL and execute\n",
    "sql_query = chain.run(natural_language_query)\n",
    "print(\"Generated SQL:\", sql_query)\n"
   ]
  },
  {
   "cell_type": "code",
   "execution_count": 46,
   "id": "93815ed8-224b-4998-b60b-7128f01a3ae1",
   "metadata": {
    "tags": []
   },
   "outputs": [
    {
     "name": "stdout",
     "output_type": "stream",
     "text": [
      "response\n",
      " prediction: {'citationMetadata': <proto.marshal.collections.maps.MapComposite object at 0x7f380de58160>, 'content': ' Fentanyl is a potent opioid pain medication that is used to treat moderate to severe pain. It is often used in the post-operative setting to control pain and discomfort. Norepinephrine is a medication that is used to increase blood pressure and improve circulation. It is often used in the post-operative setting to maintain blood pressure and prevent shock. Potassium chloride is an electrolyte that is used to maintain normal fluid and electrolyte balance in the body. It is often used in the post-operative setting to replace electrolytes that are lost during surgery.', 'safetyAttributes': <proto.marshal.collections.maps.MapComposite object at 0x7f380de58220>}\n"
     ]
    }
   ],
   "source": [
    "# The AI Platform services require regional API endpoints.\n",
    "\n",
    "client_options = {\"api_endpoint\": \"us-central1-aiplatform.googleapis.com\"}\n",
    "# This client only needs to be created once, and can be reused for multiple requests.\n",
    "\n",
    "client = aiplatform.gapic.PredictionServiceClient(\n",
    "\n",
    "    client_options=client_options\n",
    "\n",
    ")\n",
    "#  MedLM for summarizing oncology/multiple treatment articles\n",
    "# Define your keywords and weights\n",
    "keywords_weights = {\n",
    "    \"tumor\": 2.0,  # High weight\n",
    "    \"chemotherapy\": 3.0,  # High weight\n",
    "    \"remission\": 2.0,  # High weight\n",
    "    \"risk\" : 2.0, # High weight\n",
    "    \"diagnosis\":  3.5, # High weight\n",
    "    \"treatment\": 2.0 # High weight\n",
    "}\n",
    "\n",
    "# Modify the input text to emphasize keywords\n",
    "for keyword, weight in keywords_weights.items():\n",
    "    # Repeat the keyword based on its weight (adjust as needed)\n",
    "    repetitions = int(weight)\n",
    "    sql_query = sql_query.replace(keyword, \" \" + keyword + \" \" * repetitions)\n",
    "\n",
    "instance_dict = { \"content\": \"Summarize \" + sql_query }\n",
    "instance = json_format.ParseDict(instance_dict, Value())\n",
    "instances = [instance]\n",
    "\n",
    "parameters_dict = {\n",
    "\n",
    "    \"candidateCount\": 1,\n",
    "\n",
    "    \"maxOutputTokens\": 500,\n",
    "\n",
    "    \"temperature\": 0.2,\n",
    "\n",
    "    \"topP\": 0.8,\n",
    "\n",
    "    \"topK\": 40\n",
    "\n",
    "}\n",
    "\n",
    "parameters = json_format.ParseDict(parameters_dict, Value())\n",
    "\n",
    "response = client.predict(\n",
    "\n",
    "    endpoint=\"projects/us-gcp-ame-con-5b680-sbx-1/locations/us-central1/publishers/google/models/medlm-large\", instances=instances, parameters=parameters\n",
    "\n",
    ")\n",
    "\n",
    "print(\"response\")\n",
    "\n",
    "predictions = response.predictions\n",
    "\n",
    "for prediction in predictions:\n",
    "    print(\" prediction:\", dict(prediction))"
   ]
  },
  {
   "cell_type": "markdown",
   "id": "95ef4362-41fb-41e7-bcbc-e85a995d7d2b",
   "metadata": {},
   "source": [
    "# Cosine similarity"
   ]
  },
  {
   "cell_type": "markdown",
   "id": "9539f2fd-4158-4df3-b9f7-5a8a8ac6be93",
   "metadata": {},
   "source": [
    "Cosine similarity works best when the rag text and MedLM output are semantically related. \n",
    "\n",
    "If they are discussing completely different topics, the similarity score will be low, even if the words are similar.\n",
    "\n",
    "Cosine Calculation: Once we have the vectors, we calculate the cosine of the angle between them. The cosine value ranges from -1 to 1:\n",
    "- 1: The vectors are perfectly aligned (identical).\n",
    "- 0: The vectors are orthogonal (completely different).\n",
    "- -1: The vectors are perfectly opposite.\n",
    "\n",
    "Interpretation: A higher cosine similarity score indicates a greater degree of similarity between the model's output and the reference text."
   ]
  },
  {
   "cell_type": "markdown",
   "id": "5d50201a-4a9a-44d7-ab36-22b6070be59b",
   "metadata": {},
   "source": [
    "# General-Purpose Sentence Embeddings:\n",
    "- paraphrase-distilroberta-base-v1: A strong all-around model, often used for tasks like paraphrase detection and semantic similarity. It's based on DistilBERT, a smaller and faster version of BERT.\n",
    "- all-mpnet-base-v2: Another excellent general-purpose model, known for its accuracy and ability to handle diverse language styles. It's based on MPNet, a model designed for cross-lingual transfer learning.\n",
    "- all-MiniLM-L6-v2: A smaller and faster model, suitable for situations where computational resources are limited. It's based on MiniLM, a lightweight version of BERT.\n",
    "\n",
    "Accuracy: For tasks where accuracy is paramount, models like paraphrase-distilroberta-base-v1 and all-mpnet-base-v2 are often good choices."
   ]
  },
  {
   "cell_type": "code",
   "execution_count": 47,
   "id": "076741cb-cc38-44b5-a00b-fca0699987de",
   "metadata": {
    "tags": []
   },
   "outputs": [
    {
     "name": "stdout",
     "output_type": "stream",
     "text": [
      "Cosine Similarity: 0.7291460037231445\n"
     ]
    }
   ],
   "source": [
    "from sentence_transformers import SentenceTransformer, util\n",
    "\n",
    "# Load a pre-trained sentence embedding model\n",
    "model = SentenceTransformer('all-mpnet-base-v2')\n",
    "\n",
    "# Your MedLM output\n",
    "medlm_output = '''\n",
    "Fentanyl is a potent opioid pain medication that is used to treat moderate to severe pain. It is often used in the post-operative setting to control pain and discomfort.\n",
    "Norepinephrine is a medication that is used to increase blood pressure and improve circulation. \n",
    "It is often used in the post-operative setting to maintain blood pressure and prevent shock.\n",
    "Potassium chloride is an electrolyte that is used to maintain normal fluid and electrolyte balance in the body. \n",
    "It is often used in the post-operative setting to replace electrolytes that are lost during surgery.'''\n",
    "\n",
    "# Your reference text\n",
    "rag_output = sql_query\n",
    "\n",
    "# Encode the sentences into vectors\n",
    "medlm_embedding = model.encode(medlm_output)\n",
    "reference_embedding = model.encode(rag_output)\n",
    "\n",
    "# Calculate cosine similarity\n",
    "cosine_similarity = util.cos_sim(medlm_embedding, reference_embedding)[0][0]\n",
    "\n",
    "print(f\"Cosine Similarity: {cosine_similarity}\")"
   ]
  },
  {
   "cell_type": "markdown",
   "id": "1236af7f-e6af-4a90-bf68-748b3c92a86d",
   "metadata": {},
   "source": [
    "# BLEU (Bilingual Evaluation Understudy)\n",
    "BLEU primarily measures the precision of the generated text compared to the reference text. It looks at the overlap of n-grams (sequences of words) between the two.\n",
    "\n",
    "Calculate n-gram precision: BLEU calculates the precision of 1-grams (individual words), 2-grams (pairs of words), 3-grams, and so on.\n",
    "\n",
    "Geometric mean: The precision scores for different n-grams are combined using a geometric mean, giving more weight to longer n-grams.\n",
    "\n",
    "Brevity penalty: BLEU penalizes outputs that are too short compared to the reference text.\n",
    "\n",
    "Interpretation: A higher BLEU score indicates that the MedLM output is more similar to the reference text in terms of word combinations."
   ]
  },
  {
   "cell_type": "markdown",
   "id": "76c4cc95-abd2-4277-9200-27831492d38f",
   "metadata": {},
   "source": [
    "# ROUGE (Recall-Oriented Understudy for Gisting Evaluation)\n",
    "ROUGE focuses on recall, measuring how well the generated text covers the key information present in the reference text.\n",
    "\n",
    "Different ROUGE variants: ROUGE offers several variants, including ROUGE-N (measuring the overlap of n-grams), ROUGE-L (measuring the longest common subsequence), and ROUGE-S (measuring the number of overlapping sentences).\n",
    "\n",
    "Recall calculation: Each variant calculates the recall of the generated text compared to the reference text.\n",
    "\n",
    "Interpretation: A higher ROUGE score indicates that the MedLM output captures more of the important information from the reference text."
   ]
  },
  {
   "cell_type": "code",
   "execution_count": 48,
   "id": "2ccd8f6f-aa24-4f8a-9b21-7fe7d646ded8",
   "metadata": {
    "tags": []
   },
   "outputs": [
    {
     "name": "stdout",
     "output_type": "stream",
     "text": [
      "BLEU Score: 8.796377678215576e-232\n",
      "ROUGE Scores: [{'rouge-1': {'r': 0.29411764705882354, 'p': 0.1111111111111111, 'f': 0.16129031860041634}, 'rouge-2': {'r': 0.0, 'p': 0.0, 'f': 0.0}, 'rouge-l': {'r': 0.23529411764705882, 'p': 0.08888888888888889, 'f': 0.12903225408428734}}]\n"
     ]
    }
   ],
   "source": [
    "from nltk.translate.bleu_score import sentence_bleu\n",
    "from rouge import Rouge\n",
    "\n",
    "# Your MedLM output\n",
    "medlm_output = '''\n",
    "Fentanyl is a potent opioid pain medication that is used to treat moderate to severe pain. It is often used in the post-operative setting to control pain and discomfort.\n",
    "Norepinephrine is a medication that is used to increase blood pressure and improve circulation. \n",
    "It is often used in the post-operative setting to maintain blood pressure and prevent shock.\n",
    "Potassium chloride is an electrolyte that is used to maintain normal fluid and electrolyte balance in the body. \n",
    "It is often used in the post-operative setting to replace electrolytes that are lost during surgery.'''\n",
    "\n",
    "# Your reference text\n",
    "rag_output = sql_query\n",
    "\n",
    "# Calculate BLEU score\n",
    "bleu_score = sentence_bleu([rag_output.split()], medlm_output.split())\n",
    "print(f\"BLEU Score: {bleu_score}\")\n",
    "\n",
    "# Calculate ROUGE scores\n",
    "rouge = Rouge()\n",
    "scores = rouge.get_scores(medlm_output, rag_output)\n",
    "print(f\"ROUGE Scores: {scores}\")"
   ]
  },
  {
   "cell_type": "code",
   "execution_count": null,
   "id": "681852a8-1063-49aa-9d69-bbf18978081f",
   "metadata": {},
   "outputs": [],
   "source": []
  },
  {
   "cell_type": "markdown",
   "id": "d610b041-a467-4fbe-8131-d4e435bb0e9b",
   "metadata": {},
   "source": [
    "# Question 1"
   ]
  },
  {
   "cell_type": "code",
   "execution_count": 3,
   "id": "5b2562ae-e970-43d0-ba26-6b5f823a039c",
   "metadata": {
    "tags": []
   },
   "outputs": [
    {
     "name": "stdout",
     "output_type": "stream",
     "text": [
      "response\n",
      " prediction: {'safetyAttributes': <proto.marshal.collections.maps.MapComposite object at 0x7f7f4064fc40>, 'content': ' Papain 2.5% solution is a medication that is used to treat a variety of conditions. It is a proteolytic enzyme, which means that it helps to break down proteins. Papain is derived from the papaya fruit, and it has been used for centuries to treat a variety of medical conditions. Papain 2.5% solution can be used to treat a variety of conditions, including: Wounds: Papain can help to clean and debride wounds, and it can also help to promote healing. Skin conditions: Papain can be used to treat a variety of skin conditions, such as eczema and psoriasis. Digestive problems: Papain can help to improve digestion and relieve symptoms of indigestion, such as heartburn and bloating. Inflammation: Papain can help to reduce inflammation in the body. Papain 2.5% solution is a safe and effective medication that can be used to treat a variety of conditions. It is important to follow the directions on the medication label and to talk to your doctor or pharmacist if you have any questions about papain 2.5% solution.', 'citationMetadata': <proto.marshal.collections.maps.MapComposite object at 0x7f7f4064ed40>}\n"
     ]
    }
   ],
   "source": [
    "# The AI Platform services require regional API endpoints.\n",
    "sql_query = \"The medication 'Papain 2.5 % Solution' was used to treat a patient with id 12749568, who was admitted on 2136-11-09\"\n",
    "         \n",
    "client_options = {\"api_endpoint\": \"us-central1-aiplatform.googleapis.com\"}\n",
    "# This client only needs to be created once, and can be reused for multiple requests.\n",
    "\n",
    "client = aiplatform.gapic.PredictionServiceClient(\n",
    "\n",
    "    client_options=client_options\n",
    "\n",
    ")\n",
    "#  MedLM for summarizing oncology/multiple treatment articles\n",
    "# Define your keywords and weights\n",
    "keywords_weights = {\n",
    "    \"tumor\": 2.0,  # High weight\n",
    "    \"chemotherapy\": 3.0,  # High weight\n",
    "    \"remission\": 2.0,  # High weight\n",
    "    \"risk\" : 2.0, # High weight\n",
    "    \"diagnosis\":  3.5, # High weight\n",
    "    \"treatment\": 2.0 # High weight\n",
    "}\n",
    "\n",
    "# Modify the input text to emphasize keywords\n",
    "for keyword, weight in keywords_weights.items():\n",
    "    # Repeat the keyword based on its weight (adjust as needed)\n",
    "    repetitions = int(weight)\n",
    "    sql_query = sql_query.replace(keyword, \" \" + keyword + \" \" * repetitions)\n",
    "\n",
    "instance_dict = { \"content\": \"Summarize \" + sql_query }\n",
    "instance = json_format.ParseDict(instance_dict, Value())\n",
    "instances = [instance]\n",
    "\n",
    "parameters_dict = {\n",
    "\n",
    "    \"candidateCount\": 1,\n",
    "\n",
    "    \"maxOutputTokens\": 500,\n",
    "\n",
    "    \"temperature\": 0.2,\n",
    "\n",
    "    \"topP\": 0.8,\n",
    "\n",
    "    \"topK\": 40\n",
    "\n",
    "}\n",
    "\n",
    "parameters = json_format.ParseDict(parameters_dict, Value())\n",
    "\n",
    "response = client.predict(\n",
    "\n",
    "    endpoint=\"projects/us-gcp-ame-con-5b680-sbx-1/locations/us-central1/publishers/google/models/medlm-large\", instances=instances, parameters=parameters\n",
    "\n",
    ")\n",
    "\n",
    "print(\"response\")\n",
    "\n",
    "predictions = response.predictions\n",
    "\n",
    "for prediction in predictions:\n",
    "    print(\" prediction:\", dict(prediction))"
   ]
  },
  {
   "cell_type": "code",
   "execution_count": 13,
   "id": "26605201-0671-47ab-9866-b1300f8e8241",
   "metadata": {
    "tags": []
   },
   "outputs": [
    {
     "name": "stderr",
     "output_type": "stream",
     "text": [
      "2024-08-08 13:06:22.957884: E external/local_xla/xla/stream_executor/cuda/cuda_fft.cc:485] Unable to register cuFFT factory: Attempting to register factory for plugin cuFFT when one has already been registered\n",
      "2024-08-08 13:06:23.925225: E external/local_xla/xla/stream_executor/cuda/cuda_dnn.cc:8454] Unable to register cuDNN factory: Attempting to register factory for plugin cuDNN when one has already been registered\n",
      "2024-08-08 13:06:24.304151: E external/local_xla/xla/stream_executor/cuda/cuda_blas.cc:1452] Unable to register cuBLAS factory: Attempting to register factory for plugin cuBLAS when one has already been registered\n"
     ]
    },
    {
     "name": "stdout",
     "output_type": "stream",
     "text": [
      "Cosine Similarity: 0.6654064655303955\n"
     ]
    }
   ],
   "source": [
    "from sentence_transformers import SentenceTransformer, util\n",
    "\n",
    "# Load a pre-trained sentence embedding model\n",
    "model = SentenceTransformer('all-mpnet-base-v2')\n",
    "\n",
    "# Your MedLM output\n",
    "medlm_output = '''Papain 2.5% solution is a medication that is used to treat a variety of conditions. It is a proteolytic enzyme, which means that it helps to break down proteins. Papain is derived from the papaya fruit, and it has been used for centuries to treat a variety of medical conditions. Papain 2.5% solution can be used to treat a variety of conditions, including: Wounds: Papain can help to clean and debride wounds, and it can also help to promote healing. Skin conditions: Papain can be used to treat a variety of skin conditions, such as eczema and psoriasis. Digestive problems: Papain can help to improve digestion and relieve symptoms of indigestion, such as heartburn and bloating. Inflammation: Papain can help to reduce inflammation in the body. Papain 2.5% solution is a safe and effective medication that can be used to treat a variety of conditions. It is important to follow the directions on the medication label and to talk to your doctor or pharmacist if you have any questions about papain 2.5% solution'''\n",
    "\n",
    "# Your reference text\n",
    "rag_output = \"The medication 'Papain 2.5 % Solution' was used to treat a patient with id 12749568, who was admitted on 2136-11-09\"\n",
    "\n",
    "# Encode the sentences into vectors\n",
    "medlm_embedding = model.encode(medlm_output)\n",
    "reference_embedding = model.encode(rag_output)\n",
    "\n",
    "# Calculate cosine similarity\n",
    "cosine_similarity = util.cos_sim(medlm_embedding, reference_embedding)[0][0]\n",
    "\n",
    "print(f\"Cosine Similarity: {cosine_similarity}\")"
   ]
  },
  {
   "cell_type": "code",
   "execution_count": 14,
   "id": "5330e6e5-64f8-4e39-81cd-0d9d1d831863",
   "metadata": {
    "tags": []
   },
   "outputs": [
    {
     "name": "stdout",
     "output_type": "stream",
     "text": [
      "BLEU Score: 0.01428304254197363\n",
      "ROUGE Scores: [{'rouge-1': {'r': 0.35, 'p': 0.08045977011494253, 'f': 0.13084111845576038}, 'rouge-2': {'r': 0.15, 'p': 0.0234375, 'f': 0.04054053820306806}, 'rouge-l': {'r': 0.35, 'p': 0.08045977011494253, 'f': 0.13084111845576038}}]\n"
     ]
    }
   ],
   "source": [
    "from nltk.translate.bleu_score import sentence_bleu\n",
    "from rouge import Rouge\n",
    "# Load a pre-trained sentence embedding model\n",
    "model = SentenceTransformer('all-mpnet-base-v2')\n",
    "\n",
    "# Your MedLM output\n",
    "medlm_output = '''Papain 2.5% solution is a medication that is used to treat a variety of conditions. It is a proteolytic enzyme, which means that it helps to break down proteins. Papain is derived from the papaya fruit, and it has been used for centuries to treat a variety of medical conditions. Papain 2.5% solution can be used to treat a variety of conditions, including: Wounds: Papain can help to clean and debride wounds, and it can also help to promote healing. Skin conditions: Papain can be used to treat a variety of skin conditions, such as eczema and psoriasis. Digestive problems: Papain can help to improve digestion and relieve symptoms of indigestion, such as heartburn and bloating. Inflammation: Papain can help to reduce inflammation in the body. Papain 2.5% solution is a safe and effective medication that can be used to treat a variety of conditions. It is important to follow the directions on the medication label and to talk to your doctor or pharmacist if you have any questions about papain 2.5% solution'''\n",
    "\n",
    "# Your reference text\n",
    "rag_output = \"The medication 'Papain 2.5 % Solution' was used to treat a patient with id 12749568, who was admitted on 2136-11-09\"\n",
    "# Calculate BLEU score\n",
    "bleu_score = sentence_bleu([rag_output.split()], medlm_output.split())\n",
    "print(f\"BLEU Score: {bleu_score}\")\n",
    "\n",
    "# Calculate ROUGE scores\n",
    "rouge = Rouge()\n",
    "scores = rouge.get_scores(medlm_output, rag_output)\n",
    "print(f\"ROUGE Scores: {scores}\")"
   ]
  },
  {
   "cell_type": "markdown",
   "id": "2e6c5ff1-1663-410f-a7ae-a8e33532e0ee",
   "metadata": {},
   "source": [
    "# Question 2"
   ]
  },
  {
   "cell_type": "code",
   "execution_count": 4,
   "id": "18e9a35e-cde4-43b7-b016-309c04999ebc",
   "metadata": {
    "tags": []
   },
   "outputs": [
    {
     "name": "stdout",
     "output_type": "stream",
     "text": [
      "response\n",
      " prediction: {'citationMetadata': <proto.marshal.collections.maps.MapComposite object at 0x7f7f409f56c0>, 'content': \" Insulin is a hormone that is produced by the pancreas and is essential for the body's use of glucose (sugar) for energy. It is used to treat diabetes, a condition in which the body does not produce enough insulin or does not use insulin effectively. Insulin is available in several different forms, including injectable, oral, and inhaled forms. The type and dose of insulin that is prescribed will depend on the individual's needs.\", 'safetyAttributes': <proto.marshal.collections.maps.MapComposite object at 0x7f7f4064e800>}\n"
     ]
    }
   ],
   "source": [
    "# The AI Platform services require regional API endpoints.\n",
    "sql_query = \"The most frequently prescribed prescription drug is Insulin.\"\n",
    "            \n",
    "\n",
    "client_options = {\"api_endpoint\": \"us-central1-aiplatform.googleapis.com\"}\n",
    "# This client only needs to be created once, and can be reused for multiple requests.\n",
    "\n",
    "client = aiplatform.gapic.PredictionServiceClient(\n",
    "\n",
    "    client_options=client_options\n",
    "\n",
    ")\n",
    "#  MedLM for summarizing oncology/multiple treatment articles\n",
    "# Define your keywords and weights\n",
    "keywords_weights = {\n",
    "    \"tumor\": 2.0,  # High weight\n",
    "    \"chemotherapy\": 3.0,  # High weight\n",
    "    \"remission\": 2.0,  # High weight\n",
    "    \"risk\" : 2.0, # High weight\n",
    "    \"diagnosis\":  3.5, # High weight\n",
    "    \"treatment\": 2.0 # High weight\n",
    "}\n",
    "\n",
    "# Modify the input text to emphasize keywords\n",
    "for keyword, weight in keywords_weights.items():\n",
    "    # Repeat the keyword based on its weight (adjust as needed)\n",
    "    repetitions = int(weight)\n",
    "    sql_query = sql_query.replace(keyword, \" \" + keyword + \" \" * repetitions)\n",
    "\n",
    "instance_dict = { \"content\": \"Summarize \" + sql_query }\n",
    "instance = json_format.ParseDict(instance_dict, Value())\n",
    "instances = [instance]\n",
    "\n",
    "parameters_dict = {\n",
    "\n",
    "    \"candidateCount\": 1,\n",
    "\n",
    "    \"maxOutputTokens\": 500,\n",
    "\n",
    "    \"temperature\": 0.2,\n",
    "\n",
    "    \"topP\": 0.8,\n",
    "\n",
    "    \"topK\": 40\n",
    "\n",
    "}\n",
    "\n",
    "parameters = json_format.ParseDict(parameters_dict, Value())\n",
    "\n",
    "response = client.predict(\n",
    "\n",
    "    endpoint=\"projects/us-gcp-ame-con-5b680-sbx-1/locations/us-central1/publishers/google/models/medlm-large\", instances=instances, parameters=parameters\n",
    "\n",
    ")\n",
    "\n",
    "print(\"response\")\n",
    "\n",
    "predictions = response.predictions\n",
    "\n",
    "for prediction in predictions:\n",
    "    print(\" prediction:\", dict(prediction))"
   ]
  },
  {
   "cell_type": "code",
   "execution_count": 15,
   "id": "b986edbe-2c93-49fc-82c2-4e229b2fe928",
   "metadata": {
    "tags": []
   },
   "outputs": [
    {
     "name": "stdout",
     "output_type": "stream",
     "text": [
      "Cosine Similarity: 0.5294905304908752\n"
     ]
    }
   ],
   "source": [
    "from sentence_transformers import SentenceTransformer, util\n",
    "\n",
    "# Load a pre-trained sentence embedding model\n",
    "model = SentenceTransformer('all-mpnet-base-v2')\n",
    "\n",
    "# Your MedLM output\n",
    "medlm_output = \"Insulin is a hormone that is produced by the pancreas and is essential for the body's use of glucose (sugar) for energy. It is used to treat diabetes, a condition in which the body does not produce enough insulin or does not use insulin effectively. Insulin is available in several different forms, including injectable, oral, and inhaled forms. The type and dose of insulin that is prescribed will depend on the individual's needs.\"\n",
    "# Your reference text\n",
    "rag_output = \"The most frequently prescribed prescription drug is Insulin.\"\n",
    "\n",
    "# Encode the sentences into vectors\n",
    "medlm_embedding = model.encode(medlm_output)\n",
    "reference_embedding = model.encode(rag_output)\n",
    "\n",
    "# Calculate cosine similarity\n",
    "cosine_similarity = util.cos_sim(medlm_embedding, reference_embedding)[0][0]\n",
    "\n",
    "print(f\"Cosine Similarity: {cosine_similarity}\")"
   ]
  },
  {
   "cell_type": "code",
   "execution_count": 16,
   "id": "8e1e3f26-2230-4b2c-bdeb-034ddb8a986b",
   "metadata": {
    "tags": []
   },
   "outputs": [
    {
     "name": "stdout",
     "output_type": "stream",
     "text": [
      "BLEU Score: 8.202720662090001e-232\n",
      "ROUGE Scores: [{'rouge-1': {'r': 0.5, 'p': 0.07692307692307693, 'f': 0.13333333102222228}, 'rouge-2': {'r': 0.0, 'p': 0.0, 'f': 0.0}, 'rouge-l': {'r': 0.375, 'p': 0.057692307692307696, 'f': 0.09999999768888894}}]\n"
     ]
    }
   ],
   "source": [
    "from nltk.translate.bleu_score import sentence_bleu\n",
    "from rouge import Rouge\n",
    "# Load a pre-trained sentence embedding model\n",
    "model = SentenceTransformer('all-mpnet-base-v2')\n",
    "\n",
    "# Your MedLM output\n",
    "medlm_output = \"Insulin is a hormone that is produced by the pancreas and is essential for the body's use of glucose (sugar) for energy. It is used to treat diabetes, a condition in which the body does not produce enough insulin or does not use insulin effectively. Insulin is available in several different forms, including injectable, oral, and inhaled forms. The type and dose of insulin that is prescribed will depend on the individual's needs.\"\n",
    "# Your reference text\n",
    "rag_output = \"The most frequently prescribed prescription drug is Insulin.\"\n",
    "\n",
    "# Calculate BLEU score\n",
    "bleu_score = sentence_bleu([rag_output.split()], medlm_output.split())\n",
    "print(f\"BLEU Score: {bleu_score}\")\n",
    "\n",
    "# Calculate ROUGE scores\n",
    "rouge = Rouge()\n",
    "scores = rouge.get_scores(medlm_output, rag_output)\n",
    "print(f\"ROUGE Scores: {scores}\")"
   ]
  },
  {
   "cell_type": "markdown",
   "id": "5568d162-b61d-4a63-97d7-9f75321283e0",
   "metadata": {},
   "source": [
    "# Question 3"
   ]
  },
  {
   "cell_type": "code",
   "execution_count": 5,
   "id": "0b83e246-9ce9-4bc8-8608-8e888bc89c9d",
   "metadata": {
    "tags": []
   },
   "outputs": [
    {
     "name": "stdout",
     "output_type": "stream",
     "text": [
      "response\n",
      " prediction: {'citationMetadata': <proto.marshal.collections.maps.MapComposite object at 0x7f7f4969b670>, 'content': ' The most frequent order types in provider order entries are: \\n1. Medications with 17690066 entries \\n2. Lab with 6565578 entries \\n3. General Care with 5690221 entries \\n4. ADT orders with 2171456 entries \\n5. IV therapy with 2140236 entries', 'safetyAttributes': <proto.marshal.collections.maps.MapComposite object at 0x7f7f4969b1f0>}\n"
     ]
    }
   ],
   "source": [
    "# The AI Platform services require regional API endpoints.\n",
    "sql_query = \"The most frequent order types in provider order entries are: 1. Medications with 17690066 entries 2. Lab with 6565578 entries 3. General Care with 5690221 entries 4. ADT orders with 2171456 entries 5. IV therapy with 2140236 entries\"\n",
    "          \n",
    "client_options = {\"api_endpoint\": \"us-central1-aiplatform.googleapis.com\"}\n",
    "# This client only needs to be created once, and can be reused for multiple requests.\n",
    "\n",
    "client = aiplatform.gapic.PredictionServiceClient(\n",
    "\n",
    "    client_options=client_options\n",
    "\n",
    ")\n",
    "#  MedLM for summarizing oncology/multiple treatment articles\n",
    "# Define your keywords and weights\n",
    "keywords_weights = {\n",
    "    \"tumor\": 2.0,  # High weight\n",
    "    \"chemotherapy\": 3.0,  # High weight\n",
    "    \"remission\": 2.0,  # High weight\n",
    "    \"risk\" : 2.0, # High weight\n",
    "    \"diagnosis\":  3.5, # High weight\n",
    "    \"treatment\": 2.0 # High weight\n",
    "}\n",
    "\n",
    "# Modify the input text to emphasize keywords\n",
    "for keyword, weight in keywords_weights.items():\n",
    "    # Repeat the keyword based on its weight (adjust as needed)\n",
    "    repetitions = int(weight)\n",
    "    sql_query = sql_query.replace(keyword, \" \" + keyword + \" \" * repetitions)\n",
    "\n",
    "instance_dict = { \"content\": \"Summarize \" + sql_query }\n",
    "instance = json_format.ParseDict(instance_dict, Value())\n",
    "instances = [instance]\n",
    "\n",
    "parameters_dict = {\n",
    "\n",
    "    \"candidateCount\": 1,\n",
    "\n",
    "    \"maxOutputTokens\": 500,\n",
    "\n",
    "    \"temperature\": 0.2,\n",
    "\n",
    "    \"topP\": 0.8,\n",
    "\n",
    "    \"topK\": 40\n",
    "\n",
    "}\n",
    "\n",
    "parameters = json_format.ParseDict(parameters_dict, Value())\n",
    "\n",
    "response = client.predict(\n",
    "\n",
    "    endpoint=\"projects/us-gcp-ame-con-5b680-sbx-1/locations/us-central1/publishers/google/models/medlm-large\", instances=instances, parameters=parameters\n",
    "\n",
    ")\n",
    "\n",
    "print(\"response\")\n",
    "\n",
    "predictions = response.predictions\n",
    "\n",
    "for prediction in predictions:\n",
    "    print(\" prediction:\", dict(prediction))"
   ]
  },
  {
   "cell_type": "code",
   "execution_count": 17,
   "id": "0a289499-c3e9-427b-9fab-c3cae2061cab",
   "metadata": {
    "tags": []
   },
   "outputs": [
    {
     "name": "stdout",
     "output_type": "stream",
     "text": [
      "Cosine Similarity: 1.0000001192092896\n"
     ]
    }
   ],
   "source": [
    "from sentence_transformers import SentenceTransformer, util\n",
    "\n",
    "# Load a pre-trained sentence embedding model\n",
    "model = SentenceTransformer('all-mpnet-base-v2')\n",
    "\n",
    "# Your MedLM output\n",
    "medlm_output = \"The most frequent order types in provider order entries are: 1. Medications with 17690066 entries 2. Lab with 6565578 entries 3. General Care with 5690221 entries 4. ADT orders with 2171456 entries 5. IV therapy with 2140236 entries\"\n",
    "# Your reference text\n",
    "rag_output = \"The most frequent order types in provider order entries are: 1. Medications with 17690066 entries 2. Lab with 6565578 entries 3. General Care with 5690221 entries 4. ADT orders with 2171456 entries 5. IV therapy with 2140236 entries\"\n",
    "\n",
    "# Encode the sentences into vectors\n",
    "medlm_embedding = model.encode(medlm_output)\n",
    "reference_embedding = model.encode(rag_output)\n",
    "\n",
    "# Calculate cosine similarity\n",
    "cosine_similarity = util.cos_sim(medlm_embedding, reference_embedding)[0][0]\n",
    "\n",
    "print(f\"Cosine Similarity: {cosine_similarity}\")"
   ]
  },
  {
   "cell_type": "code",
   "execution_count": 18,
   "id": "6fe85ed7-e2a7-45f1-8e25-2c848255142c",
   "metadata": {
    "tags": []
   },
   "outputs": [
    {
     "name": "stdout",
     "output_type": "stream",
     "text": [
      "BLEU Score: 1.0\n",
      "ROUGE Scores: [{'rouge-1': {'r': 1.0, 'p': 1.0, 'f': 0.999999995}, 'rouge-2': {'r': 1.0, 'p': 1.0, 'f': 0.999999995}, 'rouge-l': {'r': 1.0, 'p': 1.0, 'f': 0.999999995}}]\n"
     ]
    }
   ],
   "source": [
    "from nltk.translate.bleu_score import sentence_bleu\n",
    "from rouge import Rouge\n",
    "# Load a pre-trained sentence embedding model\n",
    "model = SentenceTransformer('all-mpnet-base-v2')\n",
    "\n",
    "# Your MedLM output\n",
    "medlm_output = \"The most frequent order types in provider order entries are: 1. Medications with 17690066 entries 2. Lab with 6565578 entries 3. General Care with 5690221 entries 4. ADT orders with 2171456 entries 5. IV therapy with 2140236 entries\"\n",
    "# Your reference text\n",
    "rag_output = \"The most frequent order types in provider order entries are: 1. Medications with 17690066 entries 2. Lab with 6565578 entries 3. General Care with 5690221 entries 4. ADT orders with 2171456 entries 5. IV therapy with 2140236 entries\"\n",
    "\n",
    "# Calculate BLEU score\n",
    "bleu_score = sentence_bleu([rag_output.split()], medlm_output.split())\n",
    "print(f\"BLEU Score: {bleu_score}\")\n",
    "\n",
    "# Calculate ROUGE scores\n",
    "rouge = Rouge()\n",
    "scores = rouge.get_scores(medlm_output, rag_output)\n",
    "print(f\"ROUGE Scores: {scores}\")"
   ]
  },
  {
   "cell_type": "markdown",
   "id": "4eb5d282-fbe7-47f0-adf7-1e1ecedc70d2",
   "metadata": {},
   "source": [
    "# Question 4"
   ]
  },
  {
   "cell_type": "code",
   "execution_count": 6,
   "id": "104e7c15-69e0-4298-a9cd-21d295daaff9",
   "metadata": {
    "tags": []
   },
   "outputs": [
    {
     "name": "stdout",
     "output_type": "stream",
     "text": [
      "response\n",
      " prediction: {'citationMetadata': <proto.marshal.collections.maps.MapComposite object at 0x7f7f4969a6b0>, 'safetyAttributes': <proto.marshal.collections.maps.MapComposite object at 0x7f7f496994b0>, 'content': \" The doctor's comments indicate that the patient was admitted to the hospital and that the patient was isolated due to a vancomycin-resistant enterococcus (VRE) infection. VRE is a type of bacteria that is resistant to the antibiotic vancomycin. VRE infections can be serious and can be difficult to treat. The doctor's comments also indicate that the patient had a wound culture and a fecal culture performed. A wound culture is a test that is used to identify the bacteria that is causing an infection in a wound. A fecal culture is a test that is used to identify the bacteria that is present in a person's stool. The results of these tests can help the doctor to determine the best course of treatment for the patient.\"}\n"
     ]
    }
   ],
   "source": [
    "# The AI Platform services require regional API endpoints.\n",
    "sql_query = \"The unique names of the tests given to patients who were admitted and the doctor comments VRE isolated are 'R/O VANCOMYCIN RESISTANT ENTEROCOCCUS', 'WOUND CULTURE', and 'FECAL CULTURE - R/O VIBRIO'\"\n",
    "               \n",
    "client_options = {\"api_endpoint\": \"us-central1-aiplatform.googleapis.com\"}\n",
    "# This client only needs to be created once, and can be reused for multiple requests.\n",
    "\n",
    "client = aiplatform.gapic.PredictionServiceClient(\n",
    "\n",
    "    client_options=client_options\n",
    "\n",
    ")\n",
    "#  MedLM for summarizing oncology/multiple treatment articles\n",
    "# Define your keywords and weights\n",
    "keywords_weights = {\n",
    "    \"tumor\": 2.0,  # High weight\n",
    "    \"chemotherapy\": 3.0,  # High weight\n",
    "    \"remission\": 2.0,  # High weight\n",
    "    \"risk\" : 2.0, # High weight\n",
    "    \"diagnosis\":  3.5, # High weight\n",
    "    \"treatment\": 2.0 # High weight\n",
    "}\n",
    "\n",
    "# Modify the input text to emphasize keywords\n",
    "for keyword, weight in keywords_weights.items():\n",
    "    # Repeat the keyword based on its weight (adjust as needed)\n",
    "    repetitions = int(weight)\n",
    "    sql_query = sql_query.replace(keyword, \" \" + keyword + \" \" * repetitions)\n",
    "\n",
    "instance_dict = { \"content\": \"Summarize \" + sql_query }\n",
    "instance = json_format.ParseDict(instance_dict, Value())\n",
    "instances = [instance]\n",
    "\n",
    "parameters_dict = {\n",
    "\n",
    "    \"candidateCount\": 1,\n",
    "\n",
    "    \"maxOutputTokens\": 500,\n",
    "\n",
    "    \"temperature\": 0.2,\n",
    "\n",
    "    \"topP\": 0.8,\n",
    "\n",
    "    \"topK\": 40\n",
    "\n",
    "}\n",
    "\n",
    "parameters = json_format.ParseDict(parameters_dict, Value())\n",
    "\n",
    "response = client.predict(\n",
    "\n",
    "    endpoint=\"projects/us-gcp-ame-con-5b680-sbx-1/locations/us-central1/publishers/google/models/medlm-large\", instances=instances, parameters=parameters\n",
    "\n",
    ")\n",
    "\n",
    "print(\"response\")\n",
    "\n",
    "predictions = response.predictions\n",
    "\n",
    "for prediction in predictions:\n",
    "    print(\" prediction:\", dict(prediction))"
   ]
  },
  {
   "cell_type": "code",
   "execution_count": 19,
   "id": "09900dfa-699a-47d3-ad27-35729d3a2131",
   "metadata": {
    "tags": []
   },
   "outputs": [
    {
     "name": "stdout",
     "output_type": "stream",
     "text": [
      "Cosine Similarity: 0.881264865398407\n"
     ]
    }
   ],
   "source": [
    "from sentence_transformers import SentenceTransformer, util\n",
    "\n",
    "# Load a pre-trained sentence embedding model\n",
    "model = SentenceTransformer('all-mpnet-base-v2')\n",
    "\n",
    "# Your MedLM output\n",
    "medlm_output = \"The doctor's comments indicate that the patient was admitted to the hospital and that the patient was isolated due to a vancomycin-resistant enterococcus (VRE) infection. VRE is a type of bacteria that is resistant to the antibiotic vancomycin. VRE infections can be serious and can be difficult to treat. The doctor's comments also indicate that the patient had a wound culture and a fecal culture performed. A wound culture is a test that is used to identify the bacteria that is causing an infection in a wound. A fecal culture is a test that is used to identify the bacteria that is present in a person's stool. The results of these tests can help the doctor to determine the best course of treatment for the patient.\"\n",
    "# Your reference text\n",
    "rag_output = \"The unique names of the tests given to patients who were admitted and the doctor comments VRE isolated are 'R/O VANCOMYCIN RESISTANT ENTEROCOCCUS', 'WOUND CULTURE', and 'FECAL CULTURE - R/O VIBRIO'\"\n",
    "\n",
    "# Encode the sentences into vectors\n",
    "medlm_embedding = model.encode(medlm_output)\n",
    "reference_embedding = model.encode(rag_output)\n",
    "\n",
    "# Calculate cosine similarity\n",
    "cosine_similarity = util.cos_sim(medlm_embedding, reference_embedding)[0][0]\n",
    "\n",
    "print(f\"Cosine Similarity: {cosine_similarity}\")"
   ]
  },
  {
   "cell_type": "code",
   "execution_count": 20,
   "id": "7ea9adc0-a875-48f9-9616-68730608fbff",
   "metadata": {
    "tags": []
   },
   "outputs": [
    {
     "name": "stdout",
     "output_type": "stream",
     "text": [
      "BLEU Score: 2.5283541975158345e-155\n",
      "ROUGE Scores: [{'rouge-1': {'r': 0.3793103448275862, 'p': 0.1864406779661017, 'f': 0.24999999558109504}, 'rouge-2': {'r': 0.03333333333333333, 'p': 0.010638297872340425, 'f': 0.016129028590011238}, 'rouge-l': {'r': 0.3793103448275862, 'p': 0.1864406779661017, 'f': 0.24999999558109504}}]\n"
     ]
    }
   ],
   "source": [
    "from nltk.translate.bleu_score import sentence_bleu\n",
    "from rouge import Rouge\n",
    "# Load a pre-trained sentence embedding model\n",
    "model = SentenceTransformer('all-mpnet-base-v2')\n",
    "# Your MedLM output\n",
    "medlm_output = \"The doctor's comments indicate that the patient was admitted to the hospital and that the patient was isolated due to a vancomycin-resistant enterococcus (VRE) infection. VRE is a type of bacteria that is resistant to the antibiotic vancomycin. VRE infections can be serious and can be difficult to treat. The doctor's comments also indicate that the patient had a wound culture and a fecal culture performed. A wound culture is a test that is used to identify the bacteria that is causing an infection in a wound. A fecal culture is a test that is used to identify the bacteria that is present in a person's stool. The results of these tests can help the doctor to determine the best course of treatment for the patient.\"\n",
    "# Your reference text\n",
    "rag_output = \"The unique names of the tests given to patients who were admitted and the doctor comments VRE isolated are 'R/O VANCOMYCIN RESISTANT ENTEROCOCCUS', 'WOUND CULTURE', and 'FECAL CULTURE - R/O VIBRIO'\"\n",
    "\n",
    "# Calculate BLEU score\n",
    "bleu_score = sentence_bleu([rag_output.split()], medlm_output.split())\n",
    "print(f\"BLEU Score: {bleu_score}\")\n",
    "\n",
    "# Calculate ROUGE scores\n",
    "rouge = Rouge()\n",
    "scores = rouge.get_scores(medlm_output, rag_output)\n",
    "print(f\"ROUGE Scores: {scores}\")"
   ]
  },
  {
   "cell_type": "markdown",
   "id": "74f3baf9-bfb4-4f21-a788-5af50e5d61d6",
   "metadata": {},
   "source": [
    "# Question 5"
   ]
  },
  {
   "cell_type": "code",
   "execution_count": 7,
   "id": "d735bed5-5b03-4678-871d-4374218b328a",
   "metadata": {
    "tags": []
   },
   "outputs": [
    {
     "name": "stdout",
     "output_type": "stream",
     "text": [
      "response\n",
      " prediction: {'safetyAttributes': <proto.marshal.collections.maps.MapComposite object at 0x7f7f4969a8c0>, 'citationMetadata': <proto.marshal.collections.maps.MapComposite object at 0x7f7f4969a890>, 'content': ' There is no focal infiltrate, effusion or pneumothorax. The left internal jugular line tip is at the level of mid SVC, which is an appropriate position. The heart is enlarged, but this is unchanged from previous studies. There is no evidence of pneumonia, effusion, or pneumothorax.'}\n"
     ]
    }
   ],
   "source": [
    "# The AI Platform services require regional API endpoints.\n",
    "sql_query = \"The radiology findings of a patient who received ORTHOPAEDICS service in discharge text are: EXAMINATION:  CHEST (PORTABLE AP) INDICATION:  ___ year old woman with urosepsis with fever rule out pneumonia TECHNIQUE:  CHEST (PORTABLE AP) COMPARISON:  ___ IMPRESSION:Left internal jugular line tip is at the level of mid SVC.  Cardiomegaly is substantial, unchanged.\"\n",
    "                  \n",
    "client_options = {\"api_endpoint\": \"us-central1-aiplatform.googleapis.com\"}\n",
    "# This client only needs to be created once, and can be reused for multiple requests.\n",
    "\n",
    "client = aiplatform.gapic.PredictionServiceClient(\n",
    "\n",
    "    client_options=client_options\n",
    "\n",
    ")\n",
    "#  MedLM for summarizing oncology/multiple treatment articles\n",
    "# Define your keywords and weights\n",
    "keywords_weights = {\n",
    "    \"tumor\": 2.0,  # High weight\n",
    "    \"chemotherapy\": 3.0,  # High weight\n",
    "    \"remission\": 2.0,  # High weight\n",
    "    \"risk\" : 2.0, # High weight\n",
    "    \"diagnosis\":  3.5, # High weight\n",
    "    \"treatment\": 2.0 # High weight\n",
    "}\n",
    "\n",
    "# Modify the input text to emphasize keywords\n",
    "for keyword, weight in keywords_weights.items():\n",
    "    # Repeat the keyword based on its weight (adjust as needed)\n",
    "    repetitions = int(weight)\n",
    "    sql_query = sql_query.replace(keyword, \" \" + keyword + \" \" * repetitions)\n",
    "\n",
    "instance_dict = { \"content\": \"Summarize \" + sql_query }\n",
    "instance = json_format.ParseDict(instance_dict, Value())\n",
    "instances = [instance]\n",
    "\n",
    "parameters_dict = {\n",
    "\n",
    "    \"candidateCount\": 1,\n",
    "\n",
    "    \"maxOutputTokens\": 500,\n",
    "\n",
    "    \"temperature\": 0.2,\n",
    "\n",
    "    \"topP\": 0.8,\n",
    "\n",
    "    \"topK\": 40\n",
    "\n",
    "}\n",
    "\n",
    "parameters = json_format.ParseDict(parameters_dict, Value())\n",
    "\n",
    "response = client.predict(\n",
    "\n",
    "    endpoint=\"projects/us-gcp-ame-con-5b680-sbx-1/locations/us-central1/publishers/google/models/medlm-large\", instances=instances, parameters=parameters\n",
    "\n",
    ")\n",
    "\n",
    "print(\"response\")\n",
    "\n",
    "predictions = response.predictions\n",
    "\n",
    "for prediction in predictions:\n",
    "    print(\" prediction:\", dict(prediction))"
   ]
  },
  {
   "cell_type": "code",
   "execution_count": 21,
   "id": "f9983833-321b-49b8-9b50-038440602a2e",
   "metadata": {
    "tags": []
   },
   "outputs": [
    {
     "name": "stdout",
     "output_type": "stream",
     "text": [
      "Cosine Similarity: 0.6521257758140564\n"
     ]
    }
   ],
   "source": [
    "from sentence_transformers import SentenceTransformer, util\n",
    "\n",
    "# Load a pre-trained sentence embedding model\n",
    "model = SentenceTransformer('all-mpnet-base-v2')\n",
    "\n",
    "# Your MedLM output\n",
    "medlm_output = \"There is no focal infiltrate, effusion or pneumothorax. The left internal jugular line tip is at the level of mid SVC, which is an appropriate position. The heart is enlarged, but this is unchanged from previous studies. There is no evidence of pneumonia, effusion, or pneumothorax.\"\n",
    "rag_output = \"The radiology findings of a patient who received ORTHOPAEDICS service in discharge text are: EXAMINATION:  CHEST (PORTABLE AP) INDICATION:  ___ year old woman with urosepsis with fever rule out pneumonia TECHNIQUE:  CHEST (PORTABLE AP) COMPARISON:  ___ IMPRESSION:Left internal jugular line tip is at the level of mid SVC.  Cardiomegaly is substantial, unchanged.\"\n",
    " \n",
    "# Encode the sentences into vectors\n",
    "medlm_embedding = model.encode(medlm_output)\n",
    "reference_embedding = model.encode(rag_output)\n",
    "\n",
    "# Calculate cosine similarity\n",
    "cosine_similarity = util.cos_sim(medlm_embedding, reference_embedding)[0][0]\n",
    "\n",
    "print(f\"Cosine Similarity: {cosine_similarity}\")"
   ]
  },
  {
   "cell_type": "code",
   "execution_count": 22,
   "id": "81e82b6c-6650-49e7-81f6-d31c9e93a4a4",
   "metadata": {
    "tags": []
   },
   "outputs": [
    {
     "name": "stdout",
     "output_type": "stream",
     "text": [
      "BLEU Score: 0.177510274862403\n",
      "ROUGE Scores: [{'rouge-1': {'r': 0.26666666666666666, 'p': 0.34285714285714286, 'f': 0.299999995078125}, 'rouge-2': {'r': 0.1836734693877551, 'p': 0.21428571428571427, 'f': 0.19780219283178374}, 'rouge-l': {'r': 0.26666666666666666, 'p': 0.34285714285714286, 'f': 0.299999995078125}}]\n"
     ]
    }
   ],
   "source": [
    "from nltk.translate.bleu_score import sentence_bleu\n",
    "from rouge import Rouge\n",
    "# Load a pre-trained sentence embedding model\n",
    "model = SentenceTransformer('all-mpnet-base-v2')\n",
    "# Your MedLM output\n",
    "# Your MedLM output\n",
    "medlm_output = \"There is no focal infiltrate, effusion or pneumothorax. The left internal jugular line tip is at the level of mid SVC, which is an appropriate position. The heart is enlarged, but this is unchanged from previous studies. There is no evidence of pneumonia, effusion, or pneumothorax.\"\n",
    "rag_output = \"The radiology findings of a patient who received ORTHOPAEDICS service in discharge text are: EXAMINATION:  CHEST (PORTABLE AP) INDICATION:  ___ year old woman with urosepsis with fever rule out pneumonia TECHNIQUE:  CHEST (PORTABLE AP) COMPARISON:  ___ IMPRESSION:Left internal jugular line tip is at the level of mid SVC.  Cardiomegaly is substantial, unchanged.\"\n",
    " \n",
    "# Calculate BLEU score\n",
    "bleu_score = sentence_bleu([rag_output.split()], medlm_output.split())\n",
    "print(f\"BLEU Score: {bleu_score}\")\n",
    "\n",
    "# Calculate ROUGE scores\n",
    "rouge = Rouge()\n",
    "scores = rouge.get_scores(medlm_output, rag_output)\n",
    "print(f\"ROUGE Scores: {scores}\")"
   ]
  },
  {
   "cell_type": "markdown",
   "id": "2e536570-faa9-4f38-8335-072b5d8ccfa7",
   "metadata": {},
   "source": [
    "# Question 6"
   ]
  },
  {
   "cell_type": "code",
   "execution_count": 8,
   "id": "7de55686-045c-4358-9133-34db0b689fa1",
   "metadata": {
    "tags": []
   },
   "outputs": [
    {
     "name": "stdout",
     "output_type": "stream",
     "text": [
      "response\n",
      " prediction: {'safetyAttributes': <proto.marshal.collections.maps.MapComposite object at 0x7f7f4969b6a0>, 'citationMetadata': <proto.marshal.collections.maps.MapComposite object at 0x7f7f4064f370>, 'content': ' following the administration There is a small amount of free fluid in the right lower quadrant. There is also a small amount of free fluid in the pelvis. There is no evidence of an abscess. The feeding tube is in good position.'}\n"
     ]
    }
   ],
   "source": [
    "# The AI Platform services require regional API endpoints.\n",
    "sql_query = \"The radiology findings for the patient whose Chief Complaint was Abdominal pain in the discharge text were: EXAMINATION:  CT ABD AND PELVIS WITH CONTRAST INDICATION:  ___ with history of feeding tube, purulent drainage from wound site. Difficult venous access.NO_PO contrast Abscess?  G-tube placement? TECHNIQUE:  Single phase contrast: MDCT axial images were acquired through the abdomen and pelvis\"\n",
    "                 \n",
    "client_options = {\"api_endpoint\": \"us-central1-aiplatform.googleapis.com\"}\n",
    "# This client only needs to be created once, and can be reused for multiple requests.\n",
    "\n",
    "client = aiplatform.gapic.PredictionServiceClient(\n",
    "\n",
    "    client_options=client_options\n",
    "\n",
    ")\n",
    "#  MedLM for summarizing oncology/multiple treatment articles\n",
    "# Define your keywords and weights\n",
    "keywords_weights = {\n",
    "    \"tumor\": 2.0,  # High weight\n",
    "    \"chemotherapy\": 3.0,  # High weight\n",
    "    \"remission\": 2.0,  # High weight\n",
    "    \"risk\" : 2.0, # High weight\n",
    "    \"diagnosis\":  3.5, # High weight\n",
    "    \"treatment\": 2.0 # High weight\n",
    "}\n",
    "\n",
    "# Modify the input text to emphasize keywords\n",
    "for keyword, weight in keywords_weights.items():\n",
    "    # Repeat the keyword based on its weight (adjust as needed)\n",
    "    repetitions = int(weight)\n",
    "    sql_query = sql_query.replace(keyword, \" \" + keyword + \" \" * repetitions)\n",
    "\n",
    "instance_dict = { \"content\": \"Summarize \" + sql_query }\n",
    "instance = json_format.ParseDict(instance_dict, Value())\n",
    "instances = [instance]\n",
    "\n",
    "parameters_dict = {\n",
    "\n",
    "    \"candidateCount\": 1,\n",
    "\n",
    "    \"maxOutputTokens\": 500,\n",
    "\n",
    "    \"temperature\": 0.2,\n",
    "\n",
    "    \"topP\": 0.8,\n",
    "\n",
    "    \"topK\": 40\n",
    "\n",
    "}\n",
    "\n",
    "parameters = json_format.ParseDict(parameters_dict, Value())\n",
    "\n",
    "response = client.predict(\n",
    "\n",
    "    endpoint=\"projects/us-gcp-ame-con-5b680-sbx-1/locations/us-central1/publishers/google/models/medlm-large\", instances=instances, parameters=parameters\n",
    "\n",
    ")\n",
    "\n",
    "print(\"response\")\n",
    "\n",
    "predictions = response.predictions\n",
    "\n",
    "for prediction in predictions:\n",
    "    print(\" prediction:\", dict(prediction))"
   ]
  },
  {
   "cell_type": "code",
   "execution_count": 23,
   "id": "acfd7804-d6f5-4242-9226-c178abc54be2",
   "metadata": {
    "tags": []
   },
   "outputs": [
    {
     "name": "stdout",
     "output_type": "stream",
     "text": [
      "Cosine Similarity: 0.42527711391448975\n"
     ]
    }
   ],
   "source": [
    "from sentence_transformers import SentenceTransformer, util\n",
    "\n",
    "# Load a pre-trained sentence embedding model\n",
    "model = SentenceTransformer('all-mpnet-base-v2')\n",
    "\n",
    "# Your MedLM output\n",
    "medlm_output = \"following the administration There is a small amount of free fluid in the right lower quadrant. There is also a small amount of free fluid in the pelvis. There is no evidence of an abscess. The feeding tube is in good position.\"\n",
    "rag_output = \"The radiology findings of a patient who received ORTHOPAEDICS service in discharge text are: EXAMINATION:  CHEST (PORTABLE AP) INDICATION:  ___ year old woman with urosepsis with fever rule out pneumonia TECHNIQUE:  CHEST (PORTABLE AP) COMPARISON:  ___ IMPRESSION:Left internal jugular line tip is at the level of mid SVC.  Cardiomegaly is substantial, unchanged.\"\n",
    " \n",
    "# Encode the sentences into vectors\n",
    "medlm_embedding = model.encode(medlm_output)\n",
    "reference_embedding = model.encode(rag_output)\n",
    "\n",
    "# Calculate cosine similarity\n",
    "cosine_similarity = util.cos_sim(medlm_embedding, reference_embedding)[0][0]\n",
    "\n",
    "print(f\"Cosine Similarity: {cosine_similarity}\")"
   ]
  },
  {
   "cell_type": "code",
   "execution_count": 24,
   "id": "311074ba-851b-4ce3-84d4-ad1f5c1a3c19",
   "metadata": {
    "tags": []
   },
   "outputs": [
    {
     "name": "stdout",
     "output_type": "stream",
     "text": [
      "BLEU Score: 9.485605302572225e-232\n",
      "ROUGE Scores: [{'rouge-1': {'r': 0.13333333333333333, 'p': 0.23076923076923078, 'f': 0.16901407986510625}, 'rouge-2': {'r': 0.0, 'p': 0.0, 'f': 0.0}, 'rouge-l': {'r': 0.13333333333333333, 'p': 0.23076923076923078, 'f': 0.16901407986510625}}]\n"
     ]
    }
   ],
   "source": [
    "from nltk.translate.bleu_score import sentence_bleu\n",
    "from rouge import Rouge\n",
    "# Load a pre-trained sentence embedding model\n",
    "model = SentenceTransformer('all-mpnet-base-v2')\n",
    "\n",
    "# Your MedLM output\n",
    "medlm_output = \"following the administration There is a small amount of free fluid in the right lower quadrant. There is also a small amount of free fluid in the pelvis. There is no evidence of an abscess. The feeding tube is in good position.\"\n",
    "rag_output = \"The radiology findings of a patient who received ORTHOPAEDICS service in discharge text are: EXAMINATION:  CHEST (PORTABLE AP) INDICATION:  ___ year old woman with urosepsis with fever rule out pneumonia TECHNIQUE:  CHEST (PORTABLE AP) COMPARISON:  ___ IMPRESSION:Left internal jugular line tip is at the level of mid SVC.  Cardiomegaly is substantial, unchanged.\"\n",
    "   \n",
    "# Calculate BLEU score\n",
    "bleu_score = sentence_bleu([rag_output.split()], medlm_output.split())\n",
    "print(f\"BLEU Score: {bleu_score}\")\n",
    "\n",
    "# Calculate ROUGE scores\n",
    "rouge = Rouge()\n",
    "scores = rouge.get_scores(medlm_output, rag_output)\n",
    "print(f\"ROUGE Scores: {scores}\")"
   ]
  },
  {
   "cell_type": "markdown",
   "id": "0c9da4ca-09c7-488d-b4c6-bd7cd85d77f7",
   "metadata": {},
   "source": [
    "# Question 7"
   ]
  },
  {
   "cell_type": "code",
   "execution_count": 9,
   "id": "d5c71005-1d84-4b2f-af9d-d18ef9084d5f",
   "metadata": {
    "tags": []
   },
   "outputs": [
    {
     "name": "stdout",
     "output_type": "stream",
     "text": [
      "response\n",
      " prediction: {'citationMetadata': <proto.marshal.collections.maps.MapComposite object at 0x7f7f49698c10>, 'content': \" The patient with note_id '17829563-RR-2' had a CT HEAD W/O CONTRAST examination. The report states that 'Routine unenhanced head CT was performed and viewed in brain, intermediate and bone windows. Coronal and sagittal reformats were also performed. DOSE: Total DLP (Head) = 903 mGy-cm.'.\\n\\nThe patient with note_id '14707889-RR-3' had an ultrasound abdomen examination. The report states that 'History of hep C without treatment. Presenting with abdominal distension. Question cirrhosis. COMPARISON: None.FINDINGS: The liver is shrunken and nodular in appearance consistent with cirrhosis. There is no evidence of intrahepatic biliary duct dilatation.'.\", 'safetyAttributes': <proto.marshal.collections.maps.MapComposite object at 0x7f7f49698d30>}\n"
     ]
    }
   ],
   "source": [
    "# The AI Platform services require regional API endpoints.\n",
    "sql_query = \"The patient with note_id '17829563-RR-2' had a CT HEAD W/O CONTRAST examination where they found 'Routine unenhanced head CT was performed and viewed in brain, intermediate and bone windows.  Coronal and sagittal reformats were also performed. DOSE:  Total DLP (Head) = 903 mGy-cm. COMPARISON: ...'. The patient with note_id '14707889-RR-3' was indicated with 'History of hep C without treatment.  Presenting with abdominal distension.  Question cirrhosis. COMPARISON:  None.FINDINGS:  The liver is shrunken and nodular in appearance consistent with\\ncirrhosis.  There is no evidence of intrahepatic biliary duct dilatation.\"\n",
    "                  \n",
    "client_options = {\"api_endpoint\": \"us-central1-aiplatform.googleapis.com\"}\n",
    "# This client only needs to be created once, and can be reused for multiple requests.\n",
    "\n",
    "client = aiplatform.gapic.PredictionServiceClient(\n",
    "\n",
    "    client_options=client_options\n",
    "\n",
    ")\n",
    "#  MedLM for summarizing oncology/multiple treatment articles\n",
    "# Define your keywords and weights\n",
    "keywords_weights = {\n",
    "    \"tumor\": 2.0,  # High weight\n",
    "    \"chemotherapy\": 3.0,  # High weight\n",
    "    \"remission\": 2.0,  # High weight\n",
    "    \"risk\" : 2.0, # High weight\n",
    "    \"diagnosis\":  3.5, # High weight\n",
    "    \"treatment\": 2.0 # High weight\n",
    "}\n",
    "\n",
    "# Modify the input text to emphasize keywords\n",
    "for keyword, weight in keywords_weights.items():\n",
    "    # Repeat the keyword based on its weight (adjust as needed)\n",
    "    repetitions = int(weight)\n",
    "    sql_query = sql_query.replace(keyword, \" \" + keyword + \" \" * repetitions)\n",
    "\n",
    "instance_dict = { \"content\": \"Summarize \" + sql_query }\n",
    "instance = json_format.ParseDict(instance_dict, Value())\n",
    "instances = [instance]\n",
    "\n",
    "parameters_dict = {\n",
    "\n",
    "    \"candidateCount\": 1,\n",
    "\n",
    "    \"maxOutputTokens\": 500,\n",
    "\n",
    "    \"temperature\": 0.2,\n",
    "\n",
    "    \"topP\": 0.8,\n",
    "\n",
    "    \"topK\": 40\n",
    "\n",
    "}\n",
    "\n",
    "parameters = json_format.ParseDict(parameters_dict, Value())\n",
    "\n",
    "response = client.predict(\n",
    "\n",
    "    endpoint=\"projects/us-gcp-ame-con-5b680-sbx-1/locations/us-central1/publishers/google/models/medlm-large\", instances=instances, parameters=parameters\n",
    "\n",
    ")\n",
    "\n",
    "print(\"response\")\n",
    "\n",
    "predictions = response.predictions\n",
    "\n",
    "for prediction in predictions:\n",
    "    print(\" prediction:\", dict(prediction))"
   ]
  },
  {
   "cell_type": "code",
   "execution_count": 25,
   "id": "fefa69b7-5a99-4d71-8f7b-567a0aa28b41",
   "metadata": {
    "tags": []
   },
   "outputs": [
    {
     "name": "stdout",
     "output_type": "stream",
     "text": [
      "Cosine Similarity: 0.9914638996124268\n"
     ]
    }
   ],
   "source": [
    "from sentence_transformers import SentenceTransformer, util\n",
    "\n",
    "# Load a pre-trained sentence embedding model\n",
    "model = SentenceTransformer('all-mpnet-base-v2')\n",
    "\n",
    "# Your MedLM output\n",
    "medlm_output = \"The patient with note_id '17829563-RR-2' had a CT HEAD W/O CONTRAST examination. The report states that 'Routine unenhanced head CT was performed and viewed in brain, intermediate and bone windows. Coronal and sagittal reformats were also performed. DOSE: Total DLP (Head) = 903 mGy-cm.'.\\n\\nThe patient with note_id '14707889-RR-3' had an ultrasound abdomen examination. The report states that 'History of hep C without treatment. Presenting with abdominal distension. Question cirrhosis. COMPARISON: None.FINDINGS: The liver is shrunken and nodular in appearance consistent with cirrhosis. There is no evidence of intrahepatic biliary duct dilatation.\"\n",
    "rag_output = \"The patient with note_id '17829563-RR-2' had a CT HEAD W/O CONTRAST examination where they found 'Routine unenhanced head CT was performed and viewed in brain, intermediate and bone windows.  Coronal and sagittal reformats were also performed. DOSE:  Total DLP (Head) = 903 mGy-cm. COMPARISON: ...'. The patient with note_id '14707889-RR-3' was indicated with 'History of hep C without treatment.  Presenting with abdominal distension.  Question cirrhosis. COMPARISON:  None.FINDINGS:  The liver is shrunken and nodular in appearance consistent with\\ncirrhosis.  There is no evidence of intrahepatic biliary duct dilatation.\"\n",
    "\n",
    "# Encode the sentences into vectors\n",
    "medlm_embedding = model.encode(medlm_output)\n",
    "reference_embedding = model.encode(rag_output)\n",
    "\n",
    "# Calculate cosine similarity\n",
    "cosine_similarity = util.cos_sim(medlm_embedding, reference_embedding)[0][0]\n",
    "\n",
    "print(f\"Cosine Similarity: {cosine_similarity}\")"
   ]
  },
  {
   "cell_type": "code",
   "execution_count": 26,
   "id": "49e8152f-7ec8-49d8-aed9-7af774f66821",
   "metadata": {
    "tags": []
   },
   "outputs": [
    {
     "name": "stdout",
     "output_type": "stream",
     "text": [
      "BLEU Score: 0.7830303116583168\n",
      "ROUGE Scores: [{'rouge-1': {'r': 0.9420289855072463, 'p': 0.9154929577464789, 'f': 0.928571423572449}, 'rouge-2': {'r': 0.8809523809523809, 'p': 0.8604651162790697, 'f': 0.8705882302948097}, 'rouge-l': {'r': 0.9420289855072463, 'p': 0.9154929577464789, 'f': 0.928571423572449}}]\n"
     ]
    }
   ],
   "source": [
    "from nltk.translate.bleu_score import sentence_bleu\n",
    "from rouge import Rouge\n",
    "# Load a pre-trained sentence embedding model\n",
    "model = SentenceTransformer('all-mpnet-base-v2')\n",
    "\n",
    "# Your MedLM output\n",
    "medlm_output = \"The patient with note_id '17829563-RR-2' had a CT HEAD W/O CONTRAST examination. The report states that 'Routine unenhanced head CT was performed and viewed in brain, intermediate and bone windows. Coronal and sagittal reformats were also performed. DOSE: Total DLP (Head) = 903 mGy-cm.'.\\n\\nThe patient with note_id '14707889-RR-3' had an ultrasound abdomen examination. The report states that 'History of hep C without treatment. Presenting with abdominal distension. Question cirrhosis. COMPARISON: None.FINDINGS: The liver is shrunken and nodular in appearance consistent with cirrhosis. There is no evidence of intrahepatic biliary duct dilatation.\"\n",
    "rag_output = \"The patient with note_id '17829563-RR-2' had a CT HEAD W/O CONTRAST examination where they found 'Routine unenhanced head CT was performed and viewed in brain, intermediate and bone windows.  Coronal and sagittal reformats were also performed. DOSE:  Total DLP (Head) = 903 mGy-cm. COMPARISON: ...'. The patient with note_id '14707889-RR-3' was indicated with 'History of hep C without treatment.  Presenting with abdominal distension.  Question cirrhosis. COMPARISON:  None.FINDINGS:  The liver is shrunken and nodular in appearance consistent with\\ncirrhosis.  There is no evidence of intrahepatic biliary duct dilatation.\"\n",
    "   \n",
    "# Calculate BLEU score\n",
    "bleu_score = sentence_bleu([rag_output.split()], medlm_output.split())\n",
    "print(f\"BLEU Score: {bleu_score}\")\n",
    "\n",
    "# Calculate ROUGE scores\n",
    "rouge = Rouge()\n",
    "scores = rouge.get_scores(medlm_output, rag_output)\n",
    "print(f\"ROUGE Scores: {scores}\")"
   ]
  },
  {
   "cell_type": "markdown",
   "id": "92d8772e-f539-4400-93e1-1be3ed239f11",
   "metadata": {},
   "source": [
    "# Question 8"
   ]
  },
  {
   "cell_type": "code",
   "execution_count": 10,
   "id": "a630b2bd-14a4-4d67-9fe9-304a9153ebbc",
   "metadata": {
    "tags": []
   },
   "outputs": [
    {
     "name": "stdout",
     "output_type": "stream",
     "text": [
      "response\n",
      " prediction: {'safetyAttributes': <proto.marshal.collections.maps.MapComposite object at 0x7f7f4969b2b0>, 'citationMetadata': <proto.marshal.collections.maps.MapComposite object at 0x7f7f4064d5d0>, 'content': \" The patient has a mild homogeneous plaque in the proximal internal carotid artery, which is the artery that supplies blood to the brain. This plaque does not appear to be causing any significant obstruction to blood flow, as the peak systolic velocity in the common carotid artery is normal. However, the patient's history of coronary artery disease suggests that they may be at increased risk of developing atherosclerosis, which is the buildup of fatty deposits in the arteries. As such, it is important for the patient to continue to follow a healthy lifestyle and to manage their risk factors for atherosclerosis, such as high blood pressure, high cholesterol, and diabetes. The patient should also continue to undergo regular medical checkups to monitor their cardiovascular health and to receive any necessary treatment.\"}\n"
     ]
    }
   ],
   "source": [
    "# The AI Platform services require regional API endpoints.\n",
    "sql_query = \"The radiology findings of a patient with a past medical history of coronary artery disease are as follows: There is a mild homogeneous plaque in the proximal internal carotid artery without significant increase in peak systolic velocities. The peak systolic velocity in the common carotid artery is 86 cm/sec.\"\n",
    "                \n",
    "client_options = {\"api_endpoint\": \"us-central1-aiplatform.googleapis.com\"}\n",
    "# This client only needs to be created once, and can be reused for multiple requests.\n",
    "\n",
    "client = aiplatform.gapic.PredictionServiceClient(\n",
    "\n",
    "    client_options=client_options\n",
    "\n",
    ")\n",
    "#  MedLM for summarizing oncology/multiple treatment articles\n",
    "# Define your keywords and weights\n",
    "keywords_weights = {\n",
    "    \"tumor\": 2.0,  # High weight\n",
    "    \"chemotherapy\": 3.0,  # High weight\n",
    "    \"remission\": 2.0,  # High weight\n",
    "    \"risk\" : 2.0, # High weight\n",
    "    \"diagnosis\":  3.5, # High weight\n",
    "    \"treatment\": 2.0 # High weight\n",
    "}\n",
    "\n",
    "# Modify the input text to emphasize keywords\n",
    "for keyword, weight in keywords_weights.items():\n",
    "    # Repeat the keyword based on its weight (adjust as needed)\n",
    "    repetitions = int(weight)\n",
    "    sql_query = sql_query.replace(keyword, \" \" + keyword + \" \" * repetitions)\n",
    "\n",
    "instance_dict = { \"content\": \"Summarize \" + sql_query }\n",
    "instance = json_format.ParseDict(instance_dict, Value())\n",
    "instances = [instance]\n",
    "\n",
    "parameters_dict = {\n",
    "\n",
    "    \"candidateCount\": 1,\n",
    "\n",
    "    \"maxOutputTokens\": 500,\n",
    "\n",
    "    \"temperature\": 0.2,\n",
    "\n",
    "    \"topP\": 0.8,\n",
    "\n",
    "    \"topK\": 40\n",
    "\n",
    "}\n",
    "\n",
    "parameters = json_format.ParseDict(parameters_dict, Value())\n",
    "\n",
    "response = client.predict(\n",
    "\n",
    "    endpoint=\"projects/us-gcp-ame-con-5b680-sbx-1/locations/us-central1/publishers/google/models/medlm-large\", instances=instances, parameters=parameters\n",
    "\n",
    ")\n",
    "\n",
    "print(\"response\")\n",
    "\n",
    "predictions = response.predictions\n",
    "\n",
    "for prediction in predictions:\n",
    "    print(\" prediction:\", dict(prediction))"
   ]
  },
  {
   "cell_type": "code",
   "execution_count": 27,
   "id": "51a7612d-b193-4f31-95e5-a17280417408",
   "metadata": {
    "tags": []
   },
   "outputs": [
    {
     "name": "stdout",
     "output_type": "stream",
     "text": [
      "Cosine Similarity: 0.7251367568969727\n"
     ]
    }
   ],
   "source": [
    "from sentence_transformers import SentenceTransformer, util\n",
    "\n",
    "# Load a pre-trained sentence embedding model\n",
    "model = SentenceTransformer('all-mpnet-base-v2')\n",
    "\n",
    "# Your MedLM output\n",
    "medlm_output = \"The patient has a mild homogeneous plaque in the proximal internal carotid artery, which is the artery that supplies blood to the brain. This plaque does not appear to be causing any significant obstruction to blood flow, as the peak systolic velocity in the common carotid artery is normal. However, the patient's history of coronary artery disease suggests that they may be at increased risk of developing atherosclerosis, which is the buildup of fatty deposits in the arteries. As such, it is important for the patient to continue to follow a healthy lifestyle and to manage their risk factors for atherosclerosis, such as high blood pressure, high cholesterol, and diabetes. The patient should also continue to undergo regular medical checkups to monitor their cardiovascular health and to receive any necessary treatment.\"\n",
    "rag_output = \"The radiology findings of a patient with a past medical history of coronary artery disease are as follows: There is a mild homogeneous plaque in the proximal internal carotid artery without significant increase in peak systolic velocities. The peak systolic velocity in the common carotid artery is 86 cm/sec.\"\n",
    "\n",
    "# Encode the sentences into vectors\n",
    "medlm_embedding = model.encode(medlm_output)\n",
    "reference_embedding = model.encode(rag_output)\n",
    "\n",
    "# Calculate cosine similarity\n",
    "cosine_similarity = util.cos_sim(medlm_embedding, reference_embedding)[0][0]\n",
    "\n",
    "print(f\"Cosine Similarity: {cosine_similarity}\")"
   ]
  },
  {
   "cell_type": "code",
   "execution_count": 28,
   "id": "9bbd86a9-286b-4685-9c98-44a1c04e425b",
   "metadata": {
    "tags": []
   },
   "outputs": [
    {
     "name": "stdout",
     "output_type": "stream",
     "text": [
      "BLEU Score: 0.15488804048326366\n",
      "ROUGE Scores: [{'rouge-1': {'r': 0.6666666666666666, 'p': 0.2823529411764706, 'f': 0.39669421069599076}, 'rouge-2': {'r': 0.4222222222222222, 'p': 0.15447154471544716, 'f': 0.22619047226828237}, 'rouge-l': {'r': 0.6388888888888888, 'p': 0.27058823529411763, 'f': 0.380165285076156}}]\n"
     ]
    }
   ],
   "source": [
    "from nltk.translate.bleu_score import sentence_bleu\n",
    "from rouge import Rouge\n",
    "# Load a pre-trained sentence embedding model\n",
    "model = SentenceTransformer('all-mpnet-base-v2')\n",
    "\n",
    "# Your MedLM output\n",
    "medlm_output = \"The patient has a mild homogeneous plaque in the proximal internal carotid artery, which is the artery that supplies blood to the brain. This plaque does not appear to be causing any significant obstruction to blood flow, as the peak systolic velocity in the common carotid artery is normal. However, the patient's history of coronary artery disease suggests that they may be at increased risk of developing atherosclerosis, which is the buildup of fatty deposits in the arteries. As such, it is important for the patient to continue to follow a healthy lifestyle and to manage their risk factors for atherosclerosis, such as high blood pressure, high cholesterol, and diabetes. The patient should also continue to undergo regular medical checkups to monitor their cardiovascular health and to receive any necessary treatment.\"\n",
    "rag_output = \"The radiology findings of a patient with a past medical history of coronary artery disease are as follows: There is a mild homogeneous plaque in the proximal internal carotid artery without significant increase in peak systolic velocities. The peak systolic velocity in the common carotid artery is 86 cm/sec.\"\n",
    "  \n",
    "# Calculate BLEU score\n",
    "bleu_score = sentence_bleu([rag_output.split()], medlm_output.split())\n",
    "print(f\"BLEU Score: {bleu_score}\")\n",
    "\n",
    "# Calculate ROUGE scores\n",
    "rouge = Rouge()\n",
    "scores = rouge.get_scores(medlm_output, rag_output)\n",
    "print(f\"ROUGE Scores: {scores}\")"
   ]
  },
  {
   "cell_type": "markdown",
   "id": "cb6dfffd-faad-4ab4-a657-0b7b537b55a6",
   "metadata": {},
   "source": [
    "# Question 9"
   ]
  },
  {
   "cell_type": "code",
   "execution_count": 11,
   "id": "95d54153-86f0-41d1-9cc3-b22bae51f52e",
   "metadata": {
    "tags": []
   },
   "outputs": [
    {
     "name": "stdout",
     "output_type": "stream",
     "text": [
      "response\n",
      " prediction: {'content': ' There are two patients who have allergies to Morphine. The first patient has an altered mental status and is in the MEDICINE department. No major surgical or invasive procedure was performed. The second patient was admitted to the UROLOGY department for urinary incontinence. This patient is also allergic to Lipitor and Oxycodone, and no major surgical or invasive procedure was reported. The specific medications on admission for these patients are not provided in the available details.', 'safetyAttributes': <proto.marshal.collections.maps.MapComposite object at 0x7f7f4969a800>, 'citationMetadata': <proto.marshal.collections.maps.MapComposite object at 0x7f7f4061ab30>}\n"
     ]
    }
   ],
   "source": [
    "# The AI Platform services require regional API endpoints.\n",
    "sql_query = \"Two patients had allergies to Morphine. Their admission notes include the following information: 1. The first patient has an altered mental status and is in the MEDICINE department. No major surgical or invasive procedure was performed. 2. The second patient was admitted to the UROLOGY department for urinary incontinence. This patient is also allergic to Lipitor and Oxycodone, and no major surgical or invasive procedure was reported. The specific medications on admission for these patients are not provided in the available details.\"\n",
    "                 \n",
    "client_options = {\"api_endpoint\": \"us-central1-aiplatform.googleapis.com\"}\n",
    "# This client only needs to be created once, and can be reused for multiple requests.\n",
    "\n",
    "client = aiplatform.gapic.PredictionServiceClient(\n",
    "\n",
    "    client_options=client_options\n",
    "\n",
    ")\n",
    "#  MedLM for summarizing oncology/multiple treatment articles\n",
    "# Define your keywords and weights\n",
    "keywords_weights = {\n",
    "    \"tumor\": 2.0,  # High weight\n",
    "    \"chemotherapy\": 3.0,  # High weight\n",
    "    \"remission\": 2.0,  # High weight\n",
    "    \"risk\" : 2.0, # High weight\n",
    "    \"diagnosis\":  3.5, # High weight\n",
    "    \"treatment\": 2.0 # High weight\n",
    "}\n",
    "\n",
    "# Modify the input text to emphasize keywords\n",
    "for keyword, weight in keywords_weights.items():\n",
    "    # Repeat the keyword based on its weight (adjust as needed)\n",
    "    repetitions = int(weight)\n",
    "    sql_query = sql_query.replace(keyword, \" \" + keyword + \" \" * repetitions)\n",
    "\n",
    "instance_dict = { \"content\": \"Summarize \" + sql_query }\n",
    "instance = json_format.ParseDict(instance_dict, Value())\n",
    "instances = [instance]\n",
    "\n",
    "parameters_dict = {\n",
    "\n",
    "    \"candidateCount\": 1,\n",
    "\n",
    "    \"maxOutputTokens\": 500,\n",
    "\n",
    "    \"temperature\": 0.2,\n",
    "\n",
    "    \"topP\": 0.8,\n",
    "\n",
    "    \"topK\": 40\n",
    "\n",
    "}\n",
    "\n",
    "parameters = json_format.ParseDict(parameters_dict, Value())\n",
    "\n",
    "response = client.predict(\n",
    "\n",
    "    endpoint=\"projects/us-gcp-ame-con-5b680-sbx-1/locations/us-central1/publishers/google/models/medlm-large\", instances=instances, parameters=parameters\n",
    "\n",
    ")\n",
    "\n",
    "print(\"response\")\n",
    "\n",
    "predictions = response.predictions\n",
    "\n",
    "for prediction in predictions:\n",
    "    print(\" prediction:\", dict(prediction))"
   ]
  },
  {
   "cell_type": "code",
   "execution_count": 29,
   "id": "6765f40b-17c5-4ade-b017-26de8f34f679",
   "metadata": {
    "tags": []
   },
   "outputs": [
    {
     "name": "stdout",
     "output_type": "stream",
     "text": [
      "Cosine Similarity: 0.9855380654335022\n"
     ]
    }
   ],
   "source": [
    "from sentence_transformers import SentenceTransformer, util\n",
    "\n",
    "# Load a pre-trained sentence embedding model\n",
    "model = SentenceTransformer('all-mpnet-base-v2')\n",
    "\n",
    "# Your MedLM output\n",
    "medlm_output = \"There are two patients who have allergies to Morphine. The first patient has an altered mental status and is in the MEDICINE department. No major surgical or invasive procedure was performed. The second patient was admitted to the UROLOGY department for urinary incontinence. This patient is also allergic to Lipitor and Oxycodone, and no major surgical or invasive procedure was reported. The specific medications on admission for these patients are not provided in the available details.\"\n",
    "rag_output = \"Two patients had allergies to Morphine. Their admission notes include the following information: 1. The first patient has an altered mental status and is in the MEDICINE department. No major surgical or invasive procedure was performed. 2. The second patient was admitted to the UROLOGY department for urinary incontinence. This patient is also allergic to Lipitor and Oxycodone, and no major surgical or invasive procedure was reported. The specific medications on admission for these patients are not provided in the available details.\"\n",
    "\n",
    "# Encode the sentences into vectors\n",
    "medlm_embedding = model.encode(medlm_output)\n",
    "reference_embedding = model.encode(rag_output)\n",
    "\n",
    "# Calculate cosine similarity\n",
    "cosine_similarity = util.cos_sim(medlm_embedding, reference_embedding)[0][0]\n",
    "\n",
    "print(f\"Cosine Similarity: {cosine_similarity}\")"
   ]
  },
  {
   "cell_type": "code",
   "execution_count": 30,
   "id": "c283d95b-2d6b-4286-9dc3-7f0a32c17306",
   "metadata": {
    "tags": []
   },
   "outputs": [
    {
     "name": "stdout",
     "output_type": "stream",
     "text": [
      "BLEU Score: 0.8143610145564801\n",
      "ROUGE Scores: [{'rouge-1': {'r': 0.8448275862068966, 'p': 0.9245283018867925, 'f': 0.8828828778930282}, 'rouge-2': {'r': 0.8133333333333334, 'p': 0.8840579710144928, 'f': 0.847222217230903}, 'rouge-l': {'r': 0.8448275862068966, 'p': 0.9245283018867925, 'f': 0.8828828778930282}}]\n"
     ]
    }
   ],
   "source": [
    "from nltk.translate.bleu_score import sentence_bleu\n",
    "from rouge import Rouge\n",
    "# Load a pre-trained sentence embedding model\n",
    "model = SentenceTransformer('all-mpnet-base-v2')\n",
    "\n",
    "# Your MedLM output\n",
    "medlm_output = \"There are two patients who have allergies to Morphine. The first patient has an altered mental status and is in the MEDICINE department. No major surgical or invasive procedure was performed. The second patient was admitted to the UROLOGY department for urinary incontinence. This patient is also allergic to Lipitor and Oxycodone, and no major surgical or invasive procedure was reported. The specific medications on admission for these patients are not provided in the available details.\"\n",
    "rag_output = \"Two patients had allergies to Morphine. Their admission notes include the following information: 1. The first patient has an altered mental status and is in the MEDICINE department. No major surgical or invasive procedure was performed. 2. The second patient was admitted to the UROLOGY department for urinary incontinence. This patient is also allergic to Lipitor and Oxycodone, and no major surgical or invasive procedure was reported. The specific medications on admission for these patients are not provided in the available details.\"\n",
    " \n",
    "# Calculate BLEU score\n",
    "bleu_score = sentence_bleu([rag_output.split()], medlm_output.split())\n",
    "print(f\"BLEU Score: {bleu_score}\")\n",
    "\n",
    "# Calculate ROUGE scores\n",
    "rouge = Rouge()\n",
    "scores = rouge.get_scores(medlm_output, rag_output)\n",
    "print(f\"ROUGE Scores: {scores}\")"
   ]
  },
  {
   "cell_type": "markdown",
   "id": "2fed8d06-2872-4a2b-be98-219cd83b86e7",
   "metadata": {},
   "source": [
    "# Question 10"
   ]
  },
  {
   "cell_type": "code",
   "execution_count": 12,
   "id": "34ed04a6-5d34-4a35-8d86-7f2a956ce9cb",
   "metadata": {
    "tags": []
   },
   "outputs": [
    {
     "name": "stdout",
     "output_type": "stream",
     "text": [
      "response\n",
      " prediction: {'safetyAttributes': <proto.marshal.collections.maps.MapComposite object at 0x7f7f496994b0>, 'content': \" The three most frequent procedures are 'Venous catheterization, not elsewhere classified' with 13928 occurrences, 'Insertion of Infusion Device into Superior Vena Cava, Percutaneous Approach' with 10061 occurrences and 'Other nonoperative respiratory measurements' with 10041 occurrences.\\n\\n'Venous catheterization, not elsewhere classified' is the insertion of a catheter into a vein. It is a common procedure that is used for a variety of purposes, such as administering fluids, medications, or blood products, or for collecting blood samples.\\n\\n'Insertion of Infusion Device into Superior Vena Cava, Percutaneous Approach' is the placement of a catheter into the superior vena cava, a large vein that carries blood from the upper body to the heart. This procedure is often used to administer fluids, medications, or nutrition to patients who are unable to receive them through their veins.\\n\\n'Other nonoperative respiratory measurements' refers to a variety of tests that are used to assess the function of the lungs. These tests may include spirometry, which measures the amount of air that a person can breathe in and out, and pulse oximetry, which measures the level of oxygen in the blood.\\n\\nThe frequency of these procedures reflects the fact that they are all common and important medical procedures that are used to diagnose and treat a variety of conditions.\", 'citationMetadata': <proto.marshal.collections.maps.MapComposite object at 0x7f7f4064f220>}\n"
     ]
    }
   ],
   "source": [
    "# The AI Platform services require regional API endpoints.\n",
    "sql_query = \"The three most frequent procedures are 'Venous catheterization, not elsewhere classified' with 13928 occurrences, 'Insertion of Infusion Device into Superior Vena Cava, Percutaneous Approach' with 10061 occurrences and 'Other nonoperative respiratory measurements' with 10041 occurrences.\"\n",
    "                   \n",
    "         \n",
    "client_options = {\"api_endpoint\": \"us-central1-aiplatform.googleapis.com\"}\n",
    "# This client only needs to be created once, and can be reused for multiple requests.\n",
    "\n",
    "client = aiplatform.gapic.PredictionServiceClient(\n",
    "\n",
    "    client_options=client_options\n",
    "\n",
    ")\n",
    "#  MedLM for summarizing oncology/multiple treatment articles\n",
    "# Define your keywords and weights\n",
    "keywords_weights = {\n",
    "    \"tumor\": 2.0,  # High weight\n",
    "    \"chemotherapy\": 3.0,  # High weight\n",
    "    \"remission\": 2.0,  # High weight\n",
    "    \"risk\" : 2.0, # High weight\n",
    "    \"diagnosis\":  3.5, # High weight\n",
    "    \"treatment\": 2.0 # High weight\n",
    "}\n",
    "\n",
    "# Modify the input text to emphasize keywords\n",
    "for keyword, weight in keywords_weights.items():\n",
    "    # Repeat the keyword based on its weight (adjust as needed)\n",
    "    repetitions = int(weight)\n",
    "    sql_query = sql_query.replace(keyword, \" \" + keyword + \" \" * repetitions)\n",
    "\n",
    "instance_dict = { \"content\": \"Summarize \" + sql_query }\n",
    "instance = json_format.ParseDict(instance_dict, Value())\n",
    "instances = [instance]\n",
    "\n",
    "parameters_dict = {\n",
    "\n",
    "    \"candidateCount\": 1,\n",
    "\n",
    "    \"maxOutputTokens\": 500,\n",
    "\n",
    "    \"temperature\": 0.2,\n",
    "\n",
    "    \"topP\": 0.8,\n",
    "\n",
    "    \"topK\": 40\n",
    "\n",
    "}\n",
    "\n",
    "parameters = json_format.ParseDict(parameters_dict, Value())\n",
    "\n",
    "response = client.predict(\n",
    "\n",
    "    endpoint=\"projects/us-gcp-ame-con-5b680-sbx-1/locations/us-central1/publishers/google/models/medlm-large\", instances=instances, parameters=parameters\n",
    "\n",
    ")\n",
    "\n",
    "print(\"response\")\n",
    "\n",
    "predictions = response.predictions\n",
    "\n",
    "for prediction in predictions:\n",
    "    print(\" prediction:\", dict(prediction))"
   ]
  },
  {
   "cell_type": "code",
   "execution_count": 32,
   "id": "4bd8b9f8-070b-4acc-af0f-9a3fbbcf10e5",
   "metadata": {
    "tags": []
   },
   "outputs": [
    {
     "name": "stdout",
     "output_type": "stream",
     "text": [
      "Cosine Similarity: 0.8640492558479309\n"
     ]
    }
   ],
   "source": [
    "from sentence_transformers import SentenceTransformer, util\n",
    "\n",
    "# Load a pre-trained sentence embedding model\n",
    "model = SentenceTransformer('all-mpnet-base-v2')\n",
    "\n",
    "# Your MedLM output\n",
    "medlm_output = \"The three most frequent procedures are 'Venous catheterization, not elsewhere classified' with 13928 occurrences, 'Insertion of Infusion Device into Superior Vena Cava, Percutaneous Approach' with 10061 occurrences and 'Other nonoperative respiratory measurements' with 10041 occurrences.\\n\\n'Venous catheterization, not elsewhere classified' is the insertion of a catheter into a vein. It is a common procedure that is used for a variety of purposes, such as administering fluids, medications, or blood products, or for collecting blood samples.\\n\\n'Insertion of Infusion Device into Superior Vena Cava, Percutaneous Approach' is the placement of a catheter into the superior vena cava, a large vein that carries blood from the upper body to the heart. This procedure is often used to administer fluids, medications, or nutrition to patients who are unable to receive them through their veins.\\n\\n'Other nonoperative respiratory measurements' refers to a variety of tests that are used to assess the function of the lungs. These tests may include spirometry, which measures the amount of air that a person can breathe in and out, and pulse oximetry, which measures the level of oxygen in the blood.\\n\\nThe frequency of these procedures reflects the fact that they are all common and important medical procedures that are used to diagnose and treat a variety of conditions.\"\n",
    "rag_output = \"The three most frequent procedures are 'Venous catheterization, not elsewhere classified' with 13928 occurrences, 'Insertion of Infusion Device into Superior Vena Cava, Percutaneous Approach' with 10061 occurrences and 'Other nonoperative respiratory measurements' with 10041 occurrences.\"\n",
    "\n",
    "# Encode the sentences into vectors\n",
    "medlm_embedding = model.encode(medlm_output)\n",
    "reference_embedding = model.encode(rag_output)\n",
    "\n",
    "# Calculate cosine similarity\n",
    "cosine_similarity = util.cos_sim(medlm_embedding, reference_embedding)[0][0]\n",
    "\n",
    "print(f\"Cosine Similarity: {cosine_similarity}\")"
   ]
  },
  {
   "cell_type": "code",
   "execution_count": 31,
   "id": "bdc138c6-62c1-400c-96b0-f20432a4644a",
   "metadata": {
    "tags": []
   },
   "outputs": [
    {
     "name": "stdout",
     "output_type": "stream",
     "text": [
      "BLEU Score: 0.16058423405363334\n",
      "ROUGE Scores: [{'rouge-1': {'r': 1.0, 'p': 0.2857142857142857, 'f': 0.4444444409876544}, 'rouge-2': {'r': 1.0, 'p': 0.192090395480226, 'f': 0.3222748788131444}, 'rouge-l': {'r': 1.0, 'p': 0.2857142857142857, 'f': 0.4444444409876544}}]\n"
     ]
    }
   ],
   "source": [
    "from nltk.translate.bleu_score import sentence_bleu\n",
    "from rouge import Rouge\n",
    "# Load a pre-trained sentence embedding model\n",
    "model = SentenceTransformer('all-mpnet-base-v2')\n",
    "\n",
    "# Your MedLM output\n",
    "medlm_output = \"The three most frequent procedures are 'Venous catheterization, not elsewhere classified' with 13928 occurrences, 'Insertion of Infusion Device into Superior Vena Cava, Percutaneous Approach' with 10061 occurrences and 'Other nonoperative respiratory measurements' with 10041 occurrences.\\n\\n'Venous catheterization, not elsewhere classified' is the insertion of a catheter into a vein. It is a common procedure that is used for a variety of purposes, such as administering fluids, medications, or blood products, or for collecting blood samples.\\n\\n'Insertion of Infusion Device into Superior Vena Cava, Percutaneous Approach' is the placement of a catheter into the superior vena cava, a large vein that carries blood from the upper body to the heart. This procedure is often used to administer fluids, medications, or nutrition to patients who are unable to receive them through their veins.\\n\\n'Other nonoperative respiratory measurements' refers to a variety of tests that are used to assess the function of the lungs. These tests may include spirometry, which measures the amount of air that a person can breathe in and out, and pulse oximetry, which measures the level of oxygen in the blood.\\n\\nThe frequency of these procedures reflects the fact that they are all common and important medical procedures that are used to diagnose and treat a variety of conditions.\"\n",
    "rag_output = \"The three most frequent procedures are 'Venous catheterization, not elsewhere classified' with 13928 occurrences, 'Insertion of Infusion Device into Superior Vena Cava, Percutaneous Approach' with 10061 occurrences and 'Other nonoperative respiratory measurements' with 10041 occurrences.\"\n",
    "\n",
    "# Calculate BLEU score\n",
    "bleu_score = sentence_bleu([rag_output.split()], medlm_output.split())\n",
    "print(f\"BLEU Score: {bleu_score}\")\n",
    "\n",
    "# Calculate ROUGE scores\n",
    "rouge = Rouge()\n",
    "scores = rouge.get_scores(medlm_output, rag_output)\n",
    "print(f\"ROUGE Scores: {scores}\")"
   ]
  },
  {
   "cell_type": "code",
   "execution_count": null,
   "id": "e0311608-9795-4e1d-8da5-02bd5162a677",
   "metadata": {},
   "outputs": [],
   "source": []
  },
  {
   "cell_type": "markdown",
   "id": "e094aa62-0f73-4f98-8c30-ae96870e907f",
   "metadata": {},
   "source": [
    "## Evaluation - Medlm pretrained Model Prompt (not trained)\n",
    "\n",
    "Same question asked"
   ]
  },
  {
   "cell_type": "code",
   "execution_count": 4,
   "id": "b4578d77-0f2a-4ec2-bddd-4e39786508ce",
   "metadata": {
    "tags": []
   },
   "outputs": [
    {
     "name": "stdout",
     "output_type": "stream",
     "text": [
      "response\n",
      " prediction: {'content': \" Fentanyl is a potent opioid pain medication that is used to treat moderate to severe pain. It is often used in the post-operative setting to help manage pain after surgery. Norepinephrine is a medication that is used to increase blood pressure and improve blood flow to the body's organs. It is often used in the post-operative setting to help maintain blood pressure and prevent shock. Potassium chloride is a medication that is used to replace potassium that has been lost from the body. It is often used in the post-operative setting to help maintain electrolyte balance and prevent complications.\", 'citationMetadata': <proto.marshal.collections.maps.MapComposite object at 0x7f37f72c7430>, 'safetyAttributes': <proto.marshal.collections.maps.MapComposite object at 0x7f37f72c5d50>}\n"
     ]
    }
   ],
   "source": [
    "client_options = {\"api_endpoint\": \"us-central1-aiplatform.googleapis.com\"}\n",
    "\n",
    "# Initialize client that will be used to create and send requests.\n",
    "\n",
    "# This client only needs to be created once, and can be reused for multiple requests.\n",
    "\n",
    "client = aiplatform.gapic.PredictionServiceClient(\n",
    "\n",
    "    client_options=client_options\n",
    "\n",
    ")\n",
    "\n",
    "instance_dict = { \"content\": \"Summarize the unique medications prescribed to post-op patients are Fentanyl Citrate, Norepinephrine, and Potassium C 20mEq/50mL 50mL IVPB.\"}\n",
    "\n",
    "instance = json_format.ParseDict(instance_dict, Value())\n",
    "\n",
    "instances = [instance]\n",
    "\n",
    "parameters_dict = {\n",
    "\n",
    "    \"candidateCount\": 1,\n",
    "\n",
    "    \"maxOutputTokens\": 500,\n",
    "\n",
    "    \"temperature\": 0.2,\n",
    "\n",
    "    \"topP\": 0.8,\n",
    "\n",
    "    \"topK\": 40\n",
    "\n",
    "}\n",
    "\n",
    "parameters = json_format.ParseDict(parameters_dict, Value())\n",
    "\n",
    "response = client.predict(\n",
    "\n",
    "    endpoint=\"projects/us-gcp-ame-con-5b680-sbx-1/locations/us-central1/publishers/google/models/medlm-large\", instances=instances, parameters=parameters\n",
    "\n",
    ")\n",
    "\n",
    "print(\"response\")\n",
    "\n",
    "predictions = response.predictions\n",
    "\n",
    "for prediction in predictions:\n",
    "    print(\" prediction:\", dict(prediction))"
   ]
  },
  {
   "cell_type": "markdown",
   "id": "905b9605-c2f6-4022-8602-4b910a034c5a",
   "metadata": {},
   "source": [
    "# Cosine similarity of pretrain medlm model (no weights)"
   ]
  },
  {
   "cell_type": "code",
   "execution_count": 7,
   "id": "9834123d-a67f-4ff6-bb7f-271440eaaa02",
   "metadata": {
    "tags": []
   },
   "outputs": [
    {
     "name": "stdout",
     "output_type": "stream",
     "text": [
      "Cosine Similarity: 0.6952417492866516\n"
     ]
    }
   ],
   "source": [
    "from sentence_transformers import SentenceTransformer, util\n",
    "\n",
    "# Load a pre-trained sentence embedding model\n",
    "model = SentenceTransformer('all-mpnet-base-v2')\n",
    "\n",
    "# Your MedLM output\n",
    "medlm_output = '''Fentanyl is a potent opioid pain medication that is used to treat moderate to severe pain.\n",
    "It is often used in the post-operative setting to help manage pain after surgery. \n",
    "Norepinephrine is a medication that is used to increase blood pressure and improve blood flow to the body's organs.\n",
    "It is often used in the post-operative setting to help maintain blood pressure and prevent shock. \n",
    "Potassium chloride is a medication that is used to replace potassium that has been lost from the body.\n",
    "It is often used in the post-operative setting to help maintain electrolyte balance and prevent complications. '''\n",
    "\n",
    "# Your reference text\n",
    "rag_output = 'The unique medications prescribed to post-op patients are Fentanyl Citrate, Norepinephrine, and Potassium C 20mEq/50mL 50mL IVPB.'\n",
    "\n",
    "# Encode the sentences into vectors\n",
    "medlm_embedding = model.encode(medlm_output)\n",
    "reference_embedding = model.encode(rag_output)\n",
    "\n",
    "# Calculate cosine similarity\n",
    "cosine_similarity = util.cos_sim(medlm_embedding, reference_embedding)[0][0]\n",
    "\n",
    "print(f\"Cosine Similarity: {cosine_similarity}\")"
   ]
  },
  {
   "cell_type": "code",
   "execution_count": 33,
   "id": "2935f953-6890-410f-a4ac-348b7d97f647",
   "metadata": {
    "tags": []
   },
   "outputs": [
    {
     "name": "stdout",
     "output_type": "stream",
     "text": [
      "BLEU Score: 8.231055179516831e-232\n",
      "ROUGE Scores: [{'rouge-1': {'r': 0.23529411764705882, 'p': 0.08163265306122448, 'f': 0.1212121173875116}, 'rouge-2': {'r': 0.0, 'p': 0.0, 'f': 0.0}, 'rouge-l': {'r': 0.23529411764705882, 'p': 0.08163265306122448, 'f': 0.1212121173875116}}]\n"
     ]
    }
   ],
   "source": [
    "from nltk.translate.bleu_score import sentence_bleu\n",
    "from rouge import Rouge\n",
    "\n",
    "# Your MedLM output\n",
    "medlm_output = '''Fentanyl is a potent opioid pain medication that is used to treat moderate to severe pain. \n",
    "It is often used in the post-operative setting to help manage pain after surgery. \n",
    "Norepinephrine is a medication that is used to increase blood pressure and improve blood flow. \n",
    "It is often used in the post-operative setting to help maintain blood pressure and prevent shock. \n",
    "Potassium chloride is an electrolyte that is used to maintain normal levels of potassium in the body. \n",
    "It is often used in the post-operative setting to replace potassium that may have been lost during surgery. '''\n",
    "\n",
    "# Your reference text\n",
    "rag_output = 'The unique medications prescribed to post-op patients are Fentanyl Citrate, Norepinephrine, and Potassium C 20mEq/50mL 50mL IVPB.'\n",
    "\n",
    "# Calculate BLEU score\n",
    "bleu_score = sentence_bleu([rag_output.split()], medlm_output.split())\n",
    "print(f\"BLEU Score: {bleu_score}\")\n",
    "\n",
    "# Calculate ROUGE scores\n",
    "rouge = Rouge()\n",
    "scores = rouge.get_scores(medlm_output, rag_output)\n",
    "print(f\"ROUGE Scores: {scores}\")"
   ]
  },
  {
   "cell_type": "markdown",
   "id": "fb061304-02e4-45f8-ba16-df509dd59bcf",
   "metadata": {},
   "source": [
    "# Medlm fine-tuned Model (diabetes focused keywords)"
   ]
  },
  {
   "cell_type": "code",
   "execution_count": 21,
   "id": "cee6689b-6ed7-4834-9cca-dc9b4d4e83bf",
   "metadata": {
    "tags": []
   },
   "outputs": [
    {
     "name": "stdout",
     "output_type": "stream",
     "text": [
      "response\n",
      " prediction: {'safetyAttributes': <proto.marshal.collections.maps.MapComposite object at 0x7f3913407f70>, 'content': ' Papain 2.5% solution is a topical medication that is used to treat pain and inflammation. It is derived from the papaya fruit and contains an enzyme called papain, which helps to break down proteins. Papain 2.5% solution is typically used to treat pain and inflammation caused by conditions such as arthritis, muscle aches, and bruises. It can also be used to treat other conditions, such as digestive problems and skin conditions. Papain 2.5% solution is available over-the-counter and can be found in most pharmacies. It is important to follow the directions on the medication label and to talk to your doctor or pharmacist if you have any questions about papain 2.5% solution.', 'citationMetadata': <proto.marshal.collections.maps.MapComposite object at 0x7f3913704520>}\n"
     ]
    }
   ],
   "source": [
    "client_options = {\"api_endpoint\": \"us-central1-aiplatform.googleapis.com\"}\n",
    "# This client only needs to be created once, and can be reused for multiple requests.\n",
    "\n",
    "client = aiplatform.gapic.PredictionServiceClient(\n",
    "\n",
    "    client_options=client_options\n",
    "\n",
    ")\n",
    "# NLP keywords extracted and their weights\n",
    "# Define your keywords and weights\n",
    "keywords_weights = {\n",
    "    \"type 1\": 2.0,  # High weight\n",
    "    \"type 2 \": 1.5,  # Medium weight\n",
    "    \"gestational\": 2.0,  # High weight\n",
    "    \"insulin\": 1.5,  # Medium weight\n",
    "    \"glucose\": 2.0,  # High weight\n",
    "    \"obesity\" : 2.0, # High weight\n",
    "    \"treatment\": 3.0\n",
    "}\n",
    "\n",
    "# Modify the input text to emphasize keywords\n",
    "for keyword, weight in keywords_weights.items():\n",
    "    # Repeat the keyword based on its weight (adjust as needed)\n",
    "    repetitions = int(weight)\n",
    "    sql_query = sql_query.replace(keyword, \" \" + keyword + \" \" * repetitions)\n",
    "\n",
    "instance_dict = { \"content\": \"Summarize \" + sql_query }\n",
    "instance = json_format.ParseDict(instance_dict, Value())\n",
    "instances = [instance]\n",
    "\n",
    "parameters_dict = {\n",
    "\n",
    "    \"candidateCount\": 1,\n",
    "\n",
    "    \"maxOutputTokens\": 500,\n",
    "\n",
    "    \"temperature\": 0.2,\n",
    "\n",
    "    \"topP\": 0.8,\n",
    "\n",
    "    \"topK\": 40\n",
    "\n",
    "}\n",
    "\n",
    "parameters = json_format.ParseDict(parameters_dict, Value())\n",
    "\n",
    "response = client.predict(\n",
    "\n",
    "    endpoint=\"projects/us-gcp-ame-con-5b680-sbx-1/locations/us-central1/publishers/google/models/medlm-large\", instances=instances, parameters=parameters\n",
    "\n",
    ")\n",
    "\n",
    "print(\"response\")\n",
    "\n",
    "predictions = response.predictions\n",
    "\n",
    "for prediction in predictions:\n",
    "    print(\" prediction:\", dict(prediction))"
   ]
  },
  {
   "cell_type": "markdown",
   "id": "e9dbb116-95d5-4ed1-8887-11525729957d",
   "metadata": {},
   "source": [
    "# Cosine similarity of pretrain medlm model (diabetes focused keywords)"
   ]
  },
  {
   "cell_type": "code",
   "execution_count": 22,
   "id": "20c067a9-8acd-4f82-b32f-444a5f63f831",
   "metadata": {
    "tags": []
   },
   "outputs": [
    {
     "name": "stdout",
     "output_type": "stream",
     "text": [
      "Cosine Similarity: 0.5659275054931641\n"
     ]
    }
   ],
   "source": [
    "from sentence_transformers import SentenceTransformer, util\n",
    "\n",
    "# Load a pre-trained sentence embedding model\n",
    "model = SentenceTransformer('paraphrase-distilroberta-base-v1')\n",
    "\n",
    "# Your MedLM output\n",
    "medlm_output = '''\n",
    "Papain 2.5% solution is a topical medication that is used to treat pain and inflammation. It is derived from the papaya fruit and contains an enzyme called papain, \n",
    "which helps to break down proteins. Papain 2.5% solution is typically used to treat pain and inflammation caused by conditions such as arthritis, muscle aches, and bruises. \n",
    "It can also be used to treat other conditions, such as digestive problems and skin conditions. Papain 2.5% solution is available over-the-counter and can be found in most\n",
    "pharmacies. It is important to follow the directions on the medication label and to talk to your doctor or pharmacist if you have any questions about papain 2.5% solution.'''\n",
    "\n",
    "# Your reference text\n",
    "rag_output = '''\n",
    "The patient with subject_id 11891099, during their hospital stay with hadm_id 25997890, was prescribed the pain medication 'Papain 2.5 % Solution'\n",
    "from 2186-08-01 10:00:00 to 2186-08-02 09:00:00.\n",
    "'''\n",
    "\n",
    "# Encode the sentences into vectors\n",
    "medlm_embedding = model.encode(medlm_output)\n",
    "reference_embedding = model.encode(rag_output)\n",
    "\n",
    "# Calculate cosine similarity\n",
    "cosine_similarity = util.cos_sim(medlm_embedding, reference_embedding)[0][0]\n",
    "\n",
    "print(f\"Cosine Similarity: {cosine_similarity}\")"
   ]
  },
  {
   "cell_type": "code",
   "execution_count": 26,
   "id": "221a0232-d4ea-4f44-a96e-4a2503192fe6",
   "metadata": {
    "tags": []
   },
   "outputs": [
    {
     "name": "stdout",
     "output_type": "stream",
     "text": [
      "BLEU Score: 8.374257656102654e-232\n",
      "ROUGE Scores: [{'rouge-1': {'r': 0.21428571428571427, 'p': 0.08333333333333333, 'f': 0.11999999596800014}, 'rouge-2': {'r': 0.0, 'p': 0.0, 'f': 0.0}, 'rouge-l': {'r': 0.21428571428571427, 'p': 0.08333333333333333, 'f': 0.11999999596800014}}]\n"
     ]
    }
   ],
   "source": [
    "from nltk.translate.bleu_score import sentence_bleu\n",
    "from rouge import Rouge\n",
    "\n",
    "# Your MedLM output\n",
    "medlm_output = '''\n",
    "Papain 2.5% solution is a topical medication that is used to treat pain and inflammation. It is derived from the papaya fruit and contains an enzyme called papain, \n",
    "which helps to break down proteins. Papain 2.5% solution is typically used to treat pain and inflammation caused by conditions such as arthritis, muscle aches, and bruises. \n",
    "It can also be used to treat other conditions, such as digestive problems and skin conditions. Papain 2.5% solution is available over-the-counter and can be found in most\n",
    "pharmacies. It is important to follow the directions on the medication label and to talk to your doctor or pharmacist if you have any questions about papain 2.5% solution.'''\n",
    "\n",
    "# Your reference text\n",
    "rag_output = '''\n",
    "The patient with subject_id 11891099, during their hospital stay with hadm_id 25997890, was prescribed the pain medication 'Papain 2.5 % Solution'\n",
    "from 2186-08-01 10:00:00 to 2186-08-02 09:00:00.\n",
    "'''\n",
    "\n",
    "# Calculate BLEU score\n",
    "bleu_score = sentence_bleu([rag_output.split()], medlm_output.split())\n",
    "print(f\"BLEU Score: {bleu_score}\")\n",
    "\n",
    "# Calculate ROUGE scores\n",
    "rouge = Rouge()\n",
    "scores = rouge.get_scores(medlm_output, rag_output)\n",
    "print(f\"ROUGE Scores: {scores}\")"
   ]
  },
  {
   "cell_type": "code",
   "execution_count": null,
   "id": "18a057e1-9f94-4aff-97d8-ceed669bd330",
   "metadata": {},
   "outputs": [],
   "source": []
  },
  {
   "cell_type": "markdown",
   "id": "0dacf8da-f442-4cbc-adad-1e93a0c58348",
   "metadata": {},
   "source": [
    "# Methodology - Keyword weights\n",
    "1. Start with Initial Weights: Use various NLP techniques to extract keywords; begin with an initial set of keyword weights based on your expert knowledge or data analysis.\n",
    "\n",
    "2. Evaluate and Adjust: Use the methods described above to evaluate the initial weights. Based on the feedback, refine the weights iteratively.\n",
    "\n",
    "3. Convergence: Continue refining the weights until you reach a point where the evaluation results are satisfactory and the weights accurately reflect the importance of keywords."
   ]
  },
  {
   "cell_type": "markdown",
   "id": "720aa638-8cdd-4c37-92a2-2000f2336edb",
   "metadata": {},
   "source": [
    "# Metrics\n",
    "- Word Embeddings: Use word embedding models (like Word2Vec or GloVe) to capture the semantic relationships between keywords. The similarity between word embeddings can be used to infer the relative importance of keywords.\n",
    "\n",
    "- Information Retrieval Metrics: Apply information retrieval metrics like TF-IDF (Term Frequency-Inverse Document Frequency) to assess the importance of keywords based on their frequency in a document and their rarity across a corpus."
   ]
  },
  {
   "cell_type": "code",
   "execution_count": 34,
   "id": "bf3b349b-2a8b-42d7-aec4-fc2c7123dc6e",
   "metadata": {},
   "outputs": [
    {
     "name": "stdout",
     "output_type": "stream",
     "text": [
      "{'accuracy': 0.0, 'precision': 0.42945429100414, 'recall': 0.5903865329240142, 'f1_score': 0.45632465884170353}\n"
     ]
    }
   ],
   "source": [
    "import numpy as np\n",
    "from nltk.translate.bleu_score import sentence_bleu\n",
    "from rouge import Rouge\n",
    "from sklearn.metrics import accuracy_score, precision_score, recall_score, f1_score\n",
    "\n",
    "def evaluate_medlm(queries, reference_texts, medlm_outputs):\n",
    "    \"\"\"\n",
    "    Evaluates MedLM's output using multiple reference texts.\n",
    "\n",
    "    Args:\n",
    "        queries: A list of queries.\n",
    "        reference_texts: A list of lists, where each inner list contains the reference texts for a query.\n",
    "        medlm_outputs: A list of MedLM outputs for the queries.\n",
    "\n",
    "    Returns:\n",
    "        A dictionary containing the accuracy, precision, recall, and F1-score.\n",
    "    \"\"\"\n",
    "\n",
    "    # Initialize lists to store the results\n",
    "    accuracy_results = []\n",
    "    precision_results = []\n",
    "    recall_results = []\n",
    "    f1_results = []\n",
    "\n",
    "    # Iterate over the queries\n",
    "    for i, query in enumerate(queries):\n",
    "        # Get the reference texts and MedLM output for the current query\n",
    "        refs = reference_texts[i]\n",
    "        output = medlm_outputs[i]\n",
    "\n",
    "        # Calculate accuracy\n",
    "        accuracy = any([output == ref for ref in refs])\n",
    "        accuracy_results.append(accuracy)\n",
    "\n",
    "        # Calculate precision, recall, and F1-score using ROUGE-L\n",
    "        rouge = Rouge()\n",
    "        scores = rouge.get_scores(output, refs[0])  # Use the first reference text for ROUGE\n",
    "        precision = scores[0]['rouge-l']['p']\n",
    "        recall = scores[0]['rouge-l']['r']\n",
    "        f1 = scores[0]['rouge-l']['f']\n",
    "        precision_results.append(precision)\n",
    "        recall_results.append(recall)\n",
    "        f1_results.append(f1)\n",
    "\n",
    "    # Calculate overall metrics\n",
    "    accuracy = accuracy_score(accuracy_results, [True] * len(accuracy_results))\n",
    "    precision = np.mean(precision_results)\n",
    "    recall = np.mean(recall_results)\n",
    "    f1 = np.mean(f1_results)\n",
    "\n",
    "    return {\n",
    "        \"accuracy\": accuracy,\n",
    "        \"precision\": precision,\n",
    "        \"recall\": recall,\n",
    "        \"f1_score\": f1\n",
    "    }\n",
    "\n",
    "# Example usage:\n",
    "queries = [\"List of medication used to treat patients with pain join with admissions limit 1\", \n",
    "           \"What is the most frequently prescribed prescription drug.\",\n",
    "          \"Provider order entries (poe) most frequent order type limit 5\", \n",
    "          \"What are the unique name of the tests given to patients who were admitted and the doctor comments VRE isolated limit 3\",\n",
    "          \"What is the radiology findings of a patient who received ORTHOPAEDICS service in discharge text limit 1\",\n",
    "          \"What is the radiology findings of a patient whose Chief Complaint is Abdominal pain in discharge text limit 1\",\n",
    "          \"What is the radiology findings of a patient who was discharged with a history of liver cirrhosis limit 2\",\n",
    "          \"What is the radiology findings of a patient with Past Medical History of coronary artery disease in discharge text limit 1\",\n",
    "          \"In discharge table what Medications on Admission was given to patient who has Allergies: Morphine limit 2\",\n",
    "          \"What is the most frequent procedure limit 3\"\n",
    "          ]\n",
    "reference_texts = [[\"The medication 'Papain 2.5 % Solution' was used to treat a patient with id 12749568, who was admitted on 2136-11-09\"],\n",
    "                   [\"The most frequently prescribed prescription drug is Insulin.\"],\n",
    "                   [\"The most frequent order types in provider order entries are: 1. Medications with 17690066 entries 2. Lab with 6565578 entries 3. General Care with 5690221 entries 4. ADT orders with 2171456 entries 5. IV therapy with 2140236 entries\"],\n",
    "                   [\"The unique names of the tests given to patients who were admitted and the doctor comments VRE isolated are 'R/O VANCOMYCIN RESISTANT ENTEROCOCCUS', 'WOUND CULTURE', and 'FECAL CULTURE - R/O VIBRIO'\"],\n",
    "                   [\"The radiology findings of a patient who received ORTHOPAEDICS service in discharge text are: EXAMINATION:  CHEST (PORTABLE AP) INDICATION:  ___ year old woman with urosepsis with fever rule out pneumonia TECHNIQUE:  CHEST (PORTABLE AP) COMPARISON:  ___ IMPRESSION:Left internal jugular line tip is at the level of mid SVC.  Cardiomegaly is substantial, unchanged.\"],\n",
    "                   [\"The radiology findings for the patient whose Chief Complaint was Abdominal pain in the discharge text were: EXAMINATION:  CT ABD AND PELVIS WITH CONTRAST INDICATION:  ___ with history of feeding tube, purulent drainage from wound site. Difficult venous access.NO_PO contrast Abscess?  G-tube placement? TECHNIQUE:  Single phase contrast: MDCT axial images were acquired through the abdomen and pelvis\"],\n",
    "                   [\"The patient with note_id '17829563-RR-2' had a CT HEAD W/O CONTRAST examination where they found 'Routine unenhanced head CT was performed and viewed in brain, intermediate and bone windows.  Coronal and sagittal reformats were also performed. DOSE:  Total DLP (Head) = 903 mGy-cm. COMPARISON: ...'. The patient with note_id '14707889-RR-3' was indicated with 'History of hep C without treatment.  Presenting with abdominal\\ndistension.  Question cirrhosis. COMPARISON:  None.FINDINGS:  The liver is shrunken and nodular in appearance consistent with\\ncirrhosis.  There is no evidence of intrahepatic biliary duct dilatation.\"],\n",
    "                   [\"The radiology findings of a patient with a past medical history of coronary artery disease are as follows: There is a mild homogeneous plaque in the proximal internal carotid artery without significant increase in peak systolic velocities. The peak systolic velocity in the common carotid artery is 86 cm/sec.\"],\n",
    "                   [\"Two patients had allergies to Morphine. Their admission notes include the following information: 1. The first patient has an altered mental status and is in the MEDICINE department. No major surgical or invasive procedure was performed. 2. The second patient was admitted to the UROLOGY department for urinary incontinence. This patient is also allergic to Lipitor and Oxycodone, and no major surgical or invasive procedure was reported. The specific medications on admission for these patients are not provided in the available details.\"],\n",
    "                   [\"The three most frequent procedures are 'Venous catheterization, not elsewhere classified' with 13928 occurrences, 'Insertion of Infusion Device into Superior Vena Cava, Percutaneous Approach' with 10061 occurrences and 'Other nonoperative respiratory measurements' with 10041 occurrences.\"]\n",
    "                   \n",
    "                  ]\n",
    "medlm_outputs = [\" Papain 2.5% solution is a medication that is used to treat a variety of conditions. It is a proteolytic enzyme, which means that it helps to break down proteins. Papain is derived from the papaya fruit, and it has been used for centuries to treat a variety of medical conditions. Papain 2.5% solution can be used to treat a variety of conditions, including: Wounds: Papain can help to clean and debride wounds, and it can also help to promote healing. Skin conditions: Papain can be used to treat a variety of skin conditions, such as eczema and psoriasis. Digestive problems: Papain can help to improve digestion and relieve symptoms of indigestion, such as heartburn and bloating. Inflammation: Papain can help to reduce inflammation in the body. Papain 2.5% solution is a safe and effective medication that can be used to treat a variety of conditions. It is important to follow the directions on the medication label and to talk to your doctor or pharmacist if you have any questions about papain 2.5% solution.\",\n",
    "                 \"Insulin is a hormone that is produced by the pancreas and is essential for the body's use of glucose (sugar) for energy. It is used to treat diabetes, a condition in which the body does not produce enough insulin or does not use insulin effectively. Insulin is available in several different forms, including injectable, oral, and inhaled forms. The type and dose of insulin that is prescribed will depend on the individual's needs.\", \n",
    "                \"The most frequent order types in provider order entries are: \\n1. Medications with 17690066 entries \\n2. Lab with 6565578 entries \\n3. General Care with 5690221 entries \\n4. ADT orders with 2171456 entries \\n5. IV therapy with 2140236 entries\",\n",
    "                \"The doctor's comments indicate that the patient was admitted to the hospital and that the patient was isolated due to a vancomycin-resistant enterococcus (VRE) infection. VRE is a type of bacteria that is resistant to the antibiotic vancomycin. VRE infections can be serious and can be difficult to treat. The doctor's comments also indicate that the patient had a wound culture and a fecal culture performed. A wound culture is a test that is used to identify the bacteria that is causing an infection in a wound. A fecal culture is a test that is used to identify the bacteria that is present in a person's stool. The results of these tests can help the doctor to determine the best course of treatment for the patient.\",\n",
    "                \"There is no focal infiltrate, effusion or pneumothorax. The left internal jugular line tip is at the level of mid SVC, which is an appropriate position. The heart is enlarged, but this is unchanged from previous studies. There is no evidence of pneumonia, effusion, or pneumothorax.\",\n",
    "                 \"following the administration There is a small amount of free fluid in the right lower quadrant. There is also a small amount of free fluid in the pelvis. There is no evidence of an abscess. The feeding tube is in good position.\",\n",
    "                 \"The patient with note_id '17829563-RR-2' had a CT HEAD W/O CONTRAST examination. The report states that 'Routine unenhanced head CT was performed and viewed in brain, intermediate and bone windows. Coronal and sagittal reformats were also performed. DOSE: Total DLP (Head) = 903 mGy-cm.'.\\n\\nThe patient with note_id '14707889-RR-3' had an ultrasound abdomen examination. The report states that 'History of hep C without treatment. Presenting with abdominal distension. Question cirrhosis. COMPARISON: None.FINDINGS: The liver is shrunken and nodular in appearance consistent with cirrhosis. There is no evidence of intrahepatic biliary duct dilatation.'\",\n",
    "                 \"The patient has a mild homogeneous plaque in the proximal internal carotid artery, which is the artery that supplies blood to the brain. This plaque does not appear to be causing any significant obstruction to blood flow, as the peak systolic velocity in the common carotid artery is normal. However, the patient's history of coronary artery disease suggests that they may be at increased risk of developing atherosclerosis, which is the buildup of fatty deposits in the arteries. As such, it is important for the patient to continue to follow a healthy lifestyle and to manage their risk factors for atherosclerosis, such as high blood pressure, high cholesterol, and diabetes. The patient should also continue to undergo regular medical checkups to monitor their cardiovascular health and to receive any necessary treatment.\",\n",
    "                 \"There are two patients who have allergies to Morphine. The first patient has an altered mental status and is in the MEDICINE department. No major surgical or invasive procedure was performed. The second patient was admitted to the UROLOGY department for urinary incontinence. This patient is also allergic to Lipitor and Oxycodone, and no major surgical or invasive procedure was reported. The specific medications on admission for these patients are not provided in the available details.\",\n",
    "                 \"The three most frequent procedures are 'Venous catheterization, not elsewhere classified' with 13928 occurrences, 'Insertion of Infusion Device into Superior Vena Cava, Percutaneous Approach' with 10061 occurrences and 'Other nonoperative respiratory measurements' with 10041 occurrences.\\n\\n'Venous catheterization, not elsewhere classified' is the insertion of a catheter into a vein. It is a common procedure that is used for a variety of purposes, such as administering fluids, medications, or blood products, or for collecting blood samples.\\n\\n'Insertion of Infusion Device into Superior Vena Cava, Percutaneous Approach' is the placement of a catheter into the superior vena cava, a large vein that carries blood from the upper body to the heart. This procedure is often used to administer fluids, medications, or nutrition to patients who are unable to receive them through their veins.\\n\\n'Other nonoperative respiratory measurements' refers to a variety of tests that are used to assess the function of the lungs. These tests may include spirometry, which measures the amount of air that a person can breathe in and out, and pulse oximetry, which measures the level of oxygen in the blood.\\n\\nThe frequency of these procedures reflects the fact that they are all common and important medical procedures that are used to diagnose and treat a variety of conditions.\"\n",
    "               ]\n",
    "\n",
    "results = evaluate_medlm(queries, reference_texts, medlm_outputs)\n",
    "print(results)\n"
   ]
  },
  {
   "cell_type": "code",
   "execution_count": 41,
   "id": "1ef56f87-274d-420d-b12f-9b1765843073",
   "metadata": {
    "tags": []
   },
   "outputs": [
    {
     "data": {
      "image/png": "[encoded data removed]",
      "text/plain": [
       "<Figure size 640x480 with 1 Axes>"
      ]
     },
     "metadata": {},
     "output_type": "display_data"
    }
   ],
   "source": [
    "import matplotlib.pyplot as plt\n",
    "\n",
    "results = {'precision': 0.25789082819723796, 'recall': 0.5167212227219724, 'f1_score': 0.3127440310170613}\n",
    "\n",
    "# Extract the values\n",
    "metrics = list(results.keys())\n",
    "scores = list(results.values())\n",
    "\n",
    "# Create the bar plot with custom colors\n",
    "colors = ['orange']  # Define your desired colors\n",
    "plt.bar(metrics, scores, color=colors)\n",
    "\n",
    "plt.xlabel('Metrics')\n",
    "plt.ylabel('Scores')\n",
    "plt.title('Evaluation Results')\n",
    "plt.show()"
   ]
  },
  {
   "cell_type": "code",
   "execution_count": 36,
   "id": "6255138c-9d53-4cac-af7b-dfe6159aeef7",
   "metadata": {
    "tags": []
   },
   "outputs": [
    {
     "name": "stdout",
     "output_type": "stream",
     "text": [
      "Average Cosine Similarity: 0.5220028358824234\n"
     ]
    }
   ],
   "source": [
    "import numpy as np\n",
    "from sklearn.metrics.pairwise import cosine_similarity\n",
    "from sklearn.feature_extraction.text import TfidfVectorizer\n",
    "\n",
    "def calculate_average_cosine_similarity(medlm_outputs, reference_texts):\n",
    "    \"\"\"\n",
    "    Calculates the average cosine similarity between MedLM outputs and reference texts.\n",
    "\n",
    "    Args:\n",
    "        medlm_outputs: A list of MedLM outputs.\n",
    "        reference_texts: A list of lists, where each inner list contains the reference texts for a corresponding MedLM output.\n",
    "\n",
    "    Returns:\n",
    "        The average cosine similarity.\n",
    "    \"\"\"\n",
    "\n",
    "    cosine_similarity_results = []\n",
    "\n",
    "    for i, medlm_output in enumerate(medlm_outputs):\n",
    "        refs = reference_texts[i]\n",
    "\n",
    "        # Calculate cosine similarity for each reference text\n",
    "        vectorizer = TfidfVectorizer()\n",
    "        tfidf_matrix = vectorizer.fit_transform([medlm_output] + refs)\n",
    "        cosine_sim = cosine_similarity(tfidf_matrix[0], tfidf_matrix[1:])\n",
    "        cosine_similarity_results.append(np.mean(cosine_sim))  # Average across references\n",
    "\n",
    "    # Calculate the overall average\n",
    "    average_cosine_similarity = np.mean(cosine_similarity_results)\n",
    "\n",
    "    return average_cosine_similarity\n",
    "\n",
    "# Example usage:\n",
    "reference_texts = [[\"The medication 'Papain 2.5 % Solution' was used to treat a patient with id 12749568, who was admitted on 2136-11-09\"],\n",
    "                   [\"The most frequently prescribed prescription drug is Insulin.\"],\n",
    "                   [\"The most frequent order types in provider order entries are: 1. Medications with 17690066 entries 2. Lab with 6565578 entries 3. General Care with 5690221 entries 4. ADT orders with 2171456 entries 5. IV therapy with 2140236 entries\"],\n",
    "                   [\"The unique names of the tests given to patients who were admitted and the doctor comments VRE isolated are 'R/O VANCOMYCIN RESISTANT ENTEROCOCCUS', 'WOUND CULTURE', and 'FECAL CULTURE - R/O VIBRIO'\"],\n",
    "                   [\"The radiology findings of a patient who received ORTHOPAEDICS service in discharge text are: EXAMINATION:  CHEST (PORTABLE AP) INDICATION:  ___ year old woman with urosepsis with fever rule out pneumonia TECHNIQUE:  CHEST (PORTABLE AP) COMPARISON:  ___ IMPRESSION:Left internal jugular line tip is at the level of mid SVC.  Cardiomegaly is substantial, unchanged.\"],\n",
    "                   [\"The radiology findings for the patient whose Chief Complaint was Abdominal pain in the discharge text were: EXAMINATION:  CT ABD AND PELVIS WITH CONTRAST INDICATION:  ___ with history of feeding tube, purulent drainage from wound site. Difficult venous access.NO_PO contrast Abscess?  G-tube placement? TECHNIQUE:  Single phase contrast: MDCT axial images were acquired through the abdomen and pelvis\"],\n",
    "                   [\"The patient with note_id '17829563-RR-2' had a CT HEAD W/O CONTRAST examination where they found 'Routine unenhanced head CT was performed and viewed in brain, intermediate and bone windows.  Coronal and sagittal reformats were also performed. DOSE:  Total DLP (Head) = 903 mGy-cm. COMPARISON: ...'. The patient with note_id '14707889-RR-3' was indicated with 'History of hep C without treatment.  Presenting with abdominal\\ndistension.  Question cirrhosis. COMPARISON:  None.FINDINGS:  The liver is shrunken and nodular in appearance consistent with\\ncirrhosis.  There is no evidence of intrahepatic biliary duct dilatation.\"],\n",
    "                   [\"The radiology findings of a patient with a past medical history of coronary artery disease are as follows: There is a mild homogeneous plaque in the proximal internal carotid artery without significant increase in peak systolic velocities. The peak systolic velocity in the common carotid artery is 86 cm/sec.\"],\n",
    "                   [\"Two patients had allergies to Morphine. Their admission notes include the following information: 1. The first patient has an altered mental status and is in the MEDICINE department. No major surgical or invasive procedure was performed. 2. The second patient was admitted to the UROLOGY department for urinary incontinence. This patient is also allergic to Lipitor and Oxycodone, and no major surgical or invasive procedure was reported. The specific medications on admission for these patients are not provided in the available details.\"],\n",
    "                   [\"The three most frequent procedures are 'Venous catheterization, not elsewhere classified' with 13928 occurrences, 'Insertion of Infusion Device into Superior Vena Cava, Percutaneous Approach' with 10061 occurrences and 'Other nonoperative respiratory measurements' with 10041 occurrences.\"]\n",
    "                   \n",
    "                  ]\n",
    "medlm_outputs = [\" Papain 2.5% solution is a medication that is used to treat a variety of conditions. It is a proteolytic enzyme, which means that it helps to break down proteins. Papain is derived from the papaya fruit, and it has been used for centuries to treat a variety of medical conditions. Papain 2.5% solution can be used to treat a variety of conditions, including: Wounds: Papain can help to clean and debride wounds, and it can also help to promote healing. Skin conditions: Papain can be used to treat a variety of skin conditions, such as eczema and psoriasis. Digestive problems: Papain can help to improve digestion and relieve symptoms of indigestion, such as heartburn and bloating. Inflammation: Papain can help to reduce inflammation in the body. Papain 2.5% solution is a safe and effective medication that can be used to treat a variety of conditions. It is important to follow the directions on the medication label and to talk to your doctor or pharmacist if you have any questions about papain 2.5% solution.\",\n",
    "                 \"Insulin is a hormone that is produced by the pancreas and is essential for the body's use of glucose (sugar) for energy. It is used to treat diabetes, a condition in which the body does not produce enough insulin or does not use insulin effectively. Insulin is available in several different forms, including injectable, oral, and inhaled forms. The type and dose of insulin that is prescribed will depend on the individual's needs.\", \n",
    "                \"The most frequent order types in provider order entries are: \\n1. Medications with 17690066 entries \\n2. Lab with 6565578 entries \\n3. General Care with 5690221 entries \\n4. ADT orders with 2171456 entries \\n5. IV therapy with 2140236 entries\",\n",
    "                \"The doctor's comments indicate that the patient was admitted to the hospital and that the patient was isolated due to a vancomycin-resistant enterococcus (VRE) infection. VRE is a type of bacteria that is resistant to the antibiotic vancomycin. VRE infections can be serious and can be difficult to treat. The doctor's comments also indicate that the patient had a wound culture and a fecal culture performed. A wound culture is a test that is used to identify the bacteria that is causing an infection in a wound. A fecal culture is a test that is used to identify the bacteria that is present in a person's stool. The results of these tests can help the doctor to determine the best course of treatment for the patient.\",\n",
    "                \"There is no focal infiltrate, effusion or pneumothorax. The left internal jugular line tip is at the level of mid SVC, which is an appropriate position. The heart is enlarged, but this is unchanged from previous studies. There is no evidence of pneumonia, effusion, or pneumothorax.\",\n",
    "                 \"following the administration There is a small amount of free fluid in the right lower quadrant. There is also a small amount of free fluid in the pelvis. There is no evidence of an abscess. The feeding tube is in good position.\",\n",
    "                 \"The patient with note_id '17829563-RR-2' had a CT HEAD W/O CONTRAST examination. The report states that 'Routine unenhanced head CT was performed and viewed in brain, intermediate and bone windows. Coronal and sagittal reformats were also performed. DOSE: Total DLP (Head) = 903 mGy-cm.'.\\n\\nThe patient with note_id '14707889-RR-3' had an ultrasound abdomen examination. The report states that 'History of hep C without treatment. Presenting with abdominal distension. Question cirrhosis. COMPARISON: None.FINDINGS: The liver is shrunken and nodular in appearance consistent with cirrhosis. There is no evidence of intrahepatic biliary duct dilatation.'\",\n",
    "                 \"The patient has a mild homogeneous plaque in the proximal internal carotid artery, which is the artery that supplies blood to the brain. This plaque does not appear to be causing any significant obstruction to blood flow, as the peak systolic velocity in the common carotid artery is normal. However, the patient's history of coronary artery disease suggests that they may be at increased risk of developing atherosclerosis, which is the buildup of fatty deposits in the arteries. As such, it is important for the patient to continue to follow a healthy lifestyle and to manage their risk factors for atherosclerosis, such as high blood pressure, high cholesterol, and diabetes. The patient should also continue to undergo regular medical checkups to monitor their cardiovascular health and to receive any necessary treatment.\",\n",
    "                 \"There are two patients who have allergies to Morphine. The first patient has an altered mental status and is in the MEDICINE department. No major surgical or invasive procedure was performed. The second patient was admitted to the UROLOGY department for urinary incontinence. This patient is also allergic to Lipitor and Oxycodone, and no major surgical or invasive procedure was reported. The specific medications on admission for these patients are not provided in the available details.\",\n",
    "                 \"The three most frequent procedures are 'Venous catheterization, not elsewhere classified' with 13928 occurrences, 'Insertion of Infusion Device into Superior Vena Cava, Percutaneous Approach' with 10061 occurrences and 'Other nonoperative respiratory measurements' with 10041 occurrences.\\n\\n'Venous catheterization, not elsewhere classified' is the insertion of a catheter into a vein. It is a common procedure that is used for a variety of purposes, such as administering fluids, medications, or blood products, or for collecting blood samples.\\n\\n'Insertion of Infusion Device into Superior Vena Cava, Percutaneous Approach' is the placement of a catheter into the superior vena cava, a large vein that carries blood from the upper body to the heart. This procedure is often used to administer fluids, medications, or nutrition to patients who are unable to receive them through their veins.\\n\\n'Other nonoperative respiratory measurements' refers to a variety of tests that are used to assess the function of the lungs. These tests may include spirometry, which measures the amount of air that a person can breathe in and out, and pulse oximetry, which measures the level of oxygen in the blood.\\n\\nThe frequency of these procedures reflects the fact that they are all common and important medical procedures that are used to diagnose and treat a variety of conditions.\"\n",
    "               ]\n",
    "\n",
    "average_similarity = calculate_average_cosine_similarity(medlm_outputs, reference_texts)\n",
    "print(f\"Average Cosine Similarity: {average_similarity}\")\n"
   ]
  },
  {
   "cell_type": "code",
   "execution_count": 39,
   "id": "f4e60be4-debf-4d16-a968-fe2a519e8692",
   "metadata": {
    "tags": []
   },
   "outputs": [
    {
     "name": "stdout",
     "output_type": "stream",
     "text": [
      "BLEU Score: 0\n"
     ]
    }
   ],
   "source": [
    "from nltk.translate.bleu_score import sentence_bleu\n",
    "from nltk.translate.bleu_score import SmoothingFunction\n",
    "\n",
    "reference_texts = [[\"The medication 'Papain 2.5 % Solution' was used to treat a patient with id 12749568, who was admitted on 2136-11-09\"],\n",
    "                   [\"The most frequently prescribed prescription drug is Insulin.\"],\n",
    "                   [\"The most frequent order types in provider order entries are: 1. Medications with 17690066 entries 2. Lab with 6565578 entries 3. General Care with 5690221 entries 4. ADT orders with 2171456 entries 5. IV therapy with 2140236 entries\"],\n",
    "                   [\"The unique names of the tests given to patients who were admitted and the doctor comments VRE isolated are 'R/O VANCOMYCIN RESISTANT ENTEROCOCCUS', 'WOUND CULTURE', and 'FECAL CULTURE - R/O VIBRIO'\"],\n",
    "                   [\"The radiology findings of a patient who received ORTHOPAEDICS service in discharge text are: EXAMINATION:  CHEST (PORTABLE AP) INDICATION:  ___ year old woman with urosepsis with fever rule out pneumonia TECHNIQUE:  CHEST (PORTABLE AP) COMPARISON:  ___ IMPRESSION:Left internal jugular line tip is at the level of mid SVC.  Cardiomegaly is substantial, unchanged.\"],\n",
    "                   [\"The radiology findings for the patient whose Chief Complaint was Abdominal pain in the discharge text were: EXAMINATION:  CT ABD AND PELVIS WITH CONTRAST INDICATION:  ___ with history of feeding tube, purulent drainage from wound site. Difficult venous access.NO_PO contrast Abscess?  G-tube placement? TECHNIQUE:  Single phase contrast: MDCT axial images were acquired through the abdomen and pelvis\"],\n",
    "                   [\"The patient with note_id '17829563-RR-2' had a CT HEAD W/O CONTRAST examination where they found 'Routine unenhanced head CT was performed and viewed in brain, intermediate and bone windows.  Coronal and sagittal reformats were also performed. DOSE:  Total DLP (Head) = 903 mGy-cm. COMPARISON: ...'. The patient with note_id '14707889-RR-3' was indicated with 'History of hep C without treatment.  Presenting with abdominal\\ndistension.  Question cirrhosis. COMPARISON:  None.FINDINGS:  The liver is shrunken and nodular in appearance consistent with\\ncirrhosis.  There is no evidence of intrahepatic biliary duct dilatation.\"],\n",
    "                   [\"The radiology findings of a patient with a past medical history of coronary artery disease are as follows: There is a mild homogeneous plaque in the proximal internal carotid artery without significant increase in peak systolic velocities. The peak systolic velocity in the common carotid artery is 86 cm/sec.\"],\n",
    "                   [\"Two patients had allergies to Morphine. Their admission notes include the following information: 1. The first patient has an altered mental status and is in the MEDICINE department. No major surgical or invasive procedure was performed. 2. The second patient was admitted to the UROLOGY department for urinary incontinence. This patient is also allergic to Lipitor and Oxycodone, and no major surgical or invasive procedure was reported. The specific medications on admission for these patients are not provided in the available details.\"],\n",
    "                   [\"The three most frequent procedures are 'Venous catheterization, not elsewhere classified' with 13928 occurrences, 'Insertion of Infusion Device into Superior Vena Cava, Percutaneous Approach' with 10061 occurrences and 'Other nonoperative respiratory measurements' with 10041 occurrences.\"]\n",
    "                   \n",
    "                  ]\n",
    "medlm_outputs = [\" Papain 2.5% solution is a medication that is used to treat a variety of conditions. It is a proteolytic enzyme, which means that it helps to break down proteins. Papain is derived from the papaya fruit, and it has been used for centuries to treat a variety of medical conditions. Papain 2.5% solution can be used to treat a variety of conditions, including: Wounds: Papain can help to clean and debride wounds, and it can also help to promote healing. Skin conditions: Papain can be used to treat a variety of skin conditions, such as eczema and psoriasis. Digestive problems: Papain can help to improve digestion and relieve symptoms of indigestion, such as heartburn and bloating. Inflammation: Papain can help to reduce inflammation in the body. Papain 2.5% solution is a safe and effective medication that can be used to treat a variety of conditions. It is important to follow the directions on the medication label and to talk to your doctor or pharmacist if you have any questions about papain 2.5% solution.\",\n",
    "                 \"Insulin is a hormone that is produced by the pancreas and is essential for the body's use of glucose (sugar) for energy. It is used to treat diabetes, a condition in which the body does not produce enough insulin or does not use insulin effectively. Insulin is available in several different forms, including injectable, oral, and inhaled forms. The type and dose of insulin that is prescribed will depend on the individual's needs.\", \n",
    "                \"The most frequent order types in provider order entries are: \\n1. Medications with 17690066 entries \\n2. Lab with 6565578 entries \\n3. General Care with 5690221 entries \\n4. ADT orders with 2171456 entries \\n5. IV therapy with 2140236 entries\",\n",
    "                \"The doctor's comments indicate that the patient was admitted to the hospital and that the patient was isolated due to a vancomycin-resistant enterococcus (VRE) infection. VRE is a type of bacteria that is resistant to the antibiotic vancomycin. VRE infections can be serious and can be difficult to treat. The doctor's comments also indicate that the patient had a wound culture and a fecal culture performed. A wound culture is a test that is used to identify the bacteria that is causing an infection in a wound. A fecal culture is a test that is used to identify the bacteria that is present in a person's stool. The results of these tests can help the doctor to determine the best course of treatment for the patient.\",\n",
    "                \"There is no focal infiltrate, effusion or pneumothorax. The left internal jugular line tip is at the level of mid SVC, which is an appropriate position. The heart is enlarged, but this is unchanged from previous studies. There is no evidence of pneumonia, effusion, or pneumothorax.\",\n",
    "                 \"following the administration There is a small amount of free fluid in the right lower quadrant. There is also a small amount of free fluid in the pelvis. There is no evidence of an abscess. The feeding tube is in good position.\",\n",
    "                 \"The patient with note_id '17829563-RR-2' had a CT HEAD W/O CONTRAST examination. The report states that 'Routine unenhanced head CT was performed and viewed in brain, intermediate and bone windows. Coronal and sagittal reformats were also performed. DOSE: Total DLP (Head) = 903 mGy-cm.'.\\n\\nThe patient with note_id '14707889-RR-3' had an ultrasound abdomen examination. The report states that 'History of hep C without treatment. Presenting with abdominal distension. Question cirrhosis. COMPARISON: None.FINDINGS: The liver is shrunken and nodular in appearance consistent with cirrhosis. There is no evidence of intrahepatic biliary duct dilatation.'\",\n",
    "                 \"The patient has a mild homogeneous plaque in the proximal internal carotid artery, which is the artery that supplies blood to the brain. This plaque does not appear to be causing any significant obstruction to blood flow, as the peak systolic velocity in the common carotid artery is normal. However, the patient's history of coronary artery disease suggests that they may be at increased risk of developing atherosclerosis, which is the buildup of fatty deposits in the arteries. As such, it is important for the patient to continue to follow a healthy lifestyle and to manage their risk factors for atherosclerosis, such as high blood pressure, high cholesterol, and diabetes. The patient should also continue to undergo regular medical checkups to monitor their cardiovascular health and to receive any necessary treatment.\",\n",
    "                 \"There are two patients who have allergies to Morphine. The first patient has an altered mental status and is in the MEDICINE department. No major surgical or invasive procedure was performed. The second patient was admitted to the UROLOGY department for urinary incontinence. This patient is also allergic to Lipitor and Oxycodone, and no major surgical or invasive procedure was reported. The specific medications on admission for these patients are not provided in the available details.\",\n",
    "                 \"The three most frequent procedures are 'Venous catheterization, not elsewhere classified' with 13928 occurrences, 'Insertion of Infusion Device into Superior Vena Cava, Percutaneous Approach' with 10061 occurrences and 'Other nonoperative respiratory measurements' with 10041 occurrences.\\n\\n'Venous catheterization, not elsewhere classified' is the insertion of a catheter into a vein. It is a common procedure that is used for a variety of purposes, such as administering fluids, medications, or blood products, or for collecting blood samples.\\n\\n'Insertion of Infusion Device into Superior Vena Cava, Percutaneous Approach' is the placement of a catheter into the superior vena cava, a large vein that carries blood from the upper body to the heart. This procedure is often used to administer fluids, medications, or nutrition to patients who are unable to receive them through their veins.\\n\\n'Other nonoperative respiratory measurements' refers to a variety of tests that are used to assess the function of the lungs. These tests may include spirometry, which measures the amount of air that a person can breathe in and out, and pulse oximetry, which measures the level of oxygen in the blood.\\n\\nThe frequency of these procedures reflects the fact that they are all common and important medical procedures that are used to diagnose and treat a variety of conditions.\"\n",
    "               ]\n",
    "# Calculate BLEU score\n",
    "smoothie = SmoothingFunction().method4\n",
    "bleu_score = sentence_bleu(reference_texts, medlm_output, smoothing_function=smoothie)\n",
    "\n",
    "print(f\"BLEU Score: {bleu_score}\")"
   ]
  },
  {
   "cell_type": "code",
   "execution_count": null,
   "id": "cc4572b1-3061-4a19-aff5-205dd607c98b",
   "metadata": {},
   "outputs": [],
   "source": []
  },
  {
   "cell_type": "markdown",
   "id": "b450db26-a23a-4c88-93d4-0122d3b82259",
   "metadata": {},
   "source": [
    "# Conclusion\n",
    " - BLEU and ROUGE are primarily focused on surface-level similarity. They might not capture nuances like coherence, fluency, or the overall quality of the generated text.\n",
    " - There will always be some degree of subjectivity in assigning keyword weights, so it's important to involve experts and consider multiple perspectives."
   ]
  },
  {
   "cell_type": "code",
   "execution_count": null,
   "id": "a649412e-b5f7-4532-9435-caf12bbcff19",
   "metadata": {},
   "outputs": [],
   "source": []
  },
  {
   "cell_type": "markdown",
   "id": "508faf4e-c8e5-43c1-89cf-20122e2d4e60",
   "metadata": {},
   "source": [
    "# Recommendation/ Cautious\n",
    "- Overfitting: Be careful not to overemphasize keywords, as it can lead to unnatural or repetitive outputs.\n",
    "- Model Complexity: Fine-tuning a large model like MedLM can be computationally expensive and require significant expertise."
   ]
  },
  {
   "cell_type": "code",
   "execution_count": null,
   "id": "d3b5a9fa-fa66-4af4-80d5-f28472553b6d",
   "metadata": {},
   "outputs": [],
   "source": []
  },
  {
   "cell_type": "markdown",
   "id": "bc9bd7e1-97b4-4490-a51a-fab4dff3cbcf",
   "metadata": {},
   "source": [
    "Notes:\n",
    "- 1. candidateCount\n",
    "What it does: This parameter determines how many different response candidates the model will generate for a single prompt.\n",
    "Impact: A higher candidateCount means you'll get more diverse responses, potentially offering different perspectives or approaches to the same question. This is helpful when you want to explore multiple possibilities.\n",
    "- 2. maxOutputTokens\n",
    "What it does: This parameter sets the maximum number of tokens the model can generate in a single response. Remember, a token is roughly equivalent to 4 characters.\n",
    "Impact: A higher maxOutputTokens allows for longer, more detailed responses. A lower value will result in shorter, more concise answers.\n",
    "- 3. temperature\n",
    "What it does: This parameter controls the randomness of the model's output.\n",
    "Impact:\n",
    "Low temperature (closer to 0): The model will produce more deterministic, predictable responses. It's likely to stick to the most probable words and phrases.\n",
    "High temperature (closer to 1): The model will be more creative and unpredictable. It might explore less common words or phrases, leading to more diverse and potentially surprising outputs.\n",
    "- 4. topP\n",
    "What it does: This parameter, along with topK , influences how the model selects the next token to generate. It focuses on the probability distribution of possible tokens.\n",
    "Impact:\n",
    "Lower topP (closer to 0): The model will only consider a small subset of the most probable tokens, leading to more focused and predictable responses.\n",
    "Higher topP (closer to 1): The model will consider a wider range of tokens, potentially leading to more creative and diverse outputs.\n",
    "- 5. topK\n",
    "What it does: This parameter, along with topP , influences how the model selects the next token to generate. It focuses on the number of most probable tokens to consider.\n",
    "Impact:\n",
    "Lower topK (closer to 1): The model will only consider the single most probable token, resulting in a deterministic and predictable response (also known as \"greedy decoding\").\n",
    "Higher topK (closer to 40): The model will consider a larger number of the most probable tokens, potentially leading to more creative and diverse outputs.\n",
    "\n",
    "-- candidateCount controls the number of responses.\n",
    "\n",
    "-- maxOutputTokens controls the length of responses.\n",
    "\n",
    "-- temperature controls the randomness of responses.\n",
    "\n",
    "-- topP and topK work together to control the diversity of responses by focusing on the probability distribution of possible tokens.\n",
    "\n",
    "Example\n",
    "Imagine you're asking MedLM to write a poem.\n",
    "candidateCount is like asking for multiple drafts of the poem.\n",
    "maxOutputTokens is like setting a word limit for the poem.\n",
    "temperature is like adjusting the poet's creativity level (more or less adventurous).\n",
    "topP and topK are like giving the poet a set of rhyming dictionaries with different levels of complexity."
   ]
  },
  {
   "cell_type": "code",
   "execution_count": null,
   "id": "3e9f5283-d167-45e5-92b2-345f7ac48d36",
   "metadata": {},
   "outputs": [],
   "source": []
  }
 ],
 "metadata": {
  "environment": {
   "kernel": "python3",
   "name": ".m123",
   "type": "gcloud",
   "uri": "us-docker.pkg.dev/deeplearning-platform-release/gcr.io/:m123"
  },
  "kernelspec": {
   "display_name": "Python 3 (Local)",
   "language": "python",
   "name": "python3"
  },
  "language_info": {
   "codemirror_mode": {
    "name": "ipython",
    "version": 3
   },
   "file_extension": ".py",
   "mimetype": "text/x-python",
   "name": "python",
   "nbconvert_exporter": "python",
   "pygments_lexer": "ipython3",
   "version": "3.10.14"
  }
 },
 "nbformat": 4,
 "nbformat_minor": 5
}
