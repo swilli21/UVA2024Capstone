{
 "cells": [
  {
   "cell_type": "markdown",
   "id": "5a39d72a-2762-4cb9-87ac-a2f792b153d0",
   "metadata": {},
   "source": [
    "# Weight Technique 2: Vectorization"
   ]
  },
  {
   "cell_type": "markdown",
   "id": "a7ce6693-d0a2-4ede-a489-5da0d92761e7",
   "metadata": {},
   "source": [
    "Vectorization: Convert both the MedLM output and the rag text into vectors using a suitable embedding model.\n",
    "Popular choices include:\n",
    "1. Universal Sentence Encoder (USE): A pre-trained model from Google that generates sentence embeddings.\n",
    "2. BERT: A powerful language model that can be fine-tuned for various tasks, including sentence embedding.\n",
    "3. Word2Vec: A model that learns word embeddings based on their co-occurrence in text."
   ]
  },
  {
   "cell_type": "code",
   "execution_count": 1,
   "id": "9884cd9c-4ed4-4579-ae67-9df27a22b5f3",
   "metadata": {
    "tags": []
   },
   "outputs": [],
   "source": [
    "import json\n",
    "from google.cloud import aiplatform\n",
    "from google.cloud.aiplatform.gapic.schema import predict\n",
    "from google.protobuf import json_format\n",
    "from google.protobuf.struct_pb2 import Value\n",
    "from langchain.llms import OpenAI\n",
    "from langchain.prompts import PromptTemplate\n",
    "from google.cloud import bigquery\n",
    "from langchain_openai import ChatOpenAI\n",
    "from langchain_experimental.sql import SQLDatabaseChain\n",
    "from langchain.sql_database import SQLDatabase\n",
    "from langchain.prompts import PromptTemplate\n",
    "import warnings\n",
    "warnings.filterwarnings('ignore')"
   ]
  },
  {
   "cell_type": "code",
   "execution_count": 2,
   "id": "61b4008a-cfb9-4ec7-b292-7b0c47bbf7d1",
   "metadata": {
    "tags": []
   },
   "outputs": [
    {
     "name": "stderr",
     "output_type": "stream",
     "text": [
      "2024-08-08 14:34:53.189054: E external/local_xla/xla/stream_executor/cuda/cuda_fft.cc:485] Unable to register cuFFT factory: Attempting to register factory for plugin cuFFT when one has already been registered\n",
      "2024-08-08 14:34:53.219492: E external/local_xla/xla/stream_executor/cuda/cuda_dnn.cc:8454] Unable to register cuDNN factory: Attempting to register factory for plugin cuDNN when one has already been registered\n",
      "2024-08-08 14:34:53.227263: E external/local_xla/xla/stream_executor/cuda/cuda_blas.cc:1452] Unable to register cuBLAS factory: Attempting to register factory for plugin cuBLAS when one has already been registered\n"
     ]
    }
   ],
   "source": [
    "from transformers import AutoModel, AutoTokenizer\n",
    "from sentence_transformers import SentenceTransformer\n",
    "import torch"
   ]
  },
  {
   "cell_type": "code",
   "execution_count": 3,
   "id": "29ad8624-31a7-4947-af94-e27eec11296e",
   "metadata": {
    "tags": []
   },
   "outputs": [],
   "source": [
    "openai_api_key = openai_api_key"
   ]
  },
  {
   "cell_type": "code",
   "execution_count": 4,
   "id": "6e47ca64-efb8-4873-a007-636d4e4f8bda",
   "metadata": {},
   "outputs": [
    {
     "name": "stderr",
     "output_type": "stream",
     "text": [
      "A parameter name that contains `beta` will be renamed internally to `bias`. Please use a different name to suppress this warning.\n",
      "A parameter name that contains `gamma` will be renamed internally to `weight`. Please use a different name to suppress this warning.\n",
      "A parameter name that contains `beta` will be renamed internally to `bias`. Please use a different name to suppress this warning.\n",
      "A parameter name that contains `gamma` will be renamed internally to `weight`. Please use a different name to suppress this warning.\n",
      "A parameter name that contains `beta` will be renamed internally to `bias`. Please use a different name to suppress this warning.\n",
      "A parameter name that contains `gamma` will be renamed internally to `weight`. Please use a different name to suppress this warning.\n",
      "A parameter name that contains `beta` will be renamed internally to `bias`. Please use a different name to suppress this warning.\n",
      "A parameter name that contains `gamma` will be renamed internally to `weight`. Please use a different name to suppress this warning.\n",
      "A parameter name that contains `beta` will be renamed internally to `bias`. Please use a different name to suppress this warning.\n",
      "A parameter name that contains `gamma` will be renamed internally to `weight`. Please use a different name to suppress this warning.\n",
      "A parameter name that contains `beta` will be renamed internally to `bias`. Please use a different name to suppress this warning.\n",
      "A parameter name that contains `gamma` will be renamed internally to `weight`. Please use a different name to suppress this warning.\n",
      "A parameter name that contains `beta` will be renamed internally to `bias`. Please use a different name to suppress this warning.\n",
      "A parameter name that contains `gamma` will be renamed internally to `weight`. Please use a different name to suppress this warning.\n",
      "A parameter name that contains `beta` will be renamed internally to `bias`. Please use a different name to suppress this warning.\n",
      "A parameter name that contains `gamma` will be renamed internally to `weight`. Please use a different name to suppress this warning.\n",
      "A parameter name that contains `beta` will be renamed internally to `bias`. Please use a different name to suppress this warning.\n",
      "A parameter name that contains `gamma` will be renamed internally to `weight`. Please use a different name to suppress this warning.\n",
      "A parameter name that contains `beta` will be renamed internally to `bias`. Please use a different name to suppress this warning.\n",
      "A parameter name that contains `gamma` will be renamed internally to `weight`. Please use a different name to suppress this warning.\n",
      "A parameter name that contains `beta` will be renamed internally to `bias`. Please use a different name to suppress this warning.\n",
      "A parameter name that contains `gamma` will be renamed internally to `weight`. Please use a different name to suppress this warning.\n",
      "A parameter name that contains `beta` will be renamed internally to `bias`. Please use a different name to suppress this warning.\n",
      "A parameter name that contains `gamma` will be renamed internally to `weight`. Please use a different name to suppress this warning.\n",
      "A parameter name that contains `beta` will be renamed internally to `bias`. Please use a different name to suppress this warning.\n",
      "A parameter name that contains `gamma` will be renamed internally to `weight`. Please use a different name to suppress this warning.\n",
      "A parameter name that contains `beta` will be renamed internally to `bias`. Please use a different name to suppress this warning.\n",
      "A parameter name that contains `gamma` will be renamed internally to `weight`. Please use a different name to suppress this warning.\n",
      "A parameter name that contains `beta` will be renamed internally to `bias`. Please use a different name to suppress this warning.\n",
      "A parameter name that contains `gamma` will be renamed internally to `weight`. Please use a different name to suppress this warning.\n",
      "A parameter name that contains `beta` will be renamed internally to `bias`. Please use a different name to suppress this warning.\n",
      "A parameter name that contains `gamma` will be renamed internally to `weight`. Please use a different name to suppress this warning.\n",
      "A parameter name that contains `beta` will be renamed internally to `bias`. Please use a different name to suppress this warning.\n",
      "A parameter name that contains `gamma` will be renamed internally to `weight`. Please use a different name to suppress this warning.\n",
      "A parameter name that contains `beta` will be renamed internally to `bias`. Please use a different name to suppress this warning.\n",
      "A parameter name that contains `gamma` will be renamed internally to `weight`. Please use a different name to suppress this warning.\n",
      "A parameter name that contains `beta` will be renamed internally to `bias`. Please use a different name to suppress this warning.\n",
      "A parameter name that contains `gamma` will be renamed internally to `weight`. Please use a different name to suppress this warning.\n",
      "A parameter name that contains `beta` will be renamed internally to `bias`. Please use a different name to suppress this warning.\n",
      "A parameter name that contains `gamma` will be renamed internally to `weight`. Please use a different name to suppress this warning.\n",
      "A parameter name that contains `beta` will be renamed internally to `bias`. Please use a different name to suppress this warning.\n",
      "A parameter name that contains `gamma` will be renamed internally to `weight`. Please use a different name to suppress this warning.\n",
      "A parameter name that contains `beta` will be renamed internally to `bias`. Please use a different name to suppress this warning.\n",
      "A parameter name that contains `gamma` will be renamed internally to `weight`. Please use a different name to suppress this warning.\n",
      "A parameter name that contains `beta` will be renamed internally to `bias`. Please use a different name to suppress this warning.\n",
      "A parameter name that contains `gamma` will be renamed internally to `weight`. Please use a different name to suppress this warning.\n",
      "A parameter name that contains `beta` will be renamed internally to `bias`. Please use a different name to suppress this warning.\n",
      "A parameter name that contains `gamma` will be renamed internally to `weight`. Please use a different name to suppress this warning.\n",
      "A parameter name that contains `beta` will be renamed internally to `bias`. Please use a different name to suppress this warning.\n",
      "A parameter name that contains `gamma` will be renamed internally to `weight`. Please use a different name to suppress this warning.\n",
      "A parameter name that contains `beta` will be renamed internally to `bias`. Please use a different name to suppress this warning.\n",
      "A parameter name that contains `gamma` will be renamed internally to `weight`. Please use a different name to suppress this warning.\n"
     ]
    }
   ],
   "source": [
    "model_name = \"bert-base-uncased\"\n",
    "tokenizer = AutoTokenizer.from_pretrained(model_name)\n",
    "model = AutoModel.from_pretrained(model_name)\n"
   ]
  },
  {
   "cell_type": "code",
   "execution_count": 7,
   "id": "631b5dac-8eff-414c-a7b7-67a35052dba7",
   "metadata": {
    "tags": []
   },
   "outputs": [
    {
     "name": "stdout",
     "output_type": "stream",
     "text": [
      "Generated SQL: The medication prescribed to the patient with subject_id 15130648 and hadm_id 20919522 after post op was 'OxyCODONE (Immediate Rel 5mg TAB)'. The prescription started at 2175-12-29 18:00:00.\n"
     ]
    }
   ],
   "source": [
    "# Initialize BigQuery client\n",
    "bigquery_client = bigquery.Client()\n",
    "\n",
    "# Define the Gemini model\n",
    "llm = ChatOpenAI(openai_api_key=openai_api_key, model=\"gpt-4-32k\")\n",
    "\n",
    "# Manually define the SQLDatabase\n",
    "# Assume you have a BigQuery connection string or credentials file\n",
    "connection_string = \"bigquery://us-gcp-ame-con-5b680-sbx-1/mimic_iv_hosp_icu_dataset\"\n",
    "\n",
    "# Create the SQLDatabase instance\n",
    "db = SQLDatabase.from_uri(connection_string)\n",
    "\n",
    "# Create the SQLDatabaseChain\n",
    "chain = SQLDatabaseChain(llm=llm, database=db)\n",
    "\n",
    "# Define your natural language query\n",
    "natural_language_query = \"List of medication prescribed to patients after post op limit 1\"\n",
    "\n",
    "# Generate SQL and execute\n",
    "sql_query = chain.run(natural_language_query)\n",
    "print(\"Generated SQL:\", sql_query)"
   ]
  },
  {
   "cell_type": "code",
   "execution_count": 16,
   "id": "c6f55476-1c46-462f-95d0-5112fd2fe5ed",
   "metadata": {
    "tags": []
   },
   "outputs": [],
   "source": [
    "rag_text = sql_query  # Replace with your actual RAG text\n",
    "rag_tokens = tokenizer(rag_text, return_tensors=\"pt\")\n",
    "rag_embeddings = model(**rag_tokens).last_hidden_state[:, 0, :]  # Get the first token's embedding\n"
   ]
  },
  {
   "cell_type": "code",
   "execution_count": 10,
   "id": "2535b906-acd3-4f87-a9d8-dddd83deda55",
   "metadata": {
    "tags": []
   },
   "outputs": [
    {
     "name": "stdout",
     "output_type": "stream",
     "text": [
      "response\n",
      " prediction: {'content': \" Oxycodone is an opioid pain medication. It is used to relieve moderate to severe pain. Oxycodone can slow or stop your breathing, and may be habit-forming. Oxycodone may also cause severe constipation, which can lead to other serious problems. Do not use oxycodone if you have severe breathing problems, a blockage in your stomach or intestines, or if you have recently used alcohol, sedatives, tranquilizers, or other opioid medications. Do not use oxycodone if you are allergic to it or to other opioid medications, such as codeine, hydrocodone, or morphine. To use oxycodone safely, follow your doctor's instructions and the directions on the medication label. Do not take more or less oxycodone than prescribed, and do not take it more often than prescribed. Do not crush, chew, or dissolve the tablets. Swallow them whole. Oxycodone can cause side effects, including drowsiness, dizziness, nausea, vomiting, constipation, and headache. If you experience any of these side effects, talk to your doctor. Do not drink alcohol while taking oxycodone. Alcohol can increase the risk of serious side effects, including overdose and death. Do not drive or operate machinery while taking oxycodone. Oxycodone can impair your thinking and judgment. If you are pregnant or breastfeeding, talk to your doctor before taking oxycodone. Oxycodone can pass into breast milk and may harm a nursing baby. If you are taking oxycodone for a long time, your doctor may recommend that you take a lower dose of the medication over time to reduce your risk of addiction and other side effects. Do not stop taking oxycodone suddenly without talking to your doctor. Stopping the medication suddenly can cause withdrawal symptoms, such as anxiety, sweating, nausea, and vomiting. If you have any questions or concerns about oxycodone, talk to your doctor.\", 'citationMetadata': <proto.marshal.collections.maps.MapComposite object at 0x7fa8043dbc70>, 'safetyAttributes': <proto.marshal.collections.maps.MapComposite object at 0x7fa8043dbdf0>}\n"
     ]
    }
   ],
   "source": [
    "client_options = {\"api_endpoint\": \"us-central1-aiplatform.googleapis.com\"}\n",
    "\n",
    "# Initialize client that will be used to create and send requests.\n",
    "\n",
    "# This client only needs to be created once, and can be reused for multiple requests.\n",
    "\n",
    "client = aiplatform.gapic.PredictionServiceClient(\n",
    "\n",
    "    client_options=client_options\n",
    "\n",
    ")\n",
    "\n",
    "instance_dict = { \"content\": \"Summarize \" + rag_text }\n",
    "\n",
    "instance = json_format.ParseDict(instance_dict, Value())\n",
    "\n",
    "instances = [instance]\n",
    "\n",
    "parameters_dict = {\n",
    "\n",
    "    \"candidateCount\": 1,\n",
    "\n",
    "    \"maxOutputTokens\": 500,\n",
    "\n",
    "    \"temperature\": 0.2,\n",
    "\n",
    "    \"topP\": 0.8,\n",
    "\n",
    "    \"topK\": 40\n",
    "\n",
    "}\n",
    "\n",
    "parameters = json_format.ParseDict(parameters_dict, Value())\n",
    "\n",
    "response = client.predict(\n",
    "\n",
    "    endpoint=\"projects/us-gcp-ame-con-5b680-sbx-1/locations/us-central1/publishers/google/models/medlm-large\", instances=instances, parameters=parameters\n",
    "\n",
    ")\n",
    "\n",
    "print(\"response\")\n",
    "\n",
    "predictions = response.predictions\n",
    "\n",
    "for prediction in predictions:\n",
    "    print(\" prediction:\", dict(prediction))"
   ]
  },
  {
   "cell_type": "code",
   "execution_count": 11,
   "id": "afb1b19a-53b2-4083-a700-64b8d8038dfc",
   "metadata": {},
   "outputs": [],
   "source": [
    "medlm_output = ''' Oxycodone is an opioid pain medication. It is used to relieve moderate to severe pain.\n",
    "Oxycodone can slow or stop your breathing, and may be habit-forming. Oxycodone may also cause severe constipation, which can lead to other serious problems. \n",
    "Do not use oxycodone if you have severe breathing problems, a blockage in your stomach or intestines, or if you have recently used alcohol, sedatives, tranquilizers, \n",
    "or other opioid medications. Do not use oxycodone if you are allergic to it or to other opioid medications, such as codeine, hydrocodone, or morphine.\n",
    "To use oxycodone safely, follow your doctor's instructions and the directions on the medication label. \n",
    "Do not take more or less oxycodone than prescribed, and do not take it more often than prescribed. Do not crush, chew, or dissolve the tablets. Swallow them whole. \n",
    "Oxycodone can cause side effects, including drowsiness, dizziness, nausea, vomiting, constipation, and headache. If you experience any of these side effects, talk to your doctor. \n",
    "Do not drink alcohol while taking oxycodone. Alcohol can increase the risk of serious side effects, including overdose and death. Do not drive or operate machinery while taking oxycodone. \n",
    "Oxycodone can impair your thinking and judgment. If you are pregnant or breastfeeding, talk to your doctor before taking oxycodone. Oxycodone can pass into breast milk and may harm a nursing baby. \n",
    "If you are taking oxycodone for a long time, your doctor may recommend that you take a lower dose of the medication over time to reduce your risk of addiction and other side effects. \n",
    "Do not stop taking oxycodone suddenly without talking to your doctor. Stopping the medication suddenly can cause withdrawal symptoms, such as anxiety, sweating, nausea, and vomiting. \n",
    "If you have any questions or concerns about oxycodone, talk to your doctor.'''\n",
    "\n",
    "medlm_tokens = tokenizer(medlm_output, return_tensors=\"pt\")\n",
    "medlm_embeddings = model(**medlm_tokens).last_hidden_state[:, 0, :]  # Get the first token's embedding\n"
   ]
  },
  {
   "cell_type": "code",
   "execution_count": 17,
   "id": "f75dd641-b363-4b91-bc08-738a4585c7e2",
   "metadata": {
    "tags": []
   },
   "outputs": [],
   "source": [
    "sentence_transformer = SentenceTransformer(\"all-mpnet-base-v2\")\n",
    "medlm_embeddings = sentence_transformer.encode(medlm_output)\n",
    "rag_embeddings = sentence_transformer.encode(rag_text)\n"
   ]
  },
  {
   "cell_type": "code",
   "execution_count": 18,
   "id": "657d7559-7219-41c5-87ac-0ecfd2d4449c",
   "metadata": {
    "tags": []
   },
   "outputs": [
    {
     "name": "stdout",
     "output_type": "stream",
     "text": [
      "Cosine Similarity: 0.4793439\n"
     ]
    }
   ],
   "source": [
    "from sklearn.metrics.pairwise import cosine_similarity\n",
    "\n",
    "cosine_sim = cosine_similarity([medlm_embeddings], [rag_embeddings])[0][0]\n",
    "print(\"Cosine Similarity:\", cosine_sim)\n"
   ]
  },
  {
   "cell_type": "code",
   "execution_count": 19,
   "id": "2ebe2725-17bd-44c6-b598-d897ffe8267f",
   "metadata": {
    "tags": []
   },
   "outputs": [
    {
     "name": "stdout",
     "output_type": "stream",
     "text": [
      "BLEU Score: 6.227395038190965e-232\n",
      "ROUGE Scores: [{'rouge-1': {'r': 0.19230769230769232, 'p': 0.034013605442176874, 'f': 0.05780346565404803}, 'rouge-2': {'r': 0.0, 'p': 0.0, 'f': 0.0}, 'rouge-l': {'r': 0.15384615384615385, 'p': 0.027210884353741496, 'f': 0.04624277201242956}}]\n"
     ]
    }
   ],
   "source": [
    "from rouge import Rouge\n",
    "from nltk.translate.bleu_score import sentence_bleu\n",
    "\n",
    "# Calculate BLEU score\n",
    "bleu_score = sentence_bleu([rag_text.split()], medlm_output.split())\n",
    "print(\"BLEU Score:\", bleu_score)\n",
    "\n",
    "# Calculate ROUGE score\n",
    "rouge = Rouge()\n",
    "rouge_scores = rouge.get_scores(medlm_output, rag_text)\n",
    "print(\"ROUGE Scores:\", rouge_scores)\n"
   ]
  },
  {
   "cell_type": "code",
   "execution_count": null,
   "id": "e9265e28-ecd0-44d8-9310-69f966577830",
   "metadata": {},
   "outputs": [],
   "source": []
  },
  {
   "cell_type": "markdown",
   "id": "b534e293-d34f-433f-a01f-46fe87380559",
   "metadata": {},
   "source": [
    "# No weights "
   ]
  },
  {
   "cell_type": "code",
   "execution_count": 15,
   "id": "a25b2bb2-7f03-45e8-b11c-6662f7608278",
   "metadata": {
    "tags": []
   },
   "outputs": [
    {
     "name": "stdout",
     "output_type": "stream",
     "text": [
      "response\n",
      " prediction: {'content': \" Oxycodone is an opioid pain medication. It is used to relieve moderate to severe pain. Oxycodone can slow or stop your breathing, and may be habit-forming. Oxycodone may also cause severe constipation, which can lead to other serious problems. Do not use oxycodone if you have severe breathing problems, a blockage in your stomach or intestines, or if you have recently used alcohol, sedatives, tranquilizers, or other opioid medications. Do not use oxycodone if you are allergic to it or to other opioid medications, such as codeine, hydrocodone, or morphine. To use oxycodone safely, follow your doctor's instructions and the directions on the medication label. Do not take more or less oxycodone than prescribed, and do not take it more often than prescribed. Do not crush, chew, or dissolve the tablets. Swallow them whole. Oxycodone can cause side effects, including drowsiness, dizziness, nausea, vomiting, constipation, and headache. If you experience any of these side effects, talk to your doctor. Do not drink alcohol while taking oxycodone. Alcohol can increase the risk of serious side effects, including overdose and death. Do not drive or operate machinery while taking oxycodone. Oxycodone can impair your thinking and judgment. If you are pregnant or breastfeeding, talk to your doctor before taking oxycodone. Oxycodone can pass into breast milk and may harm a nursing baby. If you are taking oxycodone for a long time, your doctor may recommend that you take a lower dose of the medication over time to reduce your risk of addiction and other side effects. Do not stop taking oxycodone suddenly without talking to your doctor. Stopping the medication suddenly can cause withdrawal symptoms, such as anxiety, sweating, nausea, and vomiting. If you have any questions or concerns about oxycodone, talk to your doctor.\", 'safetyAttributes': <proto.marshal.collections.maps.MapComposite object at 0x7fa8043db940>, 'citationMetadata': <proto.marshal.collections.maps.MapComposite object at 0x7fa8043db910>}\n"
     ]
    }
   ],
   "source": [
    "client_options = {\"api_endpoint\": \"us-central1-aiplatform.googleapis.com\"}\n",
    "\n",
    "# Initialize client that will be used to create and send requests.\n",
    "\n",
    "# This client only needs to be created once, and can be reused for multiple requests.\n",
    "\n",
    "client = aiplatform.gapic.PredictionServiceClient(\n",
    "\n",
    "    client_options=client_options\n",
    "\n",
    ")\n",
    "\n",
    "instance_dict = { \"content\": \"Summarize \" + sql_query }\n",
    "\n",
    "instance = json_format.ParseDict(instance_dict, Value())\n",
    "\n",
    "instances = [instance]\n",
    "\n",
    "parameters_dict = {\n",
    "\n",
    "    \"candidateCount\": 1,\n",
    "\n",
    "    \"maxOutputTokens\": 500,\n",
    "\n",
    "    \"temperature\": 0.2,\n",
    "\n",
    "    \"topP\": 0.8,\n",
    "\n",
    "    \"topK\": 40\n",
    "\n",
    "}\n",
    "\n",
    "parameters = json_format.ParseDict(parameters_dict, Value())\n",
    "\n",
    "response = client.predict(\n",
    "\n",
    "    endpoint=\"projects/us-gcp-ame-con-5b680-sbx-1/locations/us-central1/publishers/google/models/medlm-large\", instances=instances, parameters=parameters\n",
    "\n",
    ")\n",
    "\n",
    "print(\"response\")\n",
    "\n",
    "predictions = response.predictions\n",
    "\n",
    "for prediction in predictions:\n",
    "    print(\" prediction:\", dict(prediction))"
   ]
  },
  {
   "cell_type": "code",
   "execution_count": 20,
   "id": "bdbc9874-a659-45a1-bd87-798e3c737bcb",
   "metadata": {
    "tags": []
   },
   "outputs": [
    {
     "name": "stdout",
     "output_type": "stream",
     "text": [
      "Cosine Similarity: 0.4728148281574249\n"
     ]
    }
   ],
   "source": [
    "from sentence_transformers import SentenceTransformer, util\n",
    "\n",
    "# Load a pre-trained sentence embedding model\n",
    "model = SentenceTransformer('all-mpnet-base-v2')\n",
    "\n",
    "# MedLM output\n",
    "medlm_output = ''' Oxycodone is an opioid pain medication. It is used to relieve moderate to severe pain. Oxycodone can slow or stop your breathing, and may be habit-forming. Oxycodone may also cause severe constipation, which can lead to other serious problems. Do not use oxycodone if you have severe breathing problems, a blockage in your stomach or intestines, or if you have recently used alcohol, sedatives, tranquilizers, or other opioid medications. Do not use oxycodone if you are allergic to it or to other opioid medications, such as codeine, hydrocodone, or morphine. To use oxycodone safely, follow your doctor's instructions and the directions on the medication label. Do not take more or less oxycodone than prescribed, and do not take it more often than prescribed. Do not crush, chew, or dissolve the tablets. Swallow them whole. Oxycodone can cause side effects, including drowsiness, dizziness, nausea, vomiting, constipation, and headache. If you experience any of these side effects, talk to your doctor. Do not drink alcohol while taking oxycodone. Alcohol can increase the risk of serious side effects, including overdose and death. Do not drive or operate machinery while taking oxycodone. Oxycodone can impair your thinking and judgment. If you are pregnant or breastfeeding, talk to your doctor before taking oxycodone. Oxycodone can pass into breast milk and may harm a nursing baby. If you are taking oxycodone for a long time, your doctor may recommend that you take a lower dose of the medication over time to reduce your risk of addiction and other side effects. Do not stop taking oxycodone suddenly without talking to your doctor. Stopping the medication suddenly can cause withdrawal symptoms, such as anxiety, sweating, nausea, and vomiting. If you have any questions or concerns about oxycodone, talk to your doctor.'''\n",
    "\n",
    "# Your reference text\n",
    "rag_output = '''The medication prescribed to the patient with subject_id 15130648 and hadm_id 20919522 after post op was 'OxyCODONE (Immediate Rel 5mg TAB)'. The prescription started at 2175-12-29 18:00:00'''\n",
    "\n",
    "# Encode the sentences into vectors\n",
    "medlm_embedding = model.encode(medlm_output)\n",
    "reference_embedding = model.encode(rag_output)\n",
    "\n",
    "# Calculate cosine similarity\n",
    "cosine_similarity = util.cos_sim(medlm_embedding, reference_embedding)[0][0]\n",
    "\n",
    "print(f\"Cosine Similarity: {cosine_similarity}\")"
   ]
  },
  {
   "cell_type": "code",
   "execution_count": 43,
   "id": "ba300d1a-492e-470d-b38b-5e137b28abda",
   "metadata": {
    "tags": []
   },
   "outputs": [
    {
     "name": "stdout",
     "output_type": "stream",
     "text": [
      "BLEU Score: 9.947643045471176e-232\n",
      "ROUGE Scores: [{'rouge-1': {'r': 0.45454545454545453, 'p': 0.15151515151515152, 'f': 0.22727272352272732}, 'rouge-2': {'r': 0.0, 'p': 0.0, 'f': 0.0}, 'rouge-l': {'r': 0.36363636363636365, 'p': 0.12121212121212122, 'f': 0.1818181780681819}}]\n"
     ]
    }
   ],
   "source": [
    "from rouge import Rouge\n",
    "from nltk.translate.bleu_score import sentence_bleu\n",
    "\n",
    "# Calculate BLEU score\n",
    "bleu_score = sentence_bleu([rag_text.split()], medlm_output.split())\n",
    "print(\"BLEU Score:\", bleu_score)\n",
    "\n",
    "# Calculate ROUGE score\n",
    "rouge = Rouge()\n",
    "rouge_scores = rouge.get_scores(medlm_output, rag_text)\n",
    "print(\"ROUGE Scores:\", rouge_scores)"
   ]
  },
  {
   "cell_type": "markdown",
   "id": "784de0b2-ad9d-4018-96bc-50d0ed762c64",
   "metadata": {},
   "source": [
    "tokenizer : Tokenizes the input text into a sequence of words or subwords.\n",
    "\n",
    "model : Processes the tokens through the BERT model to obtain hidden state representations.\n",
    "\n",
    "last_hidden_state[:, 0, :] : Extracts the embedding for the first token (often the [CLS] token) as a vector representation of the entire input.\n",
    "\n",
    "SentenceTransformer : Provides pre-trained models specifically designed for sentence embedding.\n",
    "\n",
    "Important Notes:\n",
    "\n",
    "BERT Model Choice: The choice of BERT model can affect the quality of the embeddings. Experiment with different models to find the best one for your task.\n",
    "\n",
    "Sentence Embeddings: If you're working with longer texts, consider using sentence embeddings to capture the overall meaning.\n",
    "\n",
    "Cosine Similarity: Cosine similarity is a good measure of semantic similarity, but it doesn't capture all aspects of text quality.\n"
   ]
  },
  {
   "cell_type": "code",
   "execution_count": null,
   "id": "6e9bd59c-9c07-4a13-8aa4-de806af7ed0d",
   "metadata": {},
   "outputs": [],
   "source": []
  },
  {
   "cell_type": "markdown",
   "id": "c32fce21-3334-4602-ad07-ce225126c20d",
   "metadata": {},
   "source": [
    "# Question 1"
   ]
  },
  {
   "cell_type": "code",
   "execution_count": 5,
   "id": "2857a5b7-0a60-42a5-aa01-dee6a40d250d",
   "metadata": {
    "tags": []
   },
   "outputs": [],
   "source": [
    "sql_query = \"The medication 'Papain 2.5 % Solution' was used to treat a patient with id 12749568, who was admitted on 2136-11-09\"\n",
    "rag_text = sql_query  # Replace with your actual RAG text\n",
    "rag_tokens = tokenizer(rag_text, return_tensors=\"pt\")\n",
    "rag_embeddings = model(**rag_tokens).last_hidden_state[:, 0, :]  # Get the first token's embedding"
   ]
  },
  {
   "cell_type": "code",
   "execution_count": 6,
   "id": "0eefa9af-d0af-4e3a-a8cf-cfc19e789af1",
   "metadata": {
    "tags": []
   },
   "outputs": [
    {
     "name": "stdout",
     "output_type": "stream",
     "text": [
      "response\n",
      " prediction: {'citationMetadata': <proto.marshal.collections.maps.MapComposite object at 0x7f8b8ecf6bc0>, 'safetyAttributes': <proto.marshal.collections.maps.MapComposite object at 0x7f8b8ecf7c40>, 'content': ' Papain 2.5% solution is a medication that is used to treat a variety of conditions. It is a proteolytic enzyme, which means that it helps to break down proteins. Papain is derived from the papaya fruit, and it has been used for centuries to treat a variety of medical conditions. Papain 2.5% solution can be used to treat a variety of conditions, including: Wounds: Papain can help to clean and debride wounds, and it can also help to promote healing. Skin conditions: Papain can be used to treat a variety of skin conditions, such as eczema and psoriasis. Digestive problems: Papain can help to improve digestion and relieve symptoms of indigestion, such as heartburn and bloating. Inflammation: Papain can help to reduce inflammation in the body. Papain 2.5% solution is a safe and effective medication that can be used to treat a variety of conditions. It is important to follow the directions on the medication label and to talk to your doctor or pharmacist if you have any questions about the medication.'}\n"
     ]
    }
   ],
   "source": [
    "client_options = {\"api_endpoint\": \"us-central1-aiplatform.googleapis.com\"}\n",
    "\n",
    "# Initialize client that will be used to create and send requests.\n",
    "\n",
    "# This client only needs to be created once, and can be reused for multiple requests.\n",
    "\n",
    "client = aiplatform.gapic.PredictionServiceClient(\n",
    "\n",
    "    client_options=client_options\n",
    "\n",
    ")\n",
    "\n",
    "instance_dict = { \"content\": \"Summarize \" + rag_text }\n",
    "\n",
    "instance = json_format.ParseDict(instance_dict, Value())\n",
    "\n",
    "instances = [instance]\n",
    "\n",
    "parameters_dict = {\n",
    "\n",
    "    \"candidateCount\": 1,\n",
    "\n",
    "    \"maxOutputTokens\": 500,\n",
    "\n",
    "    \"temperature\": 0.2,\n",
    "\n",
    "    \"topP\": 0.8,\n",
    "\n",
    "    \"topK\": 40\n",
    "\n",
    "}\n",
    "\n",
    "parameters = json_format.ParseDict(parameters_dict, Value())\n",
    "\n",
    "response = client.predict(\n",
    "\n",
    "    endpoint=\"projects/us-gcp-ame-con-5b680-sbx-1/locations/us-central1/publishers/google/models/medlm-large\", instances=instances, parameters=parameters\n",
    "\n",
    ")\n",
    "\n",
    "print(\"response\")\n",
    "\n",
    "predictions = response.predictions\n",
    "\n",
    "for prediction in predictions:\n",
    "    print(\" prediction:\", dict(prediction))"
   ]
  },
  {
   "cell_type": "code",
   "execution_count": 7,
   "id": "933dd4cd-283d-4f1b-8cd4-fd68878e2085",
   "metadata": {
    "tags": []
   },
   "outputs": [],
   "source": [
    "medlm_output = '''Papain 2.5% solution is a medication that is used to treat a variety of conditions. It is a proteolytic enzyme, which means that it helps to break down proteins. Papain is derived from the papaya fruit, and it has been used for centuries to treat a variety of medical conditions. Papain 2.5% solution can be used to treat a variety of conditions, including: Wounds: Papain can help to clean and debride wounds, and it can also help to promote healing. Skin conditions: Papain can be used to treat a variety of skin conditions, such as eczema and psoriasis. Digestive problems: Papain can help to improve digestion and relieve symptoms of indigestion, such as heartburn and bloating. Inflammation: Papain can help to reduce inflammation in the body. Papain 2.5% solution is a safe and effective medication that can be used to treat a variety of conditions. It is important to follow the directions on the medication label and to talk to your doctor or pharmacist if you have any questions about the medication.'''\n",
    "\n",
    "medlm_tokens = tokenizer(medlm_output, return_tensors=\"pt\")\n",
    "medlm_embeddings = model(**medlm_tokens).last_hidden_state[:, 0, :]  # Get the first token's embedding\n"
   ]
  },
  {
   "cell_type": "code",
   "execution_count": 8,
   "id": "497b60ec-0d28-4630-9ce9-4e055df4007f",
   "metadata": {
    "tags": []
   },
   "outputs": [],
   "source": [
    "sentence_transformer = SentenceTransformer(\"all-mpnet-base-v2\")\n",
    "medlm_embeddings = sentence_transformer.encode(medlm_output)\n",
    "rag_embeddings = sentence_transformer.encode(rag_text)\n"
   ]
  },
  {
   "cell_type": "code",
   "execution_count": 9,
   "id": "891718c5-22f9-496a-9d79-6b26150af21d",
   "metadata": {
    "tags": []
   },
   "outputs": [
    {
     "name": "stdout",
     "output_type": "stream",
     "text": [
      "Cosine Similarity: 0.66296136\n"
     ]
    }
   ],
   "source": [
    "from sklearn.metrics.pairwise import cosine_similarity\n",
    "\n",
    "cosine_sim = cosine_similarity([medlm_embeddings], [rag_embeddings])[0][0]\n",
    "print(\"Cosine Similarity:\", cosine_sim)"
   ]
  },
  {
   "cell_type": "code",
   "execution_count": 10,
   "id": "a7918ed5-a705-4ef7-8726-349c48387a71",
   "metadata": {
    "tags": []
   },
   "outputs": [
    {
     "name": "stdout",
     "output_type": "stream",
     "text": [
      "BLEU Score: 0.014366817644349382\n",
      "ROUGE Scores: [{'rouge-1': {'r': 0.35, 'p': 0.08139534883720931, 'f': 0.13207546863652553}, 'rouge-2': {'r': 0.15, 'p': 0.023622047244094488, 'f': 0.040816324179740064}, 'rouge-l': {'r': 0.35, 'p': 0.08139534883720931, 'f': 0.13207546863652553}}]\n"
     ]
    }
   ],
   "source": [
    "from rouge import Rouge\n",
    "from nltk.translate.bleu_score import sentence_bleu\n",
    "\n",
    "# Calculate BLEU score\n",
    "bleu_score = sentence_bleu([rag_text.split()], medlm_output.split())\n",
    "print(\"BLEU Score:\", bleu_score)\n",
    "\n",
    "# Calculate ROUGE score\n",
    "rouge = Rouge()\n",
    "rouge_scores = rouge.get_scores(medlm_output, rag_text)\n",
    "print(\"ROUGE Scores:\", rouge_scores)\n"
   ]
  },
  {
   "cell_type": "markdown",
   "id": "57f1f222-3f92-414c-b384-99828b6f949b",
   "metadata": {},
   "source": [
    "# Question 2"
   ]
  },
  {
   "cell_type": "code",
   "execution_count": 11,
   "id": "577ad3f1-0f79-4e2e-b0a7-31fff98e9835",
   "metadata": {
    "tags": []
   },
   "outputs": [],
   "source": [
    "sql_query = \"The most frequently prescribed prescription drug is Insulin.\"\n",
    "rag_text = sql_query  # Replace with your actual RAG text\n",
    "rag_tokens = tokenizer(rag_text, return_tensors=\"pt\")\n",
    "rag_embeddings = model(**rag_tokens).last_hidden_state[:, 0, :]  # Get the first token's embedding"
   ]
  },
  {
   "cell_type": "code",
   "execution_count": 12,
   "id": "12a33d34-e14a-4010-a7b3-8951bbc75d0a",
   "metadata": {
    "tags": []
   },
   "outputs": [
    {
     "name": "stdout",
     "output_type": "stream",
     "text": [
      "response\n",
      " prediction: {'citationMetadata': <proto.marshal.collections.maps.MapComposite object at 0x7f8ce0128ee0>, 'content': \" Insulin is a hormone that is produced by the pancreas and is essential for the body's use of glucose (sugar) for energy. It is used to treat diabetes, a condition in which the body does not produce enough insulin or does not use insulin effectively. Insulin is available in several different forms, including injectable, oral, and inhaled forms. The type and dose of insulin that is prescribed will depend on the individual's needs.\", 'safetyAttributes': <proto.marshal.collections.maps.MapComposite object at 0x7f8ce0129900>}\n"
     ]
    }
   ],
   "source": [
    "client_options = {\"api_endpoint\": \"us-central1-aiplatform.googleapis.com\"}\n",
    "\n",
    "# Initialize client that will be used to create and send requests.\n",
    "\n",
    "# This client only needs to be created once, and can be reused for multiple requests.\n",
    "\n",
    "client = aiplatform.gapic.PredictionServiceClient(\n",
    "\n",
    "    client_options=client_options\n",
    "\n",
    ")\n",
    "\n",
    "instance_dict = { \"content\": \"Summarize \" + rag_text }\n",
    "\n",
    "instance = json_format.ParseDict(instance_dict, Value())\n",
    "\n",
    "instances = [instance]\n",
    "\n",
    "parameters_dict = {\n",
    "\n",
    "    \"candidateCount\": 1,\n",
    "\n",
    "    \"maxOutputTokens\": 500,\n",
    "\n",
    "    \"temperature\": 0.2,\n",
    "\n",
    "    \"topP\": 0.8,\n",
    "\n",
    "    \"topK\": 40\n",
    "\n",
    "}\n",
    "\n",
    "parameters = json_format.ParseDict(parameters_dict, Value())\n",
    "\n",
    "response = client.predict(\n",
    "\n",
    "    endpoint=\"projects/us-gcp-ame-con-5b680-sbx-1/locations/us-central1/publishers/google/models/medlm-large\", instances=instances, parameters=parameters\n",
    "\n",
    ")\n",
    "\n",
    "print(\"response\")\n",
    "\n",
    "predictions = response.predictions\n",
    "\n",
    "for prediction in predictions:\n",
    "    print(\" prediction:\", dict(prediction))"
   ]
  },
  {
   "cell_type": "code",
   "execution_count": 13,
   "id": "8e21e11f-1c0f-4394-bdb2-0331dd46c515",
   "metadata": {
    "tags": []
   },
   "outputs": [],
   "source": [
    "medlm_output = \"Insulin is a hormone that is produced by the pancreas and is essential for the body's use of glucose (sugar) for energy. It is used to treat diabetes, a condition in which the body does not produce enough insulin or does not use insulin effectively. Insulin is available in several different forms, including injectable, oral, and inhaled forms. The type and dose of insulin that is prescribed will depend on the individual's needs.\"\n",
    "medlm_tokens = tokenizer(medlm_output, return_tensors=\"pt\")\n",
    "medlm_embeddings = model(**medlm_tokens).last_hidden_state[:, 0, :]  # Get the first token's embedding\n"
   ]
  },
  {
   "cell_type": "code",
   "execution_count": 14,
   "id": "e73f4387-235b-44c7-9e31-3569eaaa626f",
   "metadata": {
    "tags": []
   },
   "outputs": [],
   "source": [
    "sentence_transformer = SentenceTransformer(\"all-mpnet-base-v2\")\n",
    "medlm_embeddings = sentence_transformer.encode(medlm_output)\n",
    "rag_embeddings = sentence_transformer.encode(rag_text)\n"
   ]
  },
  {
   "cell_type": "code",
   "execution_count": 15,
   "id": "05528a71-a040-4a9b-9778-d538601d96a5",
   "metadata": {
    "tags": []
   },
   "outputs": [
    {
     "name": "stdout",
     "output_type": "stream",
     "text": [
      "Cosine Similarity: 0.5294906\n"
     ]
    }
   ],
   "source": [
    "from sklearn.metrics.pairwise import cosine_similarity\n",
    "\n",
    "cosine_sim = cosine_similarity([medlm_embeddings], [rag_embeddings])[0][0]\n",
    "print(\"Cosine Similarity:\", cosine_sim)"
   ]
  },
  {
   "cell_type": "code",
   "execution_count": 16,
   "id": "be66d37b-d92e-4e81-b9d0-f19ed3e5492b",
   "metadata": {
    "tags": []
   },
   "outputs": [
    {
     "name": "stdout",
     "output_type": "stream",
     "text": [
      "BLEU Score: 8.202720662090001e-232\n",
      "ROUGE Scores: [{'rouge-1': {'r': 0.5, 'p': 0.07692307692307693, 'f': 0.13333333102222228}, 'rouge-2': {'r': 0.0, 'p': 0.0, 'f': 0.0}, 'rouge-l': {'r': 0.375, 'p': 0.057692307692307696, 'f': 0.09999999768888894}}]\n"
     ]
    }
   ],
   "source": [
    "from rouge import Rouge\n",
    "from nltk.translate.bleu_score import sentence_bleu\n",
    "\n",
    "# Calculate BLEU score\n",
    "bleu_score = sentence_bleu([rag_text.split()], medlm_output.split())\n",
    "print(\"BLEU Score:\", bleu_score)\n",
    "\n",
    "# Calculate ROUGE score\n",
    "rouge = Rouge()\n",
    "rouge_scores = rouge.get_scores(medlm_output, rag_text)\n",
    "print(\"ROUGE Scores:\", rouge_scores)"
   ]
  },
  {
   "cell_type": "code",
   "execution_count": null,
   "id": "6f5d3ec7-f7f8-4e4d-a45b-f3674287443e",
   "metadata": {},
   "outputs": [],
   "source": []
  },
  {
   "cell_type": "markdown",
   "id": "be4c0213-70e8-44f8-9912-130ab1b32d43",
   "metadata": {},
   "source": [
    "# Question 3"
   ]
  },
  {
   "cell_type": "code",
   "execution_count": 17,
   "id": "900b73ea-3fbc-4ca0-a450-97a58a93b08d",
   "metadata": {
    "tags": []
   },
   "outputs": [],
   "source": [
    "sql_query = \"The most frequent order types in provider order entries are: 1. Medications with 17690066 entries 2. Lab with 6565578 entries 3. General Care with 5690221 entries 4. ADT orders with 2171456 entries 5. IV therapy with 2140236 entries\"\n",
    "rag_text = sql_query  # Replace with your actual RAG text\n",
    "rag_tokens = tokenizer(rag_text, return_tensors=\"pt\")\n",
    "rag_embeddings = model(**rag_tokens).last_hidden_state[:, 0, :]  # Get the first token's embedding"
   ]
  },
  {
   "cell_type": "code",
   "execution_count": 18,
   "id": "fce6e61d-2544-4fad-a878-8f4dfc563371",
   "metadata": {
    "tags": []
   },
   "outputs": [
    {
     "name": "stdout",
     "output_type": "stream",
     "text": [
      "response\n",
      " prediction: {'citationMetadata': <proto.marshal.collections.maps.MapComposite object at 0x7f8b8ed4f730>, 'safetyAttributes': <proto.marshal.collections.maps.MapComposite object at 0x7f8b8ed4eec0>, 'content': ' The most frequent order types in provider order entries are: \\n1. Medications with 17690066 entries \\n2. Lab with 6565578 entries \\n3. General Care with 5690221 entries \\n4. ADT orders with 2171456 entries \\n5. IV therapy with 2140236 entries'}\n"
     ]
    }
   ],
   "source": [
    "client_options = {\"api_endpoint\": \"us-central1-aiplatform.googleapis.com\"}\n",
    "\n",
    "# Initialize client that will be used to create and send requests.\n",
    "\n",
    "# This client only needs to be created once, and can be reused for multiple requests.\n",
    "\n",
    "client = aiplatform.gapic.PredictionServiceClient(\n",
    "\n",
    "    client_options=client_options\n",
    "\n",
    ")\n",
    "\n",
    "instance_dict = { \"content\": \"Summarize \" + rag_text }\n",
    "\n",
    "instance = json_format.ParseDict(instance_dict, Value())\n",
    "\n",
    "instances = [instance]\n",
    "\n",
    "parameters_dict = {\n",
    "\n",
    "    \"candidateCount\": 1,\n",
    "\n",
    "    \"maxOutputTokens\": 500,\n",
    "\n",
    "    \"temperature\": 0.2,\n",
    "\n",
    "    \"topP\": 0.8,\n",
    "\n",
    "    \"topK\": 40\n",
    "\n",
    "}\n",
    "\n",
    "parameters = json_format.ParseDict(parameters_dict, Value())\n",
    "\n",
    "response = client.predict(\n",
    "\n",
    "    endpoint=\"projects/us-gcp-ame-con-5b680-sbx-1/locations/us-central1/publishers/google/models/medlm-large\", instances=instances, parameters=parameters\n",
    "\n",
    ")\n",
    "\n",
    "print(\"response\")\n",
    "\n",
    "predictions = response.predictions\n",
    "\n",
    "for prediction in predictions:\n",
    "    print(\" prediction:\", dict(prediction))"
   ]
  },
  {
   "cell_type": "code",
   "execution_count": 19,
   "id": "acd3cd60-04ba-42e3-b929-27b6e5dc9a94",
   "metadata": {
    "tags": []
   },
   "outputs": [],
   "source": [
    "medlm_output = \"The most frequent order types in provider order entries are: 1. Medications with 17690066 entries 2. Lab with 6565578 entries 3. General Care with 5690221 entries 4. ADT orders with 2171456 entries 5. IV therapy with 2140236 entries\"\n",
    "medlm_tokens = tokenizer(medlm_output, return_tensors=\"pt\")\n",
    "medlm_embeddings = model(**medlm_tokens).last_hidden_state[:, 0, :]  # Get the first token's embedding\n"
   ]
  },
  {
   "cell_type": "code",
   "execution_count": 20,
   "id": "6558c42f-c55c-4576-be78-eb95b0bd062a",
   "metadata": {
    "tags": []
   },
   "outputs": [],
   "source": [
    "sentence_transformer = SentenceTransformer(\"all-mpnet-base-v2\")\n",
    "medlm_embeddings = sentence_transformer.encode(medlm_output)\n",
    "rag_embeddings = sentence_transformer.encode(rag_text)\n"
   ]
  },
  {
   "cell_type": "code",
   "execution_count": 21,
   "id": "a201db7b-968c-4b54-8e0f-9a0fedcfdf29",
   "metadata": {
    "tags": []
   },
   "outputs": [
    {
     "name": "stdout",
     "output_type": "stream",
     "text": [
      "Cosine Similarity: 1.0000002\n"
     ]
    }
   ],
   "source": [
    "from sklearn.metrics.pairwise import cosine_similarity\n",
    "\n",
    "cosine_sim = cosine_similarity([medlm_embeddings], [rag_embeddings])[0][0]\n",
    "print(\"Cosine Similarity:\", cosine_sim)"
   ]
  },
  {
   "cell_type": "code",
   "execution_count": 22,
   "id": "14cc0e8f-bfe8-4d4a-9344-31dbb920dcf4",
   "metadata": {
    "tags": []
   },
   "outputs": [
    {
     "name": "stdout",
     "output_type": "stream",
     "text": [
      "BLEU Score: 1.0\n",
      "ROUGE Scores: [{'rouge-1': {'r': 1.0, 'p': 1.0, 'f': 0.999999995}, 'rouge-2': {'r': 1.0, 'p': 1.0, 'f': 0.999999995}, 'rouge-l': {'r': 1.0, 'p': 1.0, 'f': 0.999999995}}]\n"
     ]
    }
   ],
   "source": [
    "from rouge import Rouge\n",
    "from nltk.translate.bleu_score import sentence_bleu\n",
    "\n",
    "# Calculate BLEU score\n",
    "bleu_score = sentence_bleu([rag_text.split()], medlm_output.split())\n",
    "print(\"BLEU Score:\", bleu_score)\n",
    "\n",
    "# Calculate ROUGE score\n",
    "rouge = Rouge()\n",
    "rouge_scores = rouge.get_scores(medlm_output, rag_text)\n",
    "print(\"ROUGE Scores:\", rouge_scores)"
   ]
  },
  {
   "cell_type": "code",
   "execution_count": null,
   "id": "fd37ff77-9784-4d0d-b36a-5bf944a6a590",
   "metadata": {},
   "outputs": [],
   "source": []
  },
  {
   "cell_type": "markdown",
   "id": "5539294a-5866-4191-9cc5-8e058d35dbb5",
   "metadata": {},
   "source": [
    "# Question 4"
   ]
  },
  {
   "cell_type": "code",
   "execution_count": 23,
   "id": "4540f674-2628-4b82-9298-5de41c68457d",
   "metadata": {
    "tags": []
   },
   "outputs": [],
   "source": [
    "sql_query = \"The unique names of the tests given to patients who were admitted and the doctor comments VRE isolated are 'R/O VANCOMYCIN RESISTANT ENTEROCOCCUS', 'WOUND CULTURE', and 'FECAL CULTURE - R/O VIBRIO'\"\n",
    "rag_text = sql_query  # Replace with your actual RAG text\n",
    "rag_tokens = tokenizer(rag_text, return_tensors=\"pt\")\n",
    "rag_embeddings = model(**rag_tokens).last_hidden_state[:, 0, :]  # Get the first token's embedding"
   ]
  },
  {
   "cell_type": "code",
   "execution_count": 24,
   "id": "02fd62f1-e46f-44ec-8c9e-d59bd2e604dc",
   "metadata": {
    "tags": []
   },
   "outputs": [
    {
     "name": "stdout",
     "output_type": "stream",
     "text": [
      "response\n",
      " prediction: {'content': \" The doctor's comments indicate that the patient was admitted to the hospital and that the patient was isolated due to a vancomycin-resistant enterococcus (VRE) infection. VRE is a type of bacteria that is resistant to the antibiotic vancomycin. VRE infections can be serious and can cause a variety of symptoms, depending on the location of the infection. Treatment for VRE infections typically involves the use of antibiotics that are effective against VRE. The specific antibiotics that are used will depend on the individual patient and the severity of the infection. In some cases, surgery may be necessary to remove infected tissue.\", 'citationMetadata': <proto.marshal.collections.maps.MapComposite object at 0x7f8b8ed4f5e0>, 'safetyAttributes': <proto.marshal.collections.maps.MapComposite object at 0x7f8b8ed4fdf0>}\n"
     ]
    }
   ],
   "source": [
    "client_options = {\"api_endpoint\": \"us-central1-aiplatform.googleapis.com\"}\n",
    "\n",
    "# Initialize client that will be used to create and send requests.\n",
    "\n",
    "# This client only needs to be created once, and can be reused for multiple requests.\n",
    "\n",
    "client = aiplatform.gapic.PredictionServiceClient(\n",
    "\n",
    "    client_options=client_options\n",
    "\n",
    ")\n",
    "\n",
    "instance_dict = { \"content\": \"Summarize \" + rag_text }\n",
    "\n",
    "instance = json_format.ParseDict(instance_dict, Value())\n",
    "\n",
    "instances = [instance]\n",
    "\n",
    "parameters_dict = {\n",
    "\n",
    "    \"candidateCount\": 1,\n",
    "\n",
    "    \"maxOutputTokens\": 500,\n",
    "\n",
    "    \"temperature\": 0.2,\n",
    "\n",
    "    \"topP\": 0.8,\n",
    "\n",
    "    \"topK\": 40\n",
    "\n",
    "}\n",
    "\n",
    "parameters = json_format.ParseDict(parameters_dict, Value())\n",
    "\n",
    "response = client.predict(\n",
    "\n",
    "    endpoint=\"projects/us-gcp-ame-con-5b680-sbx-1/locations/us-central1/publishers/google/models/medlm-large\", instances=instances, parameters=parameters\n",
    "\n",
    ")\n",
    "\n",
    "print(\"response\")\n",
    "\n",
    "predictions = response.predictions\n",
    "\n",
    "for prediction in predictions:\n",
    "    print(\" prediction:\", dict(prediction))"
   ]
  },
  {
   "cell_type": "code",
   "execution_count": 25,
   "id": "19e76c57-27d2-4770-b24f-30818eb00c8e",
   "metadata": {
    "tags": []
   },
   "outputs": [],
   "source": [
    "medlm_output = \"The doctor's comments indicate that the patient was admitted to the hospital and that the patient was isolated due to a vancomycin-resistant enterococcus (VRE) infection. VRE is a type of bacteria that is resistant to the antibiotic vancomycin. VRE infections can be serious and can cause a variety of symptoms, depending on the location of the infection. Treatment for VRE infections typically involves the use of antibiotics that are effective against VRE. The specific antibiotics that are used will depend on the individual patient and the severity of the infection. In some cases, surgery may be necessary to remove infected tissue.\"\n",
    "medlm_tokens = tokenizer(medlm_output, return_tensors=\"pt\")\n",
    "medlm_embeddings = model(**medlm_tokens).last_hidden_state[:, 0, :]  # Get the first token's embedding"
   ]
  },
  {
   "cell_type": "code",
   "execution_count": 26,
   "id": "815c64ea-e88e-4513-8912-690ff4a2cfd4",
   "metadata": {
    "tags": []
   },
   "outputs": [],
   "source": [
    "sentence_transformer = SentenceTransformer(\"all-mpnet-base-v2\")\n",
    "medlm_embeddings = sentence_transformer.encode(medlm_output)\n",
    "rag_embeddings = sentence_transformer.encode(rag_text)"
   ]
  },
  {
   "cell_type": "code",
   "execution_count": 27,
   "id": "7d462719-c644-4a9e-a0b5-9c900b15a763",
   "metadata": {
    "tags": []
   },
   "outputs": [
    {
     "name": "stdout",
     "output_type": "stream",
     "text": [
      "Cosine Similarity: 0.7876705\n"
     ]
    }
   ],
   "source": [
    "from sklearn.metrics.pairwise import cosine_similarity\n",
    "\n",
    "cosine_sim = cosine_similarity([medlm_embeddings], [rag_embeddings])[0][0]\n",
    "print(\"Cosine Similarity:\", cosine_sim)"
   ]
  },
  {
   "cell_type": "code",
   "execution_count": 28,
   "id": "7a48c552-233e-4d6e-bf2f-643dee22c2e7",
   "metadata": {
    "tags": []
   },
   "outputs": [
    {
     "name": "stdout",
     "output_type": "stream",
     "text": [
      "BLEU Score: 3.293401528213429e-155\n",
      "ROUGE Scores: [{'rouge-1': {'r': 0.3448275862068966, 'p': 0.16393442622950818, 'f': 0.22222221785432106}, 'rouge-2': {'r': 0.06666666666666667, 'p': 0.022222222222222223, 'f': 0.03333332958333376}, 'rouge-l': {'r': 0.3103448275862069, 'p': 0.14754098360655737, 'f': 0.1999999956320989}}]\n"
     ]
    }
   ],
   "source": [
    "from rouge import Rouge\n",
    "from nltk.translate.bleu_score import sentence_bleu\n",
    "\n",
    "# Calculate BLEU score\n",
    "bleu_score = sentence_bleu([rag_text.split()], medlm_output.split())\n",
    "print(\"BLEU Score:\", bleu_score)\n",
    "\n",
    "# Calculate ROUGE score\n",
    "rouge = Rouge()\n",
    "rouge_scores = rouge.get_scores(medlm_output, rag_text)\n",
    "print(\"ROUGE Scores:\", rouge_scores)"
   ]
  },
  {
   "cell_type": "markdown",
   "id": "4539a9b4-a876-472b-bfaf-7f272b272375",
   "metadata": {},
   "source": [
    "# Question 5"
   ]
  },
  {
   "cell_type": "code",
   "execution_count": 29,
   "id": "90a7b2b2-a6c8-438d-bea1-ce4beb7571b0",
   "metadata": {
    "tags": []
   },
   "outputs": [],
   "source": [
    "sql_query = \"The radiology findings of a patient who received ORTHOPAEDICS service in discharge text are: EXAMINATION:  CHEST (PORTABLE AP) INDICATION:  ___ year old woman with urosepsis with fever rule out pneumonia TECHNIQUE:  CHEST (PORTABLE AP) COMPARISON:  ___ IMPRESSION:Left internal jugular line tip is at the level of mid SVC.  Cardiomegaly is substantial, unchanged.\"\n",
    "rag_text = sql_query  # Replace with your actual RAG text\n",
    "rag_tokens = tokenizer(rag_text, return_tensors=\"pt\")\n",
    "rag_embeddings = model(**rag_tokens).last_hidden_state[:, 0, :]  # Get the first token's embedding"
   ]
  },
  {
   "cell_type": "code",
   "execution_count": 30,
   "id": "27d92a7f-5f66-4203-ac97-6cc08a8d478e",
   "metadata": {
    "tags": []
   },
   "outputs": [
    {
     "name": "stdout",
     "output_type": "stream",
     "text": [
      "response\n",
      " prediction: {'citationMetadata': <proto.marshal.collections.maps.MapComposite object at 0x7f8b8c16db40>, 'safetyAttributes': <proto.marshal.collections.maps.MapComposite object at 0x7f8b8c16eb00>, 'content': ' There is no focal infiltrate, effusion or pneumothorax. The left internal jugular line tip is at the level of mid SVC, which is an appropriate position. The heart is enlarged, but this is unchanged from previous studies. There is no evidence of pneumonia, effusion, or pneumothorax.'}\n"
     ]
    }
   ],
   "source": [
    "client_options = {\"api_endpoint\": \"us-central1-aiplatform.googleapis.com\"}\n",
    "\n",
    "# Initialize client that will be used to create and send requests.\n",
    "\n",
    "# This client only needs to be created once, and can be reused for multiple requests.\n",
    "\n",
    "client = aiplatform.gapic.PredictionServiceClient(\n",
    "\n",
    "    client_options=client_options\n",
    "\n",
    ")\n",
    "\n",
    "instance_dict = { \"content\": \"Summarize \" + rag_text }\n",
    "\n",
    "instance = json_format.ParseDict(instance_dict, Value())\n",
    "\n",
    "instances = [instance]\n",
    "\n",
    "parameters_dict = {\n",
    "\n",
    "    \"candidateCount\": 1,\n",
    "\n",
    "    \"maxOutputTokens\": 500,\n",
    "\n",
    "    \"temperature\": 0.2,\n",
    "\n",
    "    \"topP\": 0.8,\n",
    "\n",
    "    \"topK\": 40\n",
    "\n",
    "}\n",
    "\n",
    "parameters = json_format.ParseDict(parameters_dict, Value())\n",
    "\n",
    "response = client.predict(\n",
    "\n",
    "    endpoint=\"projects/us-gcp-ame-con-5b680-sbx-1/locations/us-central1/publishers/google/models/medlm-large\", instances=instances, parameters=parameters\n",
    "\n",
    ")\n",
    "\n",
    "print(\"response\")\n",
    "\n",
    "predictions = response.predictions\n",
    "\n",
    "for prediction in predictions:\n",
    "    print(\" prediction:\", dict(prediction))"
   ]
  },
  {
   "cell_type": "code",
   "execution_count": 31,
   "id": "b0f63dce-a06d-4b1f-99bf-78ad91b71031",
   "metadata": {
    "tags": []
   },
   "outputs": [],
   "source": [
    "medlm_output = \"There is no focal infiltrate, effusion or pneumothorax. The left internal jugular line tip is at the level of mid SVC, which is an appropriate position. The heart is enlarged, but this is unchanged from previous studies. There is no evidence of pneumonia, effusion, or pneumothorax\"\n",
    "medlm_tokens = tokenizer(medlm_output, return_tensors=\"pt\")\n",
    "medlm_embeddings = model(**medlm_tokens).last_hidden_state[:, 0, :]  # Get the first token's embedding"
   ]
  },
  {
   "cell_type": "code",
   "execution_count": 32,
   "id": "4a640591-0baa-4aff-a0f1-dd74a56fc494",
   "metadata": {
    "tags": []
   },
   "outputs": [],
   "source": [
    "sentence_transformer = SentenceTransformer(\"all-mpnet-base-v2\")\n",
    "medlm_embeddings = sentence_transformer.encode(medlm_output)\n",
    "rag_embeddings = sentence_transformer.encode(rag_text)"
   ]
  },
  {
   "cell_type": "code",
   "execution_count": 33,
   "id": "2349e88c-eb56-4827-9637-d82b17ac4821",
   "metadata": {
    "tags": []
   },
   "outputs": [
    {
     "name": "stdout",
     "output_type": "stream",
     "text": [
      "Cosine Similarity: 0.6625615\n"
     ]
    }
   ],
   "source": [
    "from sklearn.metrics.pairwise import cosine_similarity\n",
    "\n",
    "cosine_sim = cosine_similarity([medlm_embeddings], [rag_embeddings])[0][0]\n",
    "print(\"Cosine Similarity:\", cosine_sim)"
   ]
  },
  {
   "cell_type": "code",
   "execution_count": 34,
   "id": "6be8285f-e078-4ade-9656-43535c9c0f20",
   "metadata": {
    "tags": []
   },
   "outputs": [
    {
     "name": "stdout",
     "output_type": "stream",
     "text": [
      "BLEU Score: 0.177510274862403\n",
      "ROUGE Scores: [{'rouge-1': {'r': 0.26666666666666666, 'p': 0.34285714285714286, 'f': 0.299999995078125}, 'rouge-2': {'r': 0.1836734693877551, 'p': 0.21428571428571427, 'f': 0.19780219283178374}, 'rouge-l': {'r': 0.26666666666666666, 'p': 0.34285714285714286, 'f': 0.299999995078125}}]\n"
     ]
    }
   ],
   "source": [
    "from rouge import Rouge\n",
    "from nltk.translate.bleu_score import sentence_bleu\n",
    "\n",
    "# Calculate BLEU score\n",
    "bleu_score = sentence_bleu([rag_text.split()], medlm_output.split())\n",
    "print(\"BLEU Score:\", bleu_score)\n",
    "\n",
    "# Calculate ROUGE score\n",
    "rouge = Rouge()\n",
    "rouge_scores = rouge.get_scores(medlm_output, rag_text)\n",
    "print(\"ROUGE Scores:\", rouge_scores)"
   ]
  },
  {
   "cell_type": "markdown",
   "id": "35664d2e-5376-4292-bc2f-8582d46ca5fe",
   "metadata": {},
   "source": [
    "# Question 6"
   ]
  },
  {
   "cell_type": "code",
   "execution_count": 35,
   "id": "2e3c39bd-2335-4716-bd1e-20d33dba3a09",
   "metadata": {
    "tags": []
   },
   "outputs": [],
   "source": [
    "sql_query = \"The radiology findings for the patient whose Chief Complaint was Abdominal pain in the discharge text were: EXAMINATION:  CT ABD AND PELVIS WITH CONTRAST INDICATION:  ___ with history of feeding tube, purulent drainage from wound site. Difficult venous access.NO_PO contrast Abscess?  G-tube placement? TECHNIQUE:  Single phase contrast: MDCT axial images were acquired through the abdomen and pelvis\"\n",
    "rag_text = sql_query  # Replace with your actual RAG text\n",
    "rag_tokens = tokenizer(rag_text, return_tensors=\"pt\")\n",
    "rag_embeddings = model(**rag_tokens).last_hidden_state[:, 0, :]  # Get the first token's embedding"
   ]
  },
  {
   "cell_type": "code",
   "execution_count": 36,
   "id": "bcc0551f-d9a0-4358-8fd4-8bc97f55470b",
   "metadata": {
    "tags": []
   },
   "outputs": [
    {
     "name": "stdout",
     "output_type": "stream",
     "text": [
      "response\n",
      " prediction: {'citationMetadata': <proto.marshal.collections.maps.MapComposite object at 0x7f8b7fe0b520>, 'safetyAttributes': <proto.marshal.collections.maps.MapComposite object at 0x7f8b7fe08d90>, 'content': ' following the administration There is a small amount of free fluid in the right lower quadrant. There is also a small amount of free fluid in the pelvis. There is no evidence of an abscess. The feeding tube is in good position.'}\n"
     ]
    }
   ],
   "source": [
    "client_options = {\"api_endpoint\": \"us-central1-aiplatform.googleapis.com\"}\n",
    "\n",
    "# Initialize client that will be used to create and send requests.\n",
    "\n",
    "# This client only needs to be created once, and can be reused for multiple requests.\n",
    "\n",
    "client = aiplatform.gapic.PredictionServiceClient(\n",
    "\n",
    "    client_options=client_options\n",
    "\n",
    ")\n",
    "\n",
    "instance_dict = { \"content\": \"Summarize \" + rag_text }\n",
    "\n",
    "instance = json_format.ParseDict(instance_dict, Value())\n",
    "\n",
    "instances = [instance]\n",
    "\n",
    "parameters_dict = {\n",
    "\n",
    "    \"candidateCount\": 1,\n",
    "\n",
    "    \"maxOutputTokens\": 500,\n",
    "\n",
    "    \"temperature\": 0.2,\n",
    "\n",
    "    \"topP\": 0.8,\n",
    "\n",
    "    \"topK\": 40\n",
    "\n",
    "}\n",
    "\n",
    "parameters = json_format.ParseDict(parameters_dict, Value())\n",
    "\n",
    "response = client.predict(\n",
    "\n",
    "    endpoint=\"projects/us-gcp-ame-con-5b680-sbx-1/locations/us-central1/publishers/google/models/medlm-large\", instances=instances, parameters=parameters\n",
    "\n",
    ")\n",
    "\n",
    "print(\"response\")\n",
    "\n",
    "predictions = response.predictions\n",
    "\n",
    "for prediction in predictions:\n",
    "    print(\" prediction:\", dict(prediction))"
   ]
  },
  {
   "cell_type": "code",
   "execution_count": 37,
   "id": "006026cd-58fc-4313-960a-a4f8a82de72c",
   "metadata": {},
   "outputs": [],
   "source": [
    "medlm_output = \"following the administration There is a small amount of free fluid in the right lower quadrant. There is also a small amount of free fluid in the pelvis. There is no evidence of an abscess. The feeding tube is in good position.\"\n",
    "medlm_tokens = tokenizer(medlm_output, return_tensors=\"pt\")\n",
    "medlm_embeddings = model(**medlm_tokens).last_hidden_state[:, 0, :]  # Get the first token's embedding"
   ]
  },
  {
   "cell_type": "code",
   "execution_count": 38,
   "id": "e2a8df7d-b002-46f6-bce8-4b7c8562bd9a",
   "metadata": {
    "tags": []
   },
   "outputs": [],
   "source": [
    "sentence_transformer = SentenceTransformer(\"all-mpnet-base-v2\")\n",
    "medlm_embeddings = sentence_transformer.encode(medlm_output)\n",
    "rag_embeddings = sentence_transformer.encode(rag_text)"
   ]
  },
  {
   "cell_type": "code",
   "execution_count": 39,
   "id": "f15facdc-d4d8-4999-b548-44c2d0473059",
   "metadata": {
    "tags": []
   },
   "outputs": [
    {
     "name": "stdout",
     "output_type": "stream",
     "text": [
      "Cosine Similarity: 0.5889751\n"
     ]
    }
   ],
   "source": [
    "from sklearn.metrics.pairwise import cosine_similarity\n",
    "\n",
    "cosine_sim = cosine_similarity([medlm_embeddings], [rag_embeddings])[0][0]\n",
    "print(\"Cosine Similarity:\", cosine_sim)"
   ]
  },
  {
   "cell_type": "code",
   "execution_count": 40,
   "id": "c0689183-0cab-43f7-ba74-7dc75b471a87",
   "metadata": {
    "tags": []
   },
   "outputs": [
    {
     "name": "stdout",
     "output_type": "stream",
     "text": [
      "BLEU Score: 2.6353194467779707e-155\n",
      "ROUGE Scores: [{'rouge-1': {'r': 0.10714285714285714, 'p': 0.23076923076923078, 'f': 0.14634145908387877}, 'rouge-2': {'r': 0.017543859649122806, 'p': 0.03125, 'f': 0.022471905506881388}, 'rouge-l': {'r': 0.10714285714285714, 'p': 0.23076923076923078, 'f': 0.14634145908387877}}]\n"
     ]
    }
   ],
   "source": [
    "from rouge import Rouge\n",
    "from nltk.translate.bleu_score import sentence_bleu\n",
    "\n",
    "# Calculate BLEU score\n",
    "bleu_score = sentence_bleu([rag_text.split()], medlm_output.split())\n",
    "print(\"BLEU Score:\", bleu_score)\n",
    "\n",
    "# Calculate ROUGE score\n",
    "rouge = Rouge()\n",
    "rouge_scores = rouge.get_scores(medlm_output, rag_text)\n",
    "print(\"ROUGE Scores:\", rouge_scores)"
   ]
  },
  {
   "cell_type": "markdown",
   "id": "6d48f05e-8a37-4f42-9d4a-b897c1ed4533",
   "metadata": {},
   "source": [
    "# Question 7"
   ]
  },
  {
   "cell_type": "code",
   "execution_count": 41,
   "id": "919ad961-048d-4370-941c-cf5415fe3097",
   "metadata": {
    "tags": []
   },
   "outputs": [],
   "source": [
    "sql_query = \"The patient with note_id '17829563-RR-2' had a CT HEAD W/O CONTRAST examination where they found 'Routine unenhanced head CT was performed and viewed in brain, intermediate and bone windows.  Coronal and sagittal reformats were also performed. DOSE:  Total DLP (Head) = 903 mGy-cm. COMPARISON: ...'. The patient with note_id '14707889-RR-3' was indicated with 'History of hep C without treatment.  Presenting with abdominal distension.  Question cirrhosis. COMPARISON:  None.FINDINGS:  The liver is shrunken and nodular in appearance consistent with\\ncirrhosis.  There is no evidence of intrahepatic biliary duct dilatation.\"\n",
    "rag_text = sql_query  # Replace with your actual RAG text\n",
    "rag_tokens = tokenizer(rag_text, return_tensors=\"pt\")\n",
    "rag_embeddings = model(**rag_tokens).last_hidden_state[:, 0, :]  # Get the first token's embedding"
   ]
  },
  {
   "cell_type": "code",
   "execution_count": 42,
   "id": "ccbd397c-77bd-49fb-b495-156404ee9dcb",
   "metadata": {
    "tags": []
   },
   "outputs": [
    {
     "name": "stdout",
     "output_type": "stream",
     "text": [
      "response\n",
      " prediction: {'safetyAttributes': <proto.marshal.collections.maps.MapComposite object at 0x7f8b8cb2ba00>, 'content': \" The patient with note_id '17829563-RR-2' had a CT HEAD W/O CONTRAST examination. The report indicates that the patient has a normal head CT.\\n\\nThe patient with note_id '14707889-RR-3' had an ultrasound of the abdomen. The report indicates that the patient has cirrhosis of the liver.\", 'citationMetadata': <proto.marshal.collections.maps.MapComposite object at 0x7f8b7fe0bac0>}\n"
     ]
    }
   ],
   "source": [
    "client_options = {\"api_endpoint\": \"us-central1-aiplatform.googleapis.com\"}\n",
    "\n",
    "# Initialize client that will be used to create and send requests.\n",
    "\n",
    "# This client only needs to be created once, and can be reused for multiple requests.\n",
    "\n",
    "client = aiplatform.gapic.PredictionServiceClient(\n",
    "\n",
    "    client_options=client_options\n",
    "\n",
    ")\n",
    "\n",
    "instance_dict = { \"content\": \"Summarize \" + rag_text }\n",
    "\n",
    "instance = json_format.ParseDict(instance_dict, Value())\n",
    "\n",
    "instances = [instance]\n",
    "\n",
    "parameters_dict = {\n",
    "\n",
    "    \"candidateCount\": 1,\n",
    "\n",
    "    \"maxOutputTokens\": 500,\n",
    "\n",
    "    \"temperature\": 0.2,\n",
    "\n",
    "    \"topP\": 0.8,\n",
    "\n",
    "    \"topK\": 40\n",
    "\n",
    "}\n",
    "\n",
    "parameters = json_format.ParseDict(parameters_dict, Value())\n",
    "\n",
    "response = client.predict(\n",
    "\n",
    "    endpoint=\"projects/us-gcp-ame-con-5b680-sbx-1/locations/us-central1/publishers/google/models/medlm-large\", instances=instances, parameters=parameters\n",
    "\n",
    ")\n",
    "\n",
    "print(\"response\")\n",
    "\n",
    "predictions = response.predictions\n",
    "\n",
    "for prediction in predictions:\n",
    "    print(\" prediction:\", dict(prediction))"
   ]
  },
  {
   "cell_type": "code",
   "execution_count": 43,
   "id": "257d578d-4736-40e1-ba24-341ba37a5ded",
   "metadata": {
    "tags": []
   },
   "outputs": [],
   "source": [
    "medlm_output = \"The patient with note_id '17829563-RR-2' had a CT HEAD W/O CONTRAST examination. The report indicates that the patient has a normal head CT. The patient with note_id '14707889-RR-3' had an ultrasound of the abdomen. The report indicates that the patient has cirrhosis of the liver.\"\n",
    "medlm_tokens = tokenizer(medlm_output, return_tensors=\"pt\")\n",
    "medlm_embeddings = model(**medlm_tokens).last_hidden_state[:, 0, :]  # Get the first token's embedding"
   ]
  },
  {
   "cell_type": "code",
   "execution_count": 44,
   "id": "0b31ca0c-5f7d-4f6e-a529-98c3b62b912f",
   "metadata": {
    "tags": []
   },
   "outputs": [],
   "source": [
    "sentence_transformer = SentenceTransformer(\"all-mpnet-base-v2\")\n",
    "medlm_embeddings = sentence_transformer.encode(medlm_output)\n",
    "rag_embeddings = sentence_transformer.encode(rag_text)"
   ]
  },
  {
   "cell_type": "code",
   "execution_count": 45,
   "id": "1f61e337-97c7-43f3-974e-68aca99e741f",
   "metadata": {
    "tags": []
   },
   "outputs": [
    {
     "name": "stdout",
     "output_type": "stream",
     "text": [
      "Cosine Similarity: 0.868711\n"
     ]
    }
   ],
   "source": [
    "from sklearn.metrics.pairwise import cosine_similarity\n",
    "\n",
    "cosine_sim = cosine_similarity([medlm_embeddings], [rag_embeddings])[0][0]\n",
    "print(\"Cosine Similarity:\", cosine_sim)"
   ]
  },
  {
   "cell_type": "code",
   "execution_count": 46,
   "id": "f5a978de-1aa8-4a72-ae6a-5afe1cfa2c95",
   "metadata": {
    "tags": []
   },
   "outputs": [
    {
     "name": "stdout",
     "output_type": "stream",
     "text": [
      "BLEU Score: 0.12243273996930239\n",
      "ROUGE Scores: [{'rouge-1': {'r': 0.2463768115942029, 'p': 0.6538461538461539, 'f': 0.35789473286648205}, 'rouge-2': {'r': 0.15476190476190477, 'p': 0.38235294117647056, 'f': 0.22033897894857804}, 'rouge-l': {'r': 0.2318840579710145, 'p': 0.6153846153846154, 'f': 0.3368421012875346}}]\n"
     ]
    }
   ],
   "source": [
    "from rouge import Rouge\n",
    "from nltk.translate.bleu_score import sentence_bleu\n",
    "\n",
    "# Calculate BLEU score\n",
    "bleu_score = sentence_bleu([rag_text.split()], medlm_output.split())\n",
    "print(\"BLEU Score:\", bleu_score)\n",
    "\n",
    "# Calculate ROUGE score\n",
    "rouge = Rouge()\n",
    "rouge_scores = rouge.get_scores(medlm_output, rag_text)\n",
    "print(\"ROUGE Scores:\", rouge_scores)"
   ]
  },
  {
   "cell_type": "markdown",
   "id": "df7f410d-00af-4c91-9bf9-11442179ef27",
   "metadata": {},
   "source": [
    "# Question 8"
   ]
  },
  {
   "cell_type": "code",
   "execution_count": 47,
   "id": "4536acd2-88e7-4517-8004-4eec197bd2ef",
   "metadata": {
    "tags": []
   },
   "outputs": [],
   "source": [
    "sql_query = \"The radiology findings of a patient with a past medical history of coronary artery disease are as follows: There is a mild homogeneous plaque in the proximal internal carotid artery without significant increase in peak systolic velocities. The peak systolic velocity in the common carotid artery is 86 cm/sec.\"\n",
    "rag_text = sql_query  # Replace with your actual RAG text\n",
    "rag_tokens = tokenizer(rag_text, return_tensors=\"pt\")\n",
    "rag_embeddings = model(**rag_tokens).last_hidden_state[:, 0, :]  # Get the first token's embedding"
   ]
  },
  {
   "cell_type": "code",
   "execution_count": 48,
   "id": "14e589ac-7f84-49cf-830e-8110799a7294",
   "metadata": {
    "tags": []
   },
   "outputs": [
    {
     "name": "stdout",
     "output_type": "stream",
     "text": [
      "response\n",
      " prediction: {'content': \" The patient has a mild homogeneous plaque in the proximal internal carotid artery, which is the artery that supplies blood to the brain. This plaque does not appear to be causing any significant obstruction to blood flow, as the peak systolic velocity in the common carotid artery is normal. However, the patient's history of coronary artery disease suggests that they may be at increased risk of developing future cardiovascular events, such as a stroke or heart attack. It is important for the patient to continue to follow up with their doctor and manage their risk factors for cardiovascular disease, such as high blood pressure, high cholesterol, and diabetes.\", 'citationMetadata': <proto.marshal.collections.maps.MapComposite object at 0x7f8b8c16ebf0>, 'safetyAttributes': <proto.marshal.collections.maps.MapComposite object at 0x7f8b7fe0a470>}\n"
     ]
    }
   ],
   "source": [
    "client_options = {\"api_endpoint\": \"us-central1-aiplatform.googleapis.com\"}\n",
    "\n",
    "# Initialize client that will be used to create and send requests.\n",
    "\n",
    "# This client only needs to be created once, and can be reused for multiple requests.\n",
    "\n",
    "client = aiplatform.gapic.PredictionServiceClient(\n",
    "\n",
    "    client_options=client_options\n",
    "\n",
    ")\n",
    "\n",
    "instance_dict = { \"content\": \"Summarize \" + rag_text }\n",
    "\n",
    "instance = json_format.ParseDict(instance_dict, Value())\n",
    "\n",
    "instances = [instance]\n",
    "\n",
    "parameters_dict = {\n",
    "\n",
    "    \"candidateCount\": 1,\n",
    "\n",
    "    \"maxOutputTokens\": 500,\n",
    "\n",
    "    \"temperature\": 0.2,\n",
    "\n",
    "    \"topP\": 0.8,\n",
    "\n",
    "    \"topK\": 40\n",
    "\n",
    "}\n",
    "\n",
    "parameters = json_format.ParseDict(parameters_dict, Value())\n",
    "\n",
    "response = client.predict(\n",
    "\n",
    "    endpoint=\"projects/us-gcp-ame-con-5b680-sbx-1/locations/us-central1/publishers/google/models/medlm-large\", instances=instances, parameters=parameters\n",
    "\n",
    ")\n",
    "\n",
    "print(\"response\")\n",
    "\n",
    "predictions = response.predictions\n",
    "\n",
    "for prediction in predictions:\n",
    "    print(\" prediction:\", dict(prediction))"
   ]
  },
  {
   "cell_type": "code",
   "execution_count": 49,
   "id": "124c0e16-b00a-423f-8169-779c087f4940",
   "metadata": {
    "tags": []
   },
   "outputs": [],
   "source": [
    "medlm_output = \"The patient has a mild homogeneous plaque in the proximal internal carotid artery, which is the artery that supplies blood to the brain. This plaque does not appear to be causing any significant obstruction to blood flow, as the peak systolic velocity in the common carotid artery is normal. However, the patient's history of coronary artery disease suggests that they may be at increased risk of developing future cardiovascular events, such as a stroke or heart attack. It is important for the patient to continue to follow up with their doctor and manage their risk factors for cardiovascular disease, such as high blood pressure, high cholesterol, and diabetes.\"\n",
    "medlm_tokens = tokenizer(medlm_output, return_tensors=\"pt\")\n",
    "medlm_embeddings = model(**medlm_tokens).last_hidden_state[:, 0, :]  # Get the first token's embedding"
   ]
  },
  {
   "cell_type": "code",
   "execution_count": 50,
   "id": "1edc5bbc-3e4e-435b-8355-ac3d1f560e91",
   "metadata": {
    "tags": []
   },
   "outputs": [],
   "source": [
    "sentence_transformer = SentenceTransformer(\"all-mpnet-base-v2\")\n",
    "medlm_embeddings = sentence_transformer.encode(medlm_output)\n",
    "rag_embeddings = sentence_transformer.encode(rag_text)"
   ]
  },
  {
   "cell_type": "code",
   "execution_count": 51,
   "id": "eecb5e7a-dd8e-4952-95d3-d9ff8dea6010",
   "metadata": {
    "tags": []
   },
   "outputs": [
    {
     "name": "stdout",
     "output_type": "stream",
     "text": [
      "Cosine Similarity: 0.72898984\n"
     ]
    }
   ],
   "source": [
    "from sklearn.metrics.pairwise import cosine_similarity\n",
    "\n",
    "cosine_sim = cosine_similarity([medlm_embeddings], [rag_embeddings])[0][0]\n",
    "print(\"Cosine Similarity:\", cosine_sim)"
   ]
  },
  {
   "cell_type": "code",
   "execution_count": 52,
   "id": "6f8904a8-8d9d-4b6c-aea4-bd136039aa7e",
   "metadata": {
    "tags": []
   },
   "outputs": [
    {
     "name": "stdout",
     "output_type": "stream",
     "text": [
      "BLEU Score: 0.18550839090700794\n",
      "ROUGE Scores: [{'rouge-1': {'r': 0.6666666666666666, 'p': 0.32, 'f': 0.4324324280496713}, 'rouge-2': {'r': 0.4222222222222222, 'p': 0.18095238095238095, 'f': 0.2533333291333334}, 'rouge-l': {'r': 0.6388888888888888, 'p': 0.30666666666666664, 'f': 0.41441441003165325}}]\n"
     ]
    }
   ],
   "source": [
    "from rouge import Rouge\n",
    "from nltk.translate.bleu_score import sentence_bleu\n",
    "\n",
    "# Calculate BLEU score\n",
    "bleu_score = sentence_bleu([rag_text.split()], medlm_output.split())\n",
    "print(\"BLEU Score:\", bleu_score)\n",
    "\n",
    "# Calculate ROUGE score\n",
    "rouge = Rouge()\n",
    "rouge_scores = rouge.get_scores(medlm_output, rag_text)\n",
    "print(\"ROUGE Scores:\", rouge_scores)"
   ]
  },
  {
   "cell_type": "markdown",
   "id": "24e86ce0-cc37-4251-9554-612e5cdce770",
   "metadata": {},
   "source": [
    "# Question 9"
   ]
  },
  {
   "cell_type": "code",
   "execution_count": 53,
   "id": "48b2150a-a5c3-45e3-8320-36d056c2ee22",
   "metadata": {
    "tags": []
   },
   "outputs": [],
   "source": [
    "sql_query = \"Two patients had allergies to Morphine. Their admission notes include the following information: 1. The first patient has an altered mental status and is in the MEDICINE department. No major surgical or invasive procedure was performed. 2. The second patient was admitted to the UROLOGY department for urinary incontinence. This patient is also allergic to Lipitor and Oxycodone, and no major surgical or invasive procedure was reported. The specific medications on admission for these patients are not provided in the available details.\"\n",
    "rag_text = sql_query  # Replace with your actual RAG text\n",
    "rag_tokens = tokenizer(rag_text, return_tensors=\"pt\")\n",
    "rag_embeddings = model(**rag_tokens).last_hidden_state[:, 0, :]  # Get the first token's embedding"
   ]
  },
  {
   "cell_type": "code",
   "execution_count": 54,
   "id": "2525f87a-c163-4369-bc56-0b3b31b86e0f",
   "metadata": {
    "tags": []
   },
   "outputs": [
    {
     "name": "stdout",
     "output_type": "stream",
     "text": [
      "response\n",
      " prediction: {'citationMetadata': <proto.marshal.collections.maps.MapComposite object at 0x7f8b7fe0a020>, 'safetyAttributes': <proto.marshal.collections.maps.MapComposite object at 0x7f8b7fe098d0>, 'content': ' There are two patients who have allergies to Morphine. The first patient has an altered mental status and is in the MEDICINE department. No major surgical or invasive procedure was performed. The second patient was admitted to the UROLOGY department for urinary incontinence. This patient is also allergic to Lipitor and Oxycodone, and no major surgical or invasive procedure was reported. The specific medications on admission for these patients are not provided in the available details.'}\n"
     ]
    }
   ],
   "source": [
    "client_options = {\"api_endpoint\": \"us-central1-aiplatform.googleapis.com\"}\n",
    "\n",
    "# Initialize client that will be used to create and send requests.\n",
    "\n",
    "# This client only needs to be created once, and can be reused for multiple requests.\n",
    "\n",
    "client = aiplatform.gapic.PredictionServiceClient(\n",
    "\n",
    "    client_options=client_options\n",
    "\n",
    ")\n",
    "\n",
    "instance_dict = { \"content\": \"Summarize \" + rag_text }\n",
    "\n",
    "instance = json_format.ParseDict(instance_dict, Value())\n",
    "\n",
    "instances = [instance]\n",
    "\n",
    "parameters_dict = {\n",
    "\n",
    "    \"candidateCount\": 1,\n",
    "\n",
    "    \"maxOutputTokens\": 500,\n",
    "\n",
    "    \"temperature\": 0.2,\n",
    "\n",
    "    \"topP\": 0.8,\n",
    "\n",
    "    \"topK\": 40\n",
    "\n",
    "}\n",
    "\n",
    "parameters = json_format.ParseDict(parameters_dict, Value())\n",
    "\n",
    "response = client.predict(\n",
    "\n",
    "    endpoint=\"projects/us-gcp-ame-con-5b680-sbx-1/locations/us-central1/publishers/google/models/medlm-large\", instances=instances, parameters=parameters\n",
    "\n",
    ")\n",
    "\n",
    "print(\"response\")\n",
    "\n",
    "predictions = response.predictions\n",
    "\n",
    "for prediction in predictions:\n",
    "    print(\" prediction:\", dict(prediction))"
   ]
  },
  {
   "cell_type": "code",
   "execution_count": 55,
   "id": "c8da0bef-a3b0-41df-a476-99c8f9b66c65",
   "metadata": {
    "tags": []
   },
   "outputs": [],
   "source": [
    "medlm_output = \"There are two patients who have allergies to Morphine. The first patient has an altered mental status and is in the MEDICINE department. No major surgical or invasive procedure was performed. The second patient was admitted to the UROLOGY department for urinary incontinence. This patient is also allergic to Lipitor and Oxycodone, and no major surgical or invasive procedure was reported. The specific medications on admission for these patients are not provided in the available details.\"\n",
    "medlm_tokens = tokenizer(medlm_output, return_tensors=\"pt\")\n",
    "medlm_embeddings = model(**medlm_tokens).last_hidden_state[:, 0, :]  # Get the first token's embedding"
   ]
  },
  {
   "cell_type": "code",
   "execution_count": 56,
   "id": "039ff4db-bff2-4a59-b418-cd18cd47f5c6",
   "metadata": {
    "tags": []
   },
   "outputs": [],
   "source": [
    "sentence_transformer = SentenceTransformer(\"all-mpnet-base-v2\")\n",
    "medlm_embeddings = sentence_transformer.encode(medlm_output)\n",
    "rag_embeddings = sentence_transformer.encode(rag_text)"
   ]
  },
  {
   "cell_type": "code",
   "execution_count": 57,
   "id": "188a5422-5727-4696-aed6-bca52b1e07d5",
   "metadata": {
    "tags": []
   },
   "outputs": [
    {
     "name": "stdout",
     "output_type": "stream",
     "text": [
      "Cosine Similarity: 0.9855383\n"
     ]
    }
   ],
   "source": [
    "from sklearn.metrics.pairwise import cosine_similarity\n",
    "\n",
    "cosine_sim = cosine_similarity([medlm_embeddings], [rag_embeddings])[0][0]\n",
    "print(\"Cosine Similarity:\", cosine_sim)"
   ]
  },
  {
   "cell_type": "code",
   "execution_count": 59,
   "id": "cdb71708-3ba9-4f1a-aea2-6ec372f30ca5",
   "metadata": {
    "tags": []
   },
   "outputs": [
    {
     "name": "stdout",
     "output_type": "stream",
     "text": [
      "BLEU Score: 0.8143610145564801\n",
      "ROUGE Scores: [{'rouge-1': {'r': 0.8448275862068966, 'p': 0.9245283018867925, 'f': 0.8828828778930282}, 'rouge-2': {'r': 0.8133333333333334, 'p': 0.8840579710144928, 'f': 0.847222217230903}, 'rouge-l': {'r': 0.8448275862068966, 'p': 0.9245283018867925, 'f': 0.8828828778930282}}]\n"
     ]
    }
   ],
   "source": [
    "from rouge import Rouge\n",
    "from nltk.translate.bleu_score import sentence_bleu\n",
    "\n",
    "# Calculate BLEU score\n",
    "bleu_score = sentence_bleu([rag_text.split()], medlm_output.split())\n",
    "print(\"BLEU Score:\", bleu_score)\n",
    "\n",
    "# Calculate ROUGE score\n",
    "rouge = Rouge()\n",
    "rouge_scores = rouge.get_scores(medlm_output, rag_text)\n",
    "print(\"ROUGE Scores:\", rouge_scores)"
   ]
  },
  {
   "cell_type": "markdown",
   "id": "ae8995c3-2ac7-469a-a063-878d2c69a832",
   "metadata": {},
   "source": [
    "# Question 10"
   ]
  },
  {
   "cell_type": "code",
   "execution_count": 60,
   "id": "93754013-8083-4991-9bc5-1632dbb31347",
   "metadata": {
    "tags": []
   },
   "outputs": [],
   "source": [
    "sql_query = \"The three most frequent procedures are 'Venous catheterization, not elsewhere classified' with 13928 occurrences, 'Insertion of Infusion Device into Superior Vena Cava, Percutaneous Approach' with 10061 occurrences and 'Other nonoperative respiratory measurements' with 10041 occurrences.\"\n",
    "rag_text = sql_query  # Replace with your actual RAG text\n",
    "rag_tokens = tokenizer(rag_text, return_tensors=\"pt\")\n",
    "rag_embeddings = model(**rag_tokens).last_hidden_state[:, 0, :]  # Get the first token's embedding"
   ]
  },
  {
   "cell_type": "code",
   "execution_count": 61,
   "id": "5a2805ff-08c8-446c-b543-4293c23f5e64",
   "metadata": {
    "tags": []
   },
   "outputs": [
    {
     "name": "stdout",
     "output_type": "stream",
     "text": [
      "response\n",
      " prediction: {'citationMetadata': <proto.marshal.collections.maps.MapComposite object at 0x7f8b7f9ab3a0>, 'content': \" The three most frequent procedures are 'Venous catheterization, not elsewhere classified' with 13928 occurrences, 'Insertion of Infusion Device into Superior Vena Cava, Percutaneous Approach' with 10061 occurrences and 'Other nonoperative respiratory measurements' with 10041 occurrences.\\n\\n'Venous catheterization, not elsewhere classified' is the insertion of a catheter into a vein. It is a common procedure that is used for a variety of purposes, such as administering fluids, medications, or blood products, or for collecting blood samples.\\n\\n'Insertion of Infusion Device into Superior Vena Cava, Percutaneous Approach' is the placement of a catheter into the superior vena cava, a large vein that carries blood from the upper body to the heart. This procedure is often used to administer fluids, medications, or nutrition to patients who are unable to receive them through their veins.\\n\\n'Other nonoperative respiratory measurements' refers to a variety of tests that are used to assess the function of the lungs. These tests may include spirometry, which measures the amount of air that a person can breathe in and out, and pulse oximetry, which measures the level of oxygen in the blood.\\n\\nThe frequency of these procedures reflects the fact that they are all common and important medical interventions. They are used to diagnose and treat a variety of conditions, and they can play a vital role in improving patient outcomes.\", 'safetyAttributes': <proto.marshal.collections.maps.MapComposite object at 0x7f8b7f9a8940>}\n"
     ]
    }
   ],
   "source": [
    "client_options = {\"api_endpoint\": \"us-central1-aiplatform.googleapis.com\"}\n",
    "\n",
    "# Initialize client that will be used to create and send requests.\n",
    "\n",
    "# This client only needs to be created once, and can be reused for multiple requests.\n",
    "\n",
    "client = aiplatform.gapic.PredictionServiceClient(\n",
    "\n",
    "    client_options=client_options\n",
    "\n",
    ")\n",
    "\n",
    "instance_dict = { \"content\": \"Summarize \" + rag_text }\n",
    "\n",
    "instance = json_format.ParseDict(instance_dict, Value())\n",
    "\n",
    "instances = [instance]\n",
    "\n",
    "parameters_dict = {\n",
    "\n",
    "    \"candidateCount\": 1,\n",
    "\n",
    "    \"maxOutputTokens\": 500,\n",
    "\n",
    "    \"temperature\": 0.2,\n",
    "\n",
    "    \"topP\": 0.8,\n",
    "\n",
    "    \"topK\": 40\n",
    "\n",
    "}\n",
    "\n",
    "parameters = json_format.ParseDict(parameters_dict, Value())\n",
    "\n",
    "response = client.predict(\n",
    "\n",
    "    endpoint=\"projects/us-gcp-ame-con-5b680-sbx-1/locations/us-central1/publishers/google/models/medlm-large\", instances=instances, parameters=parameters\n",
    "\n",
    ")\n",
    "\n",
    "print(\"response\")\n",
    "\n",
    "predictions = response.predictions\n",
    "\n",
    "for prediction in predictions:\n",
    "    print(\" prediction:\", dict(prediction))"
   ]
  },
  {
   "cell_type": "code",
   "execution_count": 62,
   "id": "67d01123-32ba-4e83-9ec6-8744888a0d84",
   "metadata": {
    "tags": []
   },
   "outputs": [],
   "source": [
    "medlm_output = \"The three most frequent procedures are 'Venous catheterization, not elsewhere classified' with 13928 occurrences, 'Insertion of Infusion Device into Superior Vena Cava, Percutaneous Approach' with 10061 occurrences and 'Other nonoperative respiratory measurements' with 10041 occurrences.'Venous catheterization, not elsewhere classified' is the insertion of a catheter into a vein. It is a common procedure that is used for a variety of purposes, such as administering fluids, medications, or blood products, or for collecting blood samples.\\n\\n'Insertion of Infusion Device into Superior Vena Cava, Percutaneous Approach' is the placement of a catheter into the superior vena cava, a large vein that carries blood from the upper body to the heart. This procedure is often used to administer fluids, medications, or nutrition to patients who are unable to receive them through their veins.'Other nonoperative respiratory measurements' refers to a variety of tests that are used to assess the function of the lungs. These tests may include spirometry, which measures the amount of air that a person can breathe in and out, and pulse oximetry, which measures the level of oxygen in the blood. The frequency of these procedures reflects the fact that they are all common and important medical interventions. They are used to diagnose and treat a variety of conditions, and they can play a vital role in improving patient outcomes.\"\n",
    "medlm_tokens = tokenizer(medlm_output, return_tensors=\"pt\")\n",
    "medlm_embeddings = model(**medlm_tokens).last_hidden_state[:, 0, :]  # Get the first token's embedding"
   ]
  },
  {
   "cell_type": "code",
   "execution_count": 63,
   "id": "70016579-8451-4110-9e04-f1da3e468987",
   "metadata": {
    "tags": []
   },
   "outputs": [],
   "source": [
    "sentence_transformer = SentenceTransformer(\"all-mpnet-base-v2\")\n",
    "medlm_embeddings = sentence_transformer.encode(medlm_output)\n",
    "rag_embeddings = sentence_transformer.encode(rag_text)"
   ]
  },
  {
   "cell_type": "code",
   "execution_count": 64,
   "id": "9af21b2c-4465-4516-abb4-b06d89ec940a",
   "metadata": {
    "tags": []
   },
   "outputs": [
    {
     "name": "stdout",
     "output_type": "stream",
     "text": [
      "Cosine Similarity: 0.85894895\n"
     ]
    }
   ],
   "source": [
    "from sklearn.metrics.pairwise import cosine_similarity\n",
    "\n",
    "cosine_sim = cosine_similarity([medlm_embeddings], [rag_embeddings])[0][0]\n",
    "print(\"Cosine Similarity:\", cosine_sim)"
   ]
  },
  {
   "cell_type": "code",
   "execution_count": 65,
   "id": "bb8a00b6-0ec4-4f20-9acc-29c7992f3ab8",
   "metadata": {
    "tags": []
   },
   "outputs": [
    {
     "name": "stdout",
     "output_type": "stream",
     "text": [
      "BLEU Score: 0.14933878337064085\n",
      "ROUGE Scores: [{'rouge-1': {'r': 1.0, 'p': 0.26666666666666666, 'f': 0.4210526282548477}, 'rouge-2': {'r': 1.0, 'p': 0.17989417989417988, 'f': 0.3049327328416015}, 'rouge-l': {'r': 1.0, 'p': 0.26666666666666666, 'f': 0.4210526282548477}}]\n"
     ]
    }
   ],
   "source": [
    "from rouge import Rouge\n",
    "from nltk.translate.bleu_score import sentence_bleu\n",
    "\n",
    "# Calculate BLEU score\n",
    "bleu_score = sentence_bleu([rag_text.split()], medlm_output.split())\n",
    "print(\"BLEU Score:\", bleu_score)\n",
    "\n",
    "# Calculate ROUGE score\n",
    "rouge = Rouge()\n",
    "rouge_scores = rouge.get_scores(medlm_output, rag_text)\n",
    "print(\"ROUGE Scores:\", rouge_scores)"
   ]
  },
  {
   "cell_type": "code",
   "execution_count": null,
   "id": "fb174bec-03eb-402e-a990-7ac49b9b7c67",
   "metadata": {},
   "outputs": [],
   "source": []
  },
  {
   "cell_type": "code",
   "execution_count": 66,
   "id": "9eb0f17b-546f-4601-94e7-86b2d27f4f67",
   "metadata": {
    "tags": []
   },
   "outputs": [
    {
     "name": "stdout",
     "output_type": "stream",
     "text": [
      " Average Cosine with added Vector Weights:  0.7673847349999999\n"
     ]
    }
   ],
   "source": [
    "Average_Cosine = (0.85894895+0.9855383+0.72898984+0.868711+0.5889751+0.6625615+0.7876705+1.0000002+0.5294906+0.66296136)/10\n",
    "print(\" Average Cosine with added Vector Weights: \", Average_Cosine)"
   ]
  },
  {
   "cell_type": "code",
   "execution_count": null,
   "id": "75a041d1-96a2-4123-9a30-5e51c5f72770",
   "metadata": {},
   "outputs": [],
   "source": []
  }
 ],
 "metadata": {
  "environment": {
   "kernel": "python3",
   "name": ".m123",
   "type": "gcloud",
   "uri": "us-docker.pkg.dev/deeplearning-platform-release/gcr.io/:m123"
  },
  "kernelspec": {
   "display_name": "Python 3 (Local)",
   "language": "python",
   "name": "python3"
  },
  "language_info": {
   "codemirror_mode": {
    "name": "ipython",
    "version": 3
   },
   "file_extension": ".py",
   "mimetype": "text/x-python",
   "name": "python",
   "nbconvert_exporter": "python",
   "pygments_lexer": "ipython3",
   "version": "3.10.14"
  }
 },
 "nbformat": 4,
 "nbformat_minor": 5
}
