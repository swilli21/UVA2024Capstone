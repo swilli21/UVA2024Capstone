{
 "cells": [
  {
   "cell_type": "markdown",
   "id": "02e4a36b-83d6-44b6-9c40-23b08777c00e",
   "metadata": {},
   "source": [
    "## Data pipeline RAG to MedLM"
   ]
  },
  {
   "cell_type": "code",
   "execution_count": 9,
   "id": "3e20d31d-ce02-464d-9d10-1b79534d95cf",
   "metadata": {
    "tags": []
   },
   "outputs": [],
   "source": [
    "from google.cloud import aiplatform\n",
    "from google.cloud.aiplatform.gapic.schema import predict\n",
    "from google.protobuf import json_format\n",
    "from google.protobuf.struct_pb2 import Value"
   ]
  },
  {
   "cell_type": "code",
   "execution_count": 10,
   "id": "0663ba64-cbcd-4682-a5e1-fdb35aa79900",
   "metadata": {},
   "outputs": [],
   "source": [
    "from langchain.llms import OpenAI\n",
    "from langchain.prompts import PromptTemplate\n",
    "from google.cloud import bigquery\n",
    "from langchain_openai import ChatOpenAI"
   ]
  },
  {
   "cell_type": "code",
   "execution_count": 11,
   "id": "e5432e13-7db4-4728-aab6-c85ae78bef0c",
   "metadata": {
    "tags": []
   },
   "outputs": [],
   "source": [
    "import warnings\n",
    "warnings.filterwarnings('ignore')"
   ]
  },
  {
   "cell_type": "code",
   "execution_count": 12,
   "id": "089e2cc2-0d76-4f48-9ebf-ca4745007447",
   "metadata": {
    "tags": []
   },
   "outputs": [],
   "source": [
    "from langchain_experimental.sql import SQLDatabaseChain\n",
    "from langchain.sql_database import SQLDatabase\n",
    "from langchain.prompts import PromptTemplate"
   ]
  },
  {
   "cell_type": "code",
   "execution_count": 13,
   "id": "5c6cedb3-9ffc-4ec2-a2a1-f76a2b184854",
   "metadata": {
    "tags": []
   },
   "outputs": [],
   "source": [
    "openai_api_key = openai_api_key"
   ]
  },
  {
   "cell_type": "code",
   "execution_count": 6,
   "id": "812599ff-15a7-4a3b-ae53-9a13310d4533",
   "metadata": {
    "tags": []
   },
   "outputs": [],
   "source": [
    "#llm = ChatOpenAI(openai_api_key=openai_api_key, model=\"gpt-4\")\n",
    "#llm.invoke(\"what can you help me with?\")"
   ]
  },
  {
   "cell_type": "markdown",
   "id": "e7706d02-b241-4b59-b4a3-000c3f589943",
   "metadata": {},
   "source": [
    "# Question 1"
   ]
  },
  {
   "cell_type": "code",
   "execution_count": 8,
   "id": "48805451-8c8f-4af4-b8cc-a3f92d551ee5",
   "metadata": {
    "tags": []
   },
   "outputs": [
    {
     "name": "stdout",
     "output_type": "stream",
     "text": [
      "Generated SQL: The medication 'Papain 2.5 % Solution' was used to treat a patient with id 12749568, who was admitted on 2136-11-09 15:59:00 and discharged on 2136-12-10 14:00:00.\n"
     ]
    }
   ],
   "source": [
    "# Initialize BigQuery client\n",
    "bigquery_client = bigquery.Client()\n",
    "\n",
    "# Define the Openai model\n",
    "llm = ChatOpenAI(openai_api_key=openai_api_key, model=\"gpt-4-32k\")\n",
    "\n",
    "# Manually define the SQLDatabase\n",
    "# Assume you have a BigQuery connection string or credentials file\n",
    "connection_string = \"bigquery://us-gcp-ame-con-5b680-sbx-1/mimic_iv_hosp_icu_dataset\"\n",
    "\n",
    "# Create the SQLDatabase instance\n",
    "db = SQLDatabase.from_uri(connection_string)\n",
    "\n",
    "# Create the SQLDatabaseChain\n",
    "chain = SQLDatabaseChain(llm=llm, database=db)\n",
    "\n",
    "# Define your natural language query\n",
    "natural_language_query = \"List of medication used to treat patients with pain join with admissions limit 1\"\n",
    "\n",
    "# Generate SQL and execute\n",
    "sql_query = chain.run(natural_language_query)\n",
    "print(\"Generated SQL:\", sql_query)"
   ]
  },
  {
   "cell_type": "code",
   "execution_count": 10,
   "id": "74ee8a3c-ae4d-450b-a9a4-d2bdbcb26ec9",
   "metadata": {
    "tags": []
   },
   "outputs": [
    {
     "name": "stdout",
     "output_type": "stream",
     "text": [
      "response\n",
      " prediction: {'content': ' Papain 2.5% solution is a medication that is used to treat a variety of conditions. It is a proteolytic enzyme, which means that it helps to break down proteins. Papain is derived from the papaya fruit, and it has been used for centuries to treat a variety of medical conditions. Papain 2.5% solution can be used to treat a variety of conditions, including: Wounds: Papain can help to clean and debride wounds, and it can also help to promote healing. Skin conditions: Papain can be used to treat a variety of skin conditions, such as acne, eczema, and psoriasis. Digestive problems: Papain can help to improve digestion and relieve symptoms of indigestion, such as heartburn and bloating. Inflammation: Papain can help to reduce inflammation in the body. Papain 2.5% solution is a safe and effective medication that can be used to treat a variety of conditions. It is important to follow the directions on the medication label and to talk to your doctor or pharmacist if you have any questions about papain 2.5% solution.', 'safetyAttributes': <proto.marshal.collections.maps.MapComposite object at 0x7f957070dab0>, 'citationMetadata': <proto.marshal.collections.maps.MapComposite object at 0x7f954df9ffa0>}\n"
     ]
    }
   ],
   "source": [
    "client_options = {\"api_endpoint\": \"us-central1-aiplatform.googleapis.com\"}\n",
    "\n",
    "\n",
    "# This client only needs to be created once, and can be reused for multiple requests.\n",
    "\n",
    "client = aiplatform.gapic.PredictionServiceClient(\n",
    "\n",
    "    client_options=client_options\n",
    "\n",
    ")\n",
    "instance_dict = { \"content\": \"Summarize \" + sql_query }\n",
    "\n",
    "instance = json_format.ParseDict(instance_dict, Value())\n",
    "\n",
    "instances = [instance]\n",
    "\n",
    "parameters_dict = {\n",
    "\n",
    "    \"candidateCount\": 1,\n",
    "\n",
    "    \"maxOutputTokens\": 500,\n",
    "\n",
    "    \"temperature\": 0.2,\n",
    "\n",
    "    \"topP\": 0.8,\n",
    "\n",
    "    \"topK\": 40\n",
    "\n",
    "}\n",
    "\n",
    "parameters = json_format.ParseDict(parameters_dict, Value())\n",
    "\n",
    "response = client.predict(\n",
    "\n",
    "    endpoint=\"projects/us-gcp-ame-con-5b680-sbx-1/locations/us-central1/publishers/google/models/medlm-large\", instances=instances, parameters=parameters\n",
    "\n",
    ")\n",
    "\n",
    "print(\"response\")\n",
    "\n",
    "predictions = response.predictions\n",
    "\n",
    "for prediction in predictions:\n",
    "    print(\" prediction:\", dict(prediction))"
   ]
  },
  {
   "cell_type": "code",
   "execution_count": 1,
   "id": "c199198a-4611-4a7b-a0d5-36dd2d62079c",
   "metadata": {
    "tags": []
   },
   "outputs": [
    {
     "name": "stderr",
     "output_type": "stream",
     "text": [
      "/opt/conda/lib/python3.10/site-packages/sentence_transformers/cross_encoder/CrossEncoder.py:11: TqdmExperimentalWarning: Using `tqdm.autonotebook.tqdm` in notebook mode. Use `tqdm.tqdm` instead to force console mode (e.g. in jupyter console)\n",
      "  from tqdm.autonotebook import tqdm, trange\n",
      "2024-08-08 13:08:28.172782: E external/local_xla/xla/stream_executor/cuda/cuda_fft.cc:485] Unable to register cuFFT factory: Attempting to register factory for plugin cuFFT when one has already been registered\n",
      "2024-08-08 13:08:28.200350: E external/local_xla/xla/stream_executor/cuda/cuda_dnn.cc:8454] Unable to register cuDNN factory: Attempting to register factory for plugin cuDNN when one has already been registered\n",
      "2024-08-08 13:08:28.207993: E external/local_xla/xla/stream_executor/cuda/cuda_blas.cc:1452] Unable to register cuBLAS factory: Attempting to register factory for plugin cuBLAS when one has already been registered\n"
     ]
    },
    {
     "name": "stdout",
     "output_type": "stream",
     "text": [
      "Cosine Similarity: 0.6605226993560791\n"
     ]
    }
   ],
   "source": [
    "from sentence_transformers import SentenceTransformer, util\n",
    "\n",
    "# Load a pre-trained sentence embedding model\n",
    "model = SentenceTransformer('all-mpnet-base-v2')\n",
    "\n",
    "# Your MedLM output\n",
    "medlm_output = \"Papain 2.5% solution is a medication that is used to treat a variety of conditions. It is a proteolytic enzyme, which means that it helps to break down proteins. Papain is derived from the papaya fruit, and it has been used for centuries to treat a variety of medical conditions. Papain 2.5% solution can be used to treat a variety of conditions, including: Wounds: Papain can help to clean and debride wounds, and it can also help to promote healing. Skin conditions: Papain can be used to treat a variety of skin conditions, such as acne, eczema, and psoriasis. Digestive problems: Papain can help to improve digestion and relieve symptoms of indigestion, such as heartburn and bloating. Inflammation: Papain can help to reduce inflammation in the body. Papain 2.5% solution is a safe and effective medication that can be used to treat a variety of conditions. It is important to follow the directions on the medication label and to talk to your doctor or pharmacist if you have any questions about papain 2.5% solution.\"\n",
    "# Your reference text\n",
    "rag_output = \"The medication 'Papain 2.5 % Solution' was used to treat a patient with id 12749568, who was admitted on 2136-11-09\"\n",
    "\n",
    "# Encode the sentences into vectors\n",
    "medlm_embedding = model.encode(medlm_output)\n",
    "reference_embedding = model.encode(rag_output)\n",
    "\n",
    "# Calculate cosine similarity\n",
    "cosine_similarity = util.cos_sim(medlm_embedding, reference_embedding)[0][0]\n",
    "\n",
    "print(f\"Cosine Similarity: {cosine_similarity}\")"
   ]
  },
  {
   "cell_type": "markdown",
   "id": "d6e75c5f-f7fa-4797-84d5-82b3743f70c0",
   "metadata": {},
   "source": [
    "# Question 2"
   ]
  },
  {
   "cell_type": "code",
   "execution_count": 7,
   "id": "d6cd0781-c805-456d-a282-c2c1723d00c8",
   "metadata": {
    "tags": []
   },
   "outputs": [
    {
     "name": "stdout",
     "output_type": "stream",
     "text": [
      "Generated SQL: The most frequently prescribed prescription drug is Insulin.\n"
     ]
    }
   ],
   "source": [
    "# Initialize BigQuery client\n",
    "bigquery_client = bigquery.Client()\n",
    "\n",
    "# Define the Openai model\n",
    "llm = ChatOpenAI(openai_api_key=openai_api_key, model=\"gpt-4-32k\")\n",
    "\n",
    "# Manually define the SQLDatabase\n",
    "# Assume you have a BigQuery connection string or credentials file\n",
    "connection_string = \"bigquery://us-gcp-ame-con-5b680-sbx-1/mimic_iv_hosp_icu_dataset\"\n",
    "\n",
    "# Create the SQLDatabase instance\n",
    "db = SQLDatabase.from_uri(connection_string)\n",
    "\n",
    "# Create the SQLDatabaseChain\n",
    "chain = SQLDatabaseChain(llm=llm, database=db)\n",
    "\n",
    "# Define your natural language query\n",
    "natural_language_query = \"What is the most frequently prescribed prescription drug\"\n",
    "\n",
    "# Generate SQL and execute\n",
    "sql_query = chain.run(natural_language_query)\n",
    "print(\"Generated SQL:\", sql_query)\n"
   ]
  },
  {
   "cell_type": "code",
   "execution_count": 8,
   "id": "0e0dbff8-fbe5-4c3b-b6c4-9e13b1bf7650",
   "metadata": {},
   "outputs": [
    {
     "name": "stdout",
     "output_type": "stream",
     "text": [
      "response\n",
      " prediction: {'content': \" Insulin is a hormone that is produced by the pancreas and is essential for the body's use of glucose (sugar) for energy. It is used to treat diabetes, a condition in which the body does not produce enough insulin or does not use insulin effectively. Insulin is available in several different forms, including injectable, oral, and inhaled forms. The type and dose of insulin that is prescribed will depend on the individual's needs.\", 'safetyAttributes': <proto.marshal.collections.maps.MapComposite object at 0x7f01defcb880>, 'citationMetadata': <proto.marshal.collections.maps.MapComposite object at 0x7f01defcbfd0>}\n"
     ]
    }
   ],
   "source": [
    "# The AI Platform services require regional API endpoints.\n",
    "\n",
    "client_options = {\"api_endpoint\": \"us-central1-aiplatform.googleapis.com\"}\n",
    "\n",
    "# Initialize client that will be used to create and send requests.\n",
    "\n",
    "# This client only needs to be created once, and can be reused for multiple requests.\n",
    "\n",
    "client = aiplatform.gapic.PredictionServiceClient(\n",
    "\n",
    "    client_options=client_options\n",
    "\n",
    ")\n",
    "\n",
    "instance_dict = { \"content\": \"Summarize \" + sql_query }\n",
    "\n",
    "instance = json_format.ParseDict(instance_dict, Value())\n",
    "\n",
    "instances = [instance]\n",
    "\n",
    "parameters_dict = {\n",
    "\n",
    "    \"candidateCount\": 1,\n",
    "\n",
    "    \"maxOutputTokens\": 500,\n",
    "\n",
    "    \"temperature\": 0.2,\n",
    "\n",
    "    \"topP\": 0.8,\n",
    "\n",
    "    \"topK\": 40\n",
    "\n",
    "}\n",
    "\n",
    "parameters = json_format.ParseDict(parameters_dict, Value())\n",
    "\n",
    "response = client.predict(\n",
    "\n",
    "    endpoint=\"projects/us-gcp-ame-con-5b680-sbx-1/locations/us-central1/publishers/google/models/medlm-large\", instances=instances, parameters=parameters\n",
    "\n",
    ")\n",
    "\n",
    "print(\"response\")\n",
    "\n",
    "predictions = response.predictions\n",
    "\n",
    "for prediction in predictions:\n",
    "    print(\" prediction:\", dict(prediction))"
   ]
  },
  {
   "cell_type": "code",
   "execution_count": 6,
   "id": "c688e370-2e93-4b78-94f0-0dcbbe2fe13d",
   "metadata": {
    "tags": []
   },
   "outputs": [
    {
     "name": "stdout",
     "output_type": "stream",
     "text": [
      "Cosine Similarity: 0.5294905304908752\n"
     ]
    }
   ],
   "source": [
    "from sentence_transformers import SentenceTransformer, util\n",
    "\n",
    "# Load a pre-trained sentence embedding model\n",
    "model = SentenceTransformer('all-mpnet-base-v2')\n",
    "\n",
    "# Your MedLM output\n",
    "rag_output = \"The most frequently prescribed prescription drug is Insulin.\"\n",
    "# Your reference text\n",
    "medlm_output = \"Insulin is a hormone that is produced by the pancreas and is essential for the body's use of glucose (sugar) for energy. It is used to treat diabetes, a condition in which the body does not produce enough insulin or does not use insulin effectively. Insulin is available in several different forms, including injectable, oral, and inhaled forms. The type and dose of insulin that is prescribed will depend on the individual's needs.\"\n",
    "# Encode the sentences into vectors\n",
    "medlm_embedding = model.encode(medlm_output)\n",
    "reference_embedding = model.encode(rag_output)\n",
    "\n",
    "# Calculate cosine similarity\n",
    "cosine_similarity = util.cos_sim(medlm_embedding, reference_embedding)[0][0]\n",
    "\n",
    "print(f\"Cosine Similarity: {cosine_similarity}\")"
   ]
  },
  {
   "cell_type": "markdown",
   "id": "a01d7010-47b8-47e4-88be-a79965ec1be9",
   "metadata": {},
   "source": [
    "# Question 3"
   ]
  },
  {
   "cell_type": "code",
   "execution_count": 9,
   "id": "0378fae7-31f1-4e8f-a07f-0535a3fd8f7d",
   "metadata": {},
   "outputs": [
    {
     "name": "stdout",
     "output_type": "stream",
     "text": [
      "Generated SQL: The most frequent order types in provider order entries are:\n",
      "1. Medications with 17690066 entries\n",
      "2. Lab with 6565578 entries\n",
      "3. General Care with 5690221 entries\n",
      "4. ADT orders with 2171456 entries\n",
      "5. IV therapy with 2140236 entries\n"
     ]
    }
   ],
   "source": [
    "# Initialize BigQuery client\n",
    "bigquery_client = bigquery.Client()\n",
    "\n",
    "# Define the Openai model\n",
    "llm = ChatOpenAI(openai_api_key=openai_api_key, model=\"gpt-4-32k\")\n",
    "\n",
    "# Manually define the SQLDatabase\n",
    "# Assume you have a BigQuery connection string or credentials file\n",
    "connection_string = \"bigquery://us-gcp-ame-con-5b680-sbx-1/mimic_iv_hosp_icu_dataset\"\n",
    "\n",
    "# Create the SQLDatabase instance\n",
    "db = SQLDatabase.from_uri(connection_string)\n",
    "\n",
    "# Create the SQLDatabaseChain\n",
    "chain = SQLDatabaseChain(llm=llm, database=db)\n",
    "\n",
    "# Define your natural language query\n",
    "natural_language_query = \"Provider order entries (poe) most frequent order type limit 5\"\n",
    "\n",
    "# Generate SQL and execute\n",
    "sql_query = chain.run(natural_language_query)\n",
    "print(\"Generated SQL:\", sql_query)"
   ]
  },
  {
   "cell_type": "code",
   "execution_count": 10,
   "id": "eeb1872a-f745-414a-87d8-f9a066b2a47e",
   "metadata": {},
   "outputs": [
    {
     "name": "stdout",
     "output_type": "stream",
     "text": [
      "response\n",
      " prediction: {'content': ' The most frequent order types in provider order entries are:\\n1. Medications: 17690066 entries\\n2. Lab: 6565578 entries\\n3. General Care: 5690221 entries\\n4. ADT orders: 2171456 entries\\n5. IV therapy: 2140236 entries\\n\\nMedications are the most common type of order, accounting for over half of all orders. This is likely due to the fact that medications are a common form of treatment for many different medical conditions. Lab orders are also common, as they are often used to diagnose and monitor medical conditions. General care orders include a variety of different types of orders, such as orders for diet, activity, and wound care. ADT orders are used to admit, discharge, and transfer patients. IV therapy is used to administer fluids and medications intravenously.', 'citationMetadata': <proto.marshal.collections.maps.MapComposite object at 0x7f01defcbeb0>, 'safetyAttributes': <proto.marshal.collections.maps.MapComposite object at 0x7f01fd760400>}\n"
     ]
    }
   ],
   "source": [
    "# The AI Platform services require regional API endpoints.\n",
    "\n",
    "client_options = {\"api_endpoint\": \"us-central1-aiplatform.googleapis.com\"}\n",
    "\n",
    "# Initialize client that will be used to create and send requests.\n",
    "\n",
    "# This client only needs to be created once, and can be reused for multiple requests.\n",
    "\n",
    "client = aiplatform.gapic.PredictionServiceClient(\n",
    "\n",
    "    client_options=client_options\n",
    "\n",
    ")\n",
    "\n",
    "instance_dict = { \"content\": \"Summarize \" + sql_query }\n",
    "\n",
    "instance = json_format.ParseDict(instance_dict, Value())\n",
    "\n",
    "instances = [instance]\n",
    "\n",
    "parameters_dict = {\n",
    "\n",
    "    \"candidateCount\": 1,\n",
    "\n",
    "    \"maxOutputTokens\": 500,\n",
    "\n",
    "    \"temperature\": 0.2,\n",
    "\n",
    "    \"topP\": 0.8,\n",
    "\n",
    "    \"topK\": 40\n",
    "\n",
    "}\n",
    "\n",
    "parameters = json_format.ParseDict(parameters_dict, Value())\n",
    "\n",
    "response = client.predict(\n",
    "\n",
    "    endpoint=\"projects/us-gcp-ame-con-5b680-sbx-1/locations/us-central1/publishers/google/models/medlm-large\", instances=instances, parameters=parameters\n",
    "\n",
    ")\n",
    "\n",
    "print(\"response\")\n",
    "\n",
    "predictions = response.predictions\n",
    "\n",
    "for prediction in predictions:\n",
    "    print(\" prediction:\", dict(prediction))"
   ]
  },
  {
   "cell_type": "code",
   "execution_count": 5,
   "id": "c8eb49c1-671b-49cd-9200-dc483c5261fe",
   "metadata": {
    "tags": []
   },
   "outputs": [
    {
     "name": "stdout",
     "output_type": "stream",
     "text": [
      "Cosine Similarity: 0.9003145098686218\n"
     ]
    }
   ],
   "source": [
    "from sentence_transformers import SentenceTransformer, util\n",
    "\n",
    "# Load a pre-trained sentence embedding model\n",
    "model = SentenceTransformer('all-mpnet-base-v2')\n",
    "\n",
    "# Your MedLM output\n",
    "medlm_output = \" The most frequent order types in provider order entries are: 1. Medications: 17690066 entries 2. Lab: 6565578 entries\\n3. General Care: 5690221 entries\\n4. ADT orders: 2171456 entries\\n5. IV therapy: 2140236 entries\\n\\nMedications are the most common type of order, accounting for over half of all orders. This is likely due to the fact that medications are a common form of treatment for many different medical conditions. Lab orders are also common, as they are often used to diagnose and monitor medical conditions. General care orders include a variety of different types of orders, such as orders for diet, activity, and wound care. ADT orders are used to admit, discharge, and transfer patients. IV therapy is used to administer fluids and medications intravenously.\"\n",
    "# Your reference text\n",
    "rag_output = '''The most frequent order types in provider order entries are: 1. Medications with 17690066 entries 2. Lab with 6565578 entries 3. General Care with 5690221 entries 4. ADT orders with 2171456 entries5. IV therapy with 2140236 entrie'''\n",
    "# Encode the sentences into vectors\n",
    "medlm_embedding = model.encode(medlm_output)\n",
    "reference_embedding = model.encode(rag_output)\n",
    "\n",
    "# Calculate cosine similarity\n",
    "cosine_similarity = util.cos_sim(medlm_embedding, reference_embedding)[0][0]\n",
    "\n",
    "print(f\"Cosine Similarity: {cosine_similarity}\")"
   ]
  },
  {
   "cell_type": "markdown",
   "id": "199bb0bd-c47c-4e94-a2fc-fde32fbe495c",
   "metadata": {},
   "source": [
    "# Question 4 "
   ]
  },
  {
   "cell_type": "code",
   "execution_count": 11,
   "id": "a2477623-1360-4286-a472-2c18454dd8ce",
   "metadata": {},
   "outputs": [
    {
     "name": "stdout",
     "output_type": "stream",
     "text": [
      "Generated SQL: The unique names of the tests given to patients who were admitted and the doctor comments \"VRE isolated\" are 'R/O VANCOMYCIN RESISTANT ENTEROCOCCUS', 'WOUND CULTURE', and 'FECAL CULTURE - R/O VIBRIO'.\n"
     ]
    }
   ],
   "source": [
    "# Initialize BigQuery client\n",
    "bigquery_client = bigquery.Client()\n",
    "\n",
    "# Define the Openai model\n",
    "llm = ChatOpenAI(openai_api_key=openai_api_key, model=\"gpt-4-32k\")\n",
    "\n",
    "# Manually define the SQLDatabase\n",
    "# Assume you have a BigQuery connection string or credentials file\n",
    "connection_string = \"bigquery://us-gcp-ame-con-5b680-sbx-1/mimic_iv_hosp_icu_dataset\"\n",
    "\n",
    "# Create the SQLDatabase instance\n",
    "db = SQLDatabase.from_uri(connection_string)\n",
    "\n",
    "# Create the SQLDatabaseChain\n",
    "chain = SQLDatabaseChain(llm=llm, database=db)\n",
    "\n",
    "# Define your natural language query\n",
    "natural_language_query = \"What are the unique name of the tests given to patients who were admitted and the doctor comments VRE isolated limit 3 \"\n",
    "\n",
    "# Generate SQL and execute\n",
    "sql_query = chain.run(natural_language_query)\n",
    "print(\"Generated SQL:\", sql_query)"
   ]
  },
  {
   "cell_type": "code",
   "execution_count": 12,
   "id": "b401163e-0a95-4350-8c7d-9f9648a6966d",
   "metadata": {},
   "outputs": [
    {
     "name": "stdout",
     "output_type": "stream",
     "text": [
      "response\n",
      " prediction: {'safetyAttributes': <proto.marshal.collections.maps.MapComposite object at 0x7f01fd760370>, 'content': \" Vancomycin-resistant Enterococcus (VRE) is a type of bacteria that is resistant to the antibiotic vancomycin. VRE can cause serious infections, especially in people who are hospitalized or have weakened immune systems. VRE is often found in hospitals and other healthcare settings, where it can be spread from person to person through contact with contaminated surfaces or objects. The tests listed above are used to diagnose VRE infections. The 'R/O VANCOMYCIN RESISTANT ENTEROCOCCUS' test is a culture test that is used to identify VRE bacteria in a sample of stool, urine, or blood. The 'WOUND CULTURE' test is used to identify bacteria that may be causing an infection in a wound. The 'FECAL CULTURE - R/O VIBRIO' test is used to identify Vibrio bacteria, which can cause a type of food poisoning. If you have any questions about these tests, please talk to your doctor.\", 'citationMetadata': <proto.marshal.collections.maps.MapComposite object at 0x7f01defca650>}\n"
     ]
    }
   ],
   "source": [
    "# The AI Platform services require regional API endpoints.\n",
    "\n",
    "client_options = {\"api_endpoint\": \"us-central1-aiplatform.googleapis.com\"}\n",
    "\n",
    "# Initialize client that will be used to create and send requests.\n",
    "\n",
    "# This client only needs to be created once, and can be reused for multiple requests.\n",
    "\n",
    "client = aiplatform.gapic.PredictionServiceClient(\n",
    "\n",
    "    client_options=client_options\n",
    "\n",
    ")\n",
    "\n",
    "instance_dict = { \"content\": \"Summarize \" + sql_query }\n",
    "\n",
    "instance = json_format.ParseDict(instance_dict, Value())\n",
    "\n",
    "instances = [instance]\n",
    "\n",
    "parameters_dict = {\n",
    "\n",
    "    \"candidateCount\": 1,\n",
    "\n",
    "    \"maxOutputTokens\": 500,\n",
    "\n",
    "    \"temperature\": 0.2,\n",
    "\n",
    "    \"topP\": 0.8,\n",
    "\n",
    "    \"topK\": 40\n",
    "\n",
    "}\n",
    "\n",
    "parameters = json_format.ParseDict(parameters_dict, Value())\n",
    "\n",
    "response = client.predict(\n",
    "\n",
    "    endpoint=\"projects/us-gcp-ame-con-5b680-sbx-1/locations/us-central1/publishers/google/models/medlm-large\", instances=instances, parameters=parameters\n",
    "\n",
    ")\n",
    "\n",
    "print(\"response\")\n",
    "\n",
    "predictions = response.predictions\n",
    "\n",
    "for prediction in predictions:\n",
    "    print(\" prediction:\", dict(prediction))"
   ]
  },
  {
   "cell_type": "code",
   "execution_count": 7,
   "id": "a9a9e276-db00-44db-b3d9-890d7d0d465f",
   "metadata": {},
   "outputs": [
    {
     "name": "stdout",
     "output_type": "stream",
     "text": [
      "Cosine Similarity: 0.8557106256484985\n"
     ]
    }
   ],
   "source": [
    "from sentence_transformers import SentenceTransformer, util\n",
    "\n",
    "# Load a pre-trained sentence embedding model\n",
    "model = SentenceTransformer('all-mpnet-base-v2')\n",
    "\n",
    "# Your MedLM output\n",
    "medlm_output = \"Vancomycin-resistant Enterococcus (VRE) is a type of bacteria that is resistant to the antibiotic vancomycin. VRE can cause serious infections, especially in people who are hospitalized or have weakened immune systems. VRE is often found in hospitals and other healthcare settings, where it can be spread from person to person through contact with contaminated surfaces or objects. The tests listed above are used to diagnose VRE infections. The 'R/O VANCOMYCIN RESISTANT ENTEROCOCCUS' test is a culture test that is used to identify VRE bacteria in a sample of stool, urine, or blood. The 'WOUND CULTURE' test is used to identify bacteria that may be causing an infection in a wound. The 'FECAL CULTURE - R/O VIBRIO' test is used to identify Vibrio bacteria, which can cause a type of food poisoning. If you have any questions about these tests, please talk to your doctor.\"\n",
    "# Your reference text\n",
    "rag_output = \"The unique names of the tests given to patients who were admitted and the doctor comments VRE isolated are 'R/O VANCOMYCIN RESISTANT ENTEROCOCCUS', 'WOUND CULTURE', and 'FECAL CULTURE - R/O VIBRIO'\"\n",
    "\n",
    "# Encode the sentences into vectors\n",
    "medlm_embedding = model.encode(medlm_output)\n",
    "reference_embedding = model.encode(rag_output)\n",
    "\n",
    "# Calculate cosine similarity\n",
    "cosine_similarity = util.cos_sim(medlm_embedding, reference_embedding)[0][0]\n",
    "\n",
    "print(f\"Cosine Similarity: {cosine_similarity}\")"
   ]
  },
  {
   "cell_type": "markdown",
   "id": "d3052bd6-81b5-40fb-ac3c-2fd9158cface",
   "metadata": {},
   "source": [
    "# Question 5"
   ]
  },
  {
   "cell_type": "code",
   "execution_count": 8,
   "id": "77d52069-66a4-491c-a0a4-546e716258ca",
   "metadata": {},
   "outputs": [
    {
     "name": "stdout",
     "output_type": "stream",
     "text": [
      "Generated SQL: The radiology findings of a patient who received ORTHOPAEDICS service in discharge text are: \"EXAMINATION:  CHEST (PORTABLE AP)\\n\\nINDICATION:  ___ year old woman with urosepsis with fever  // rule out\\npneumonia\\n\\nTECHNIQUE:  CHEST (PORTABLE AP)\\n\\nCOMPARISON:  ___\\n\\nIMPRESSION: \\n\\nLeft internal jugular line tip is at the level of mid SVC.  Cardiomegaly is\\nsubstantial, unchanged.  Sternal...\"\n"
     ]
    }
   ],
   "source": [
    "# Initialize BigQuery client\n",
    "bigquery_client = bigquery.Client()\n",
    "\n",
    "# Define the Openai model\n",
    "llm = ChatOpenAI(openai_api_key=openai_api_key, model=\"gpt-4-32k\")\n",
    "\n",
    "# Manually define the SQLDatabase\n",
    "# Assume you have a BigQuery connection string or credentials file\n",
    "connection_string = \"bigquery://us-gcp-ame-con-5b680-sbx-1/mimic_iv_dataset\"\n",
    "\n",
    "# Create the SQLDatabase instance\n",
    "db = SQLDatabase.from_uri(connection_string)\n",
    "\n",
    "# Create the SQLDatabaseChain\n",
    "chain = SQLDatabaseChain(llm=llm, database=db)\n",
    "\n",
    "# Define your natural language query\n",
    "natural_language_query = \"What is the radiology findings of a patient who received ORTHOPAEDICS service in discharge text limit 1\"\n",
    "\n",
    "# Generate SQL and execute\n",
    "sql_query = chain.run(natural_language_query)\n",
    "print(\"Generated SQL:\", sql_query)"
   ]
  },
  {
   "cell_type": "code",
   "execution_count": 14,
   "id": "31a04a36-a24d-4465-ae7e-91a81e1e811f",
   "metadata": {},
   "outputs": [
    {
     "name": "stdout",
     "output_type": "stream",
     "text": [
      "response\n",
      " prediction: {'safetyAttributes': <proto.marshal.collections.maps.MapComposite object at 0x7fce5c26a920>, 'citationMetadata': <proto.marshal.collections.maps.MapComposite object at 0x7fce5c26b730>, 'content': ' There is no evidence of pneumonia on the chest X-ray. The heart is enlarged, but this is unchanged from previous films. There is a surgical scar from the recent sternotomy (surgery to open the chest).'}\n"
     ]
    }
   ],
   "source": [
    "# The AI Platform services require regional API endpoints.\n",
    "\n",
    "client_options = {\"api_endpoint\": \"us-central1-aiplatform.googleapis.com\"}\n",
    "\n",
    "# Initialize client that will be used to create and send requests.\n",
    "\n",
    "# This client only needs to be created once, and can be reused for multiple requests.\n",
    "\n",
    "client = aiplatform.gapic.PredictionServiceClient(\n",
    "\n",
    "    client_options=client_options\n",
    "\n",
    ")\n",
    "\n",
    "instance_dict = { \"content\": \"Summarize \" + \"The radiology findings of a patient who received ORTHOPAEDICS service in discharge text are: EXAMINATION:  CHEST (PORTABLE AP)\\n\\nINDICATION:  ___ year old woman with urosepsis with fever  // rule out\\npneumonia\\n\\nTECHNIQUE:  CHEST (PORTABLE AP)\\n\\nCOMPARISON:  ___\\n\\nIMPRESSION: \\n\\nLeft internal jugular line tip is at the level of mid SVC.  Cardiomegaly is\\nsubstantial, unchanged.  Sternal...\"}\n",
    "\n",
    "instance = json_format.ParseDict(instance_dict, Value())\n",
    "\n",
    "instances = [instance]\n",
    "\n",
    "parameters_dict = {\n",
    "\n",
    "    \"candidateCount\": 1,\n",
    "\n",
    "    \"maxOutputTokens\": 500,\n",
    "\n",
    "    \"temperature\": 0.2,\n",
    "\n",
    "    \"topP\": 0.8,\n",
    "\n",
    "    \"topK\": 40\n",
    "\n",
    "}\n",
    "\n",
    "parameters = json_format.ParseDict(parameters_dict, Value())\n",
    "\n",
    "response = client.predict(\n",
    "\n",
    "    endpoint=\"projects/us-gcp-ame-con-5b680-sbx-1/locations/us-central1/publishers/google/models/medlm-large\", instances=instances, parameters=parameters\n",
    "\n",
    ")\n",
    "\n",
    "print(\"response\")\n",
    "\n",
    "predictions = response.predictions\n",
    "\n",
    "for prediction in predictions:\n",
    "    print(\" prediction:\", dict(prediction))"
   ]
  },
  {
   "cell_type": "code",
   "execution_count": 15,
   "id": "c521af80-b110-4d44-a2ee-acaea82a3d1d",
   "metadata": {
    "tags": []
   },
   "outputs": [
    {
     "name": "stdout",
     "output_type": "stream",
     "text": [
      "Cosine Similarity: 0.5574334859848022\n"
     ]
    }
   ],
   "source": [
    "from sentence_transformers import SentenceTransformer, util\n",
    "\n",
    "# Load a pre-trained sentence embedding model\n",
    "model = SentenceTransformer('all-mpnet-base-v2')\n",
    "\n",
    "# Your MedLM output\n",
    "medlm_output = \"There is no evidence of pneumonia on the chest X-ray. The heart is enlarged, but this is unchanged from previous films. There is a surgical scar from the recent sternotomy (surgery to open the chest).\"\n",
    "rag_output = \"The radiology findings of a patient who received ORTHOPAEDICS service in discharge text are: EXAMINATION:  CHEST (PORTABLE AP) INDICATION:  ___ year old woman with urosepsis with fever rule out pneumonia TECHNIQUE:  CHEST (PORTABLE AP) COMPARISON:  ___ IMPRESSION:Left internal jugular line tip is at the level of mid SVC.  Cardiomegaly is substantial, unchanged.\"\n",
    " \n",
    "# Encode the sentences into vectors\n",
    "medlm_embedding = model.encode(medlm_output)\n",
    "reference_embedding = model.encode(rag_output)\n",
    "\n",
    "# Calculate cosine similarity\n",
    "cosine_similarity = util.cos_sim(medlm_embedding, reference_embedding)[0][0]\n",
    "\n",
    "print(f\"Cosine Similarity: {cosine_similarity}\")"
   ]
  },
  {
   "cell_type": "code",
   "execution_count": null,
   "id": "fc0396a1-4575-496a-9f4e-310a364cfbd1",
   "metadata": {},
   "outputs": [],
   "source": []
  },
  {
   "cell_type": "markdown",
   "id": "05c88ea1-4e82-4ccf-988e-968882587ba0",
   "metadata": {},
   "source": [
    "# Question 6"
   ]
  },
  {
   "cell_type": "code",
   "execution_count": 10,
   "id": "0f030e4b-acd2-475e-afd4-88627fbcc129",
   "metadata": {},
   "outputs": [
    {
     "name": "stdout",
     "output_type": "stream",
     "text": [
      "Generated SQL: The radiology findings for the patient whose Chief Complaint was Abdominal pain in the discharge text were: \"EXAMINATION:  CT ABD AND PELVIS WITH CONTRAST\\n\\nINDICATION:  ___ with history of feeding tube, purulent drainage from wound\\nsite. Difficult venous access.NO_PO contrast// Abscess?  G-tube placement?\\n\\nTECHNIQUE:  Single phase contrast: MDCT axial images were acquired through the\\nabdomen and pelvis...\"\n"
     ]
    }
   ],
   "source": [
    "# Initialize BigQuery client\n",
    "bigquery_client = bigquery.Client()\n",
    "\n",
    "# Define the Openai model\n",
    "llm = ChatOpenAI(openai_api_key=openai_api_key, model=\"gpt-4-32k\")\n",
    "\n",
    "# Manually define the SQLDatabase\n",
    "# Assume you have a BigQuery connection string or credentials file\n",
    "connection_string = \"bigquery://us-gcp-ame-con-5b680-sbx-1/mimic_iv_dataset\"\n",
    "\n",
    "# Create the SQLDatabase instance\n",
    "db = SQLDatabase.from_uri(connection_string)\n",
    "\n",
    "# Create the SQLDatabaseChain\n",
    "chain = SQLDatabaseChain(llm=llm, database=db)\n",
    "\n",
    "# Define your natural language query\n",
    "natural_language_query = \"What is the radiology findings of a patient whose Chief Complaint is Abdominal pain in discharge text limit 1\"\n",
    "\n",
    "# Generate SQL and execute\n",
    "sql_query = chain.run(natural_language_query)\n",
    "print(\"Generated SQL:\", sql_query)"
   ]
  },
  {
   "cell_type": "code",
   "execution_count": 11,
   "id": "6edcbc41-6b7e-47b6-abe7-f7e4eab97624",
   "metadata": {},
   "outputs": [
    {
     "name": "stdout",
     "output_type": "stream",
     "text": [
      "response\n",
      " prediction: {'safetyAttributes': <proto.marshal.collections.maps.MapComposite object at 0x7f0785c23370>, 'citationMetadata': <proto.marshal.collections.maps.MapComposite object at 0x7f0785bbffd0>, 'content': \" There is no clear indication for the CT scan. The patient has a history of feeding tube, purulent drainage from wound site, and difficult venous access. The CT scan was done to evaluate for an abscess or to guide placement of a gastrostomy tube. The CT scan showed a small amount of free fluid in the right upper quadrant, which could be related to the patient's history of abdominal pain. There was no evidence of an abscess or other abnormality.\"}\n"
     ]
    }
   ],
   "source": [
    "# The AI Platform services require regional API endpoints.\n",
    "\n",
    "client_options = {\"api_endpoint\": \"us-central1-aiplatform.googleapis.com\"}\n",
    "\n",
    "# Initialize client that will be used to create and send requests.\n",
    "\n",
    "# This client only needs to be created once, and can be reused for multiple requests.\n",
    "\n",
    "client = aiplatform.gapic.PredictionServiceClient(\n",
    "\n",
    "    client_options=client_options\n",
    "\n",
    ")\n",
    "\n",
    "instance_dict = { \"content\": \"Summarize \" + sql_query }\n",
    "\n",
    "instance = json_format.ParseDict(instance_dict, Value())\n",
    "\n",
    "instances = [instance]\n",
    "\n",
    "parameters_dict = {\n",
    "\n",
    "    \"candidateCount\": 1,\n",
    "\n",
    "    \"maxOutputTokens\": 500,\n",
    "\n",
    "    \"temperature\": 0.2,\n",
    "\n",
    "    \"topP\": 0.8,\n",
    "\n",
    "    \"topK\": 40\n",
    "\n",
    "}\n",
    "\n",
    "parameters = json_format.ParseDict(parameters_dict, Value())\n",
    "\n",
    "response = client.predict(\n",
    "\n",
    "    endpoint=\"projects/us-gcp-ame-con-5b680-sbx-1/locations/us-central1/publishers/google/models/medlm-large\", instances=instances, parameters=parameters\n",
    "\n",
    ")\n",
    "\n",
    "print(\"response\")\n",
    "\n",
    "predictions = response.predictions\n",
    "\n",
    "for prediction in predictions:\n",
    "    print(\" prediction:\", dict(prediction))"
   ]
  },
  {
   "cell_type": "code",
   "execution_count": 16,
   "id": "a7dfe9eb-ea55-4659-a2c0-d380f453a1dc",
   "metadata": {
    "tags": []
   },
   "outputs": [
    {
     "name": "stdout",
     "output_type": "stream",
     "text": [
      "Cosine Similarity: 0.8501511216163635\n"
     ]
    }
   ],
   "source": [
    "from sentence_transformers import SentenceTransformer, util\n",
    "\n",
    "# Load a pre-trained sentence embedding model\n",
    "model = SentenceTransformer('all-mpnet-base-v2')\n",
    "\n",
    "# Your MedLM output\n",
    "medlm_output = \"There is no clear indication for the CT scan. The patient has a history of feeding tube, purulent drainage from wound site, and difficult venous access. The CT scan was done to evaluate for an abscess or to guide placement of a gastrostomy tube. The CT scan showed a small amount of free fluid in the right upper quadrant, which could be related to the patient's history of abdominal pain. There was no evidence of an abscess or other abnormality.\"\n",
    "rag_output = \"The radiology findings for the patient whose Chief Complaint was Abdominal pain in the discharge text were: EXAMINATION:  CT ABD AND PELVIS WITH CONTRAST\\n\\nINDICATION:  ___ with history of feeding tube, purulent drainage from wound\\nsite. Difficult venous access.NO_PO contrast// Abscess?  G-tube placement?\\n\\nTECHNIQUE:  Single phase contrast: MDCT axial images were acquired through the\\nabdomen and pelvis...\" \n",
    "# Encode the sentences into vectors\n",
    "medlm_embedding = model.encode(medlm_output)\n",
    "reference_embedding = model.encode(rag_output)\n",
    "\n",
    "# Calculate cosine similarity\n",
    "cosine_similarity = util.cos_sim(medlm_embedding, reference_embedding)[0][0]\n",
    "\n",
    "print(f\"Cosine Similarity: {cosine_similarity}\")"
   ]
  },
  {
   "cell_type": "markdown",
   "id": "3c21c315-4adb-46ee-8a8b-203a9c7849fb",
   "metadata": {},
   "source": [
    "# Question 7"
   ]
  },
  {
   "cell_type": "code",
   "execution_count": 12,
   "id": "8432947a-cae4-4ce0-afe4-576252038ffb",
   "metadata": {},
   "outputs": [
    {
     "name": "stdout",
     "output_type": "stream",
     "text": [
      "Generated SQL: The patient with note_id '17829563-RR-2' had a CT HEAD W/O CONTRAST examination where they found 'Routine unenhanced head CT was performed and viewed in brain,\\nintermediate and bone windows.  Coronal and sagittal reformats were also\\nperformed.\\n\\nDOSE:  Total DLP (Head) = 903 mGy-cm.\\n\\nCOMPARISON: ...'. The patient with note_id '14707889-RR-3' was indicated with 'History of hep C without treatment.  Presenting with abdominal\\ndistension.  Question cirrhosis.\\n\\nCOMPARISON:  None.\\n\\nFINDINGS:  The liver is shrunken and nodular in appearance consistent with\\ncirrhosis.  There is no evidence of intrahepatic biliary duct dilatation.  The\\ncommon bile...'.\n"
     ]
    }
   ],
   "source": [
    "# Initialize BigQuery client\n",
    "bigquery_client = bigquery.Client()\n",
    "\n",
    "# Define the Openai model\n",
    "llm = ChatOpenAI(openai_api_key=openai_api_key, model=\"gpt-4-32k\")\n",
    "\n",
    "# Manually define the SQLDatabase\n",
    "# Assume you have a BigQuery connection string or credentials file\n",
    "connection_string = \"bigquery://us-gcp-ame-con-5b680-sbx-1/mimic_iv_dataset\"\n",
    "\n",
    "# Create the SQLDatabase instance\n",
    "db = SQLDatabase.from_uri(connection_string)\n",
    "\n",
    "# Create the SQLDatabaseChain\n",
    "chain = SQLDatabaseChain(llm=llm, database=db)\n",
    "\n",
    "# Define your natural language query\n",
    "natural_language_query = \"What is the radiology findings of a patient who was discharged with a history of liver cirrhosis limit 2\"\n",
    "\n",
    "# Generate SQL and execute\n",
    "sql_query = chain.run(natural_language_query)\n",
    "print(\"Generated SQL:\", sql_query)"
   ]
  },
  {
   "cell_type": "code",
   "execution_count": 13,
   "id": "5c973983-5a1c-4838-bfc7-c7b2c125f0b5",
   "metadata": {},
   "outputs": [
    {
     "name": "stdout",
     "output_type": "stream",
     "text": [
      "response\n",
      " prediction: {'content': ' One of the patients had a CT scan of the head without contrast, which showed no abnormalities. The other patient had an ultrasound of the abdomen, which showed a shrunken and nodular liver consistent with cirrhosis. There was no evidence of intrahepatic biliary duct dilatation. The common bile duct was mildly dilated at 8 mm. The gallbladder was distended with stones and sludge.', 'safetyAttributes': <proto.marshal.collections.maps.MapComposite object at 0x7f07a04765c0>, 'citationMetadata': <proto.marshal.collections.maps.MapComposite object at 0x7f07a0476f50>}\n"
     ]
    }
   ],
   "source": [
    "# The AI Platform services require regional API endpoints.\n",
    "\n",
    "client_options = {\"api_endpoint\": \"us-central1-aiplatform.googleapis.com\"}\n",
    "\n",
    "# Initialize client that will be used to create and send requests.\n",
    "\n",
    "# This client only needs to be created once, and can be reused for multiple requests.\n",
    "\n",
    "client = aiplatform.gapic.PredictionServiceClient(\n",
    "\n",
    "    client_options=client_options\n",
    "\n",
    ")\n",
    "\n",
    "instance_dict = { \"content\": \"Summarize \" + sql_query }\n",
    "\n",
    "instance = json_format.ParseDict(instance_dict, Value())\n",
    "\n",
    "instances = [instance]\n",
    "\n",
    "parameters_dict = {\n",
    "\n",
    "    \"candidateCount\": 1,\n",
    "\n",
    "    \"maxOutputTokens\": 500,\n",
    "\n",
    "    \"temperature\": 0.2,\n",
    "\n",
    "    \"topP\": 0.8,\n",
    "\n",
    "    \"topK\": 40\n",
    "\n",
    "}\n",
    "\n",
    "parameters = json_format.ParseDict(parameters_dict, Value())\n",
    "\n",
    "response = client.predict(\n",
    "\n",
    "    endpoint=\"projects/us-gcp-ame-con-5b680-sbx-1/locations/us-central1/publishers/google/models/medlm-large\", instances=instances, parameters=parameters\n",
    "\n",
    ")\n",
    "\n",
    "print(\"response\")\n",
    "\n",
    "predictions = response.predictions\n",
    "\n",
    "for prediction in predictions:\n",
    "    print(\" prediction:\", dict(prediction))"
   ]
  },
  {
   "cell_type": "code",
   "execution_count": 17,
   "id": "10d54e06-5f34-4010-9ff0-69eee100c7e3",
   "metadata": {},
   "outputs": [
    {
     "name": "stdout",
     "output_type": "stream",
     "text": [
      "Cosine Similarity: 0.8337249755859375\n"
     ]
    }
   ],
   "source": [
    "from sentence_transformers import SentenceTransformer, util\n",
    "\n",
    "# Load a pre-trained sentence embedding model\n",
    "model = SentenceTransformer('all-mpnet-base-v2')\n",
    "\n",
    "# Your MedLM output\n",
    "medlm_output = \"One of the patients had a CT scan of the head without contrast, which showed no abnormalities. The other patient had an ultrasound of the abdomen, which showed a shrunken and nodular liver consistent with cirrhosis. There was no evidence of intrahepatic biliary duct dilatation. The common bile duct was mildly dilated at 8 mm. The gallbladder was distended with stones and sludge.\"\n",
    "rag_output = \"The patient with note_id '17829563-RR-2' had a CT HEAD W/O CONTRAST examination where they found 'Routine unenhanced head CT was performed and viewed in brain, intermediate and bone windows.  Coronal and sagittal reformats were also performed. DOSE:  Total DLP (Head) = 903 mGy-cm. COMPARISON: ...'. The patient with note_id '14707889-RR-3' was indicated with 'History of hep C without treatment.  Presenting with abdominal distension.  Question cirrhosis. COMPARISON:  None.FINDINGS:  The liver is shrunken and nodular in appearance consistent with\\ncirrhosis.  There is no evidence of intrahepatic biliary duct dilatation.\"\n",
    "\n",
    "# Encode the sentences into vectors\n",
    "medlm_embedding = model.encode(medlm_output)\n",
    "reference_embedding = model.encode(rag_output)\n",
    "\n",
    "# Calculate cosine similarity\n",
    "cosine_similarity = util.cos_sim(medlm_embedding, reference_embedding)[0][0]\n",
    "\n",
    "print(f\"Cosine Similarity: {cosine_similarity}\")"
   ]
  },
  {
   "cell_type": "markdown",
   "id": "5abdc95f-34e9-4380-9ecb-c7737ba7ff9c",
   "metadata": {},
   "source": [
    "# Question 8"
   ]
  },
  {
   "cell_type": "code",
   "execution_count": 21,
   "id": "237bc9b8-50f6-4937-9c36-358af59d4767",
   "metadata": {},
   "outputs": [
    {
     "name": "stdout",
     "output_type": "stream",
     "text": [
      "Generated SQL: The radiology findings of a patient with a past medical history of coronary artery disease are as follows: There is a mild homogeneous plaque in the proximal internal carotid artery without significant increase in peak systolic velocities. The peak systolic velocity in the common carotid artery is 86 cm/sec.\n"
     ]
    }
   ],
   "source": [
    "# Initialize BigQuery client\n",
    "bigquery_client = bigquery.Client()\n",
    "\n",
    "# Define the Openai model\n",
    "llm = ChatOpenAI(openai_api_key=openai_api_key, model=\"gpt-4-32k\")\n",
    "\n",
    "# Manually define the SQLDatabase\n",
    "# Assume you have a BigQuery connection string or credentials file\n",
    "connection_string = \"bigquery://us-gcp-ame-con-5b680-sbx-1/mimic_iv_dataset\"\n",
    "\n",
    "# Create the SQLDatabase instance\n",
    "db = SQLDatabase.from_uri(connection_string)\n",
    "\n",
    "# Create the SQLDatabaseChain\n",
    "chain = SQLDatabaseChain(llm=llm, database=db)\n",
    "\n",
    "# Define your natural language query\n",
    "natural_language_query = \"What is the radiology findings of a patient with Past Medical History of coronary artery disease in discharge text limit 1\"\n",
    "\n",
    "# Generate SQL and execute\n",
    "sql_query = chain.run(natural_language_query)\n",
    "print(\"Generated SQL:\", sql_query)"
   ]
  },
  {
   "cell_type": "code",
   "execution_count": 22,
   "id": "47388c56-dbd1-43d6-81b0-67b0db5afa5a",
   "metadata": {},
   "outputs": [
    {
     "name": "stdout",
     "output_type": "stream",
     "text": [
      "response\n",
      " prediction: {'content': \" The patient has a mild homogeneous plaque in the proximal internal carotid artery, which is the artery that supplies blood to the brain. This plaque does not appear to be causing any significant obstruction to blood flow, as the peak systolic velocity in the common carotid artery is normal. However, the patient's history of coronary artery disease suggests that they may be at increased risk of developing future cardiovascular events, such as a stroke or heart attack. It is important for the patient to continue to follow up with their doctor and manage their risk factors for cardiovascular disease, such as high blood pressure, high cholesterol, and diabetes.\", 'citationMetadata': <proto.marshal.collections.maps.MapComposite object at 0x7f07a04765f0>, 'safetyAttributes': <proto.marshal.collections.maps.MapComposite object at 0x7f0785be3010>}\n"
     ]
    }
   ],
   "source": [
    "# The AI Platform services require regional API endpoints.\n",
    "\n",
    "client_options = {\"api_endpoint\": \"us-central1-aiplatform.googleapis.com\"}\n",
    "\n",
    "# Initialize client that will be used to create and send requests.\n",
    "\n",
    "# This client only needs to be created once, and can be reused for multiple requests.\n",
    "\n",
    "client = aiplatform.gapic.PredictionServiceClient(\n",
    "\n",
    "    client_options=client_options\n",
    "\n",
    ")\n",
    "\n",
    "instance_dict = { \"content\": \"Summarize \" + sql_query }\n",
    "\n",
    "instance = json_format.ParseDict(instance_dict, Value())\n",
    "\n",
    "instances = [instance]\n",
    "\n",
    "parameters_dict = {\n",
    "\n",
    "    \"candidateCount\": 1,\n",
    "\n",
    "    \"maxOutputTokens\": 500,\n",
    "\n",
    "    \"temperature\": 0.2,\n",
    "\n",
    "    \"topP\": 0.8,\n",
    "\n",
    "    \"topK\": 40\n",
    "\n",
    "}\n",
    "\n",
    "parameters = json_format.ParseDict(parameters_dict, Value())\n",
    "\n",
    "response = client.predict(\n",
    "\n",
    "    endpoint=\"projects/us-gcp-ame-con-5b680-sbx-1/locations/us-central1/publishers/google/models/medlm-large\", instances=instances, parameters=parameters\n",
    "\n",
    ")\n",
    "\n",
    "print(\"response\")\n",
    "\n",
    "predictions = response.predictions\n",
    "\n",
    "for prediction in predictions:\n",
    "    print(\" prediction:\", dict(prediction))"
   ]
  },
  {
   "cell_type": "code",
   "execution_count": 18,
   "id": "4c1aaa6c-b2b6-4726-a4f5-9255764ddba8",
   "metadata": {},
   "outputs": [
    {
     "name": "stdout",
     "output_type": "stream",
     "text": [
      "Cosine Similarity: 0.7289897203445435\n"
     ]
    }
   ],
   "source": [
    "from sentence_transformers import SentenceTransformer, util\n",
    "\n",
    "# Load a pre-trained sentence embedding model\n",
    "model = SentenceTransformer('all-mpnet-base-v2')\n",
    "\n",
    "# Your MedLM output\n",
    "medlm_output = \"The patient has a mild homogeneous plaque in the proximal internal carotid artery, which is the artery that supplies blood to the brain. This plaque does not appear to be causing any significant obstruction to blood flow, as the peak systolic velocity in the common carotid artery is normal. However, the patient's history of coronary artery disease suggests that they may be at increased risk of developing future cardiovascular events, such as a stroke or heart attack. It is important for the patient to continue to follow up with their doctor and manage their risk factors for cardiovascular disease, such as high blood pressure, high cholesterol, and diabetes.\"\n",
    "rag_output = \"The radiology findings of a patient with a past medical history of coronary artery disease are as follows: There is a mild homogeneous plaque in the proximal internal carotid artery without significant increase in peak systolic velocities. The peak systolic velocity in the common carotid artery is 86 cm/sec.\"\n",
    "\n",
    "# Encode the sentences into vectors\n",
    "medlm_embedding = model.encode(medlm_output)\n",
    "reference_embedding = model.encode(rag_output)\n",
    "\n",
    "# Calculate cosine similarity\n",
    "cosine_similarity = util.cos_sim(medlm_embedding, reference_embedding)[0][0]\n",
    "\n",
    "print(f\"Cosine Similarity: {cosine_similarity}\")"
   ]
  },
  {
   "cell_type": "markdown",
   "id": "fabfdec2-8b96-4a62-97fb-2fa3a52f519e",
   "metadata": {},
   "source": [
    "# Question 9"
   ]
  },
  {
   "cell_type": "code",
   "execution_count": 46,
   "id": "ab8ae440-e0f7-4527-8683-b05245c09715",
   "metadata": {},
   "outputs": [
    {
     "name": "stdout",
     "output_type": "stream",
     "text": [
      "Generated SQL: Two patients had allergies to Morphine. Their admission notes include the following information: \n",
      "\n",
      "1. The first patient has an altered mental status and is in the MEDICINE department. No major surgical or invasive procedure was performed. \n",
      "\n",
      "2. The second patient was admitted to the UROLOGY department for urinary incontinence. This patient is also allergic to Lipitor and Oxycodone, and no major surgical or invasive procedure was reported. \n",
      "\n",
      "The specific medications on admission for these patients are not provided in the available details.\n"
     ]
    }
   ],
   "source": [
    "# Initialize BigQuery client\n",
    "bigquery_client = bigquery.Client()\n",
    "\n",
    "# Define the Openai model\n",
    "llm = ChatOpenAI(openai_api_key=openai_api_key, model=\"gpt-4-32k\")\n",
    "\n",
    "# Manually define the SQLDatabase\n",
    "# Assume you have a BigQuery connection string or credentials file\n",
    "connection_string = \"bigquery://us-gcp-ame-con-5b680-sbx-1/mimic_iv_dataset\"\n",
    "\n",
    "# Create the SQLDatabase instance\n",
    "db = SQLDatabase.from_uri(connection_string)\n",
    "\n",
    "# Create the SQLDatabaseChain\n",
    "chain = SQLDatabaseChain(llm=llm, database=db)\n",
    "\n",
    "# Define your natural language query\n",
    "natural_language_query = \"In discharge table what Medications on Admission was given to patient who has Allergies: Morphine limit 2\"\n",
    "\n",
    "# Generate SQL and execute\n",
    "sql_query = chain.run(natural_language_query)\n",
    "print(\"Generated SQL:\", sql_query)"
   ]
  },
  {
   "cell_type": "code",
   "execution_count": 47,
   "id": "320ee64b-7140-4133-9202-01fc8ba79644",
   "metadata": {},
   "outputs": [
    {
     "name": "stdout",
     "output_type": "stream",
     "text": [
      "response\n",
      " prediction: {'content': \" Given the limited information provided, it is not possible to provide a detailed summary of the patients' medical history or treatment plan. However, based on the information provided, it is possible to make some general observations.\\n\\nFirst, both patients have an allergy to morphine, which is a common opioid pain medication. This means that they should not be given morphine or other opioids, as they may experience a serious allergic reaction.\\n\\nSecond, the first patient has an altered mental status, which can be a sign of a variety of underlying medical conditions. The cause of the altered mental status is not clear from the information provided, but it is important for the patient to be evaluated by a doctor to determine the cause and receive appropriate treatment.\\n\\nThird, the second patient was admitted for urinary incontinence, which is a common problem that can affect people of all ages. The cause of the urinary incontinence is not clear from the information provided, but it is important for the patient to be evaluated by a doctor to determine the cause and receive appropriate treatment.\\n\\nOverall, the information provided is limited, and it is not possible to provide a detailed summary of the patients' medical history or treatment plan. However, based on the information provided, it is possible to make some general observations about the patients' conditions and the need for further evaluation and treatment.\", 'citationMetadata': <proto.marshal.collections.maps.MapComposite object at 0x7f07850f07c0>, 'safetyAttributes': <proto.marshal.collections.maps.MapComposite object at 0x7f0784f150c0>}\n"
     ]
    }
   ],
   "source": [
    "# The AI Platform services require regional API endpoints.\n",
    "\n",
    "client_options = {\"api_endpoint\": \"us-central1-aiplatform.googleapis.com\"}\n",
    "\n",
    "# Initialize client that will be used to create and send requests.\n",
    "\n",
    "# This client only needs to be created once, and can be reused for multiple requests.\n",
    "\n",
    "client = aiplatform.gapic.PredictionServiceClient(\n",
    "\n",
    "    client_options=client_options\n",
    "\n",
    ")\n",
    "\n",
    "instance_dict = { \"content\": \"Summarize \" + sql_query }\n",
    "\n",
    "instance = json_format.ParseDict(instance_dict, Value())\n",
    "\n",
    "instances = [instance]\n",
    "\n",
    "parameters_dict = {\n",
    "\n",
    "    \"candidateCount\": 1,\n",
    "\n",
    "    \"maxOutputTokens\": 500,\n",
    "\n",
    "    \"temperature\": 0.2,\n",
    "\n",
    "    \"topP\": 0.8,\n",
    "\n",
    "    \"topK\": 40\n",
    "\n",
    "}\n",
    "\n",
    "parameters = json_format.ParseDict(parameters_dict, Value())\n",
    "\n",
    "response = client.predict(\n",
    "\n",
    "    endpoint=\"projects/us-gcp-ame-con-5b680-sbx-1/locations/us-central1/publishers/google/models/medlm-large\", instances=instances, parameters=parameters\n",
    "\n",
    ")\n",
    "\n",
    "print(\"response\")\n",
    "\n",
    "predictions = response.predictions\n",
    "\n",
    "for prediction in predictions:\n",
    "    print(\" prediction:\", dict(prediction))"
   ]
  },
  {
   "cell_type": "code",
   "execution_count": 19,
   "id": "b3e40050-4d63-4741-b294-c0ec15c29654",
   "metadata": {},
   "outputs": [
    {
     "name": "stdout",
     "output_type": "stream",
     "text": [
      "Cosine Similarity: 0.7765483260154724\n"
     ]
    }
   ],
   "source": [
    "from sentence_transformers import SentenceTransformer, util\n",
    "\n",
    "# Load a pre-trained sentence embedding model\n",
    "model = SentenceTransformer('all-mpnet-base-v2')\n",
    "\n",
    "# Your MedLM output\n",
    "medlm_output = \"Given the limited information provided, it is not possible to provide a detailed summary of the patients' medical history or treatment plan. However, based on the information provided, it is possible to make some general observations.\\n\\nFirst, both patients have an allergy to morphine, which is a common opioid pain medication. This means that they should not be given morphine or other opioids, as they may experience a serious allergic reaction.\\n\\nSecond, the first patient has an altered mental status, which can be a sign of a variety of underlying medical conditions. The cause of the altered mental status is not clear from the information provided, but it is important for the patient to be evaluated by a doctor to determine the cause and receive appropriate treatment.\\n\\nThird, the second patient was admitted for urinary incontinence, which is a common problem that can affect people of all ages. The cause of the urinary incontinence is not clear from the information provided, but it is important for the patient to be evaluated by a doctor to determine the cause and receive appropriate treatment.\\n\\nOverall, the information provided is limited, and it is not possible to provide a detailed summary of the patients' medical history or treatment plan. However, based on the information provided, it is possible to make some general observations about the patients' conditions and the need for further evaluation and treatment.\"\n",
    "rag_output = \"Two patients had allergies to Morphine. Their admission notes include the following information: 1. The first patient has an altered mental status and is in the MEDICINE department. No major surgical or invasive procedure was performed. 2. The second patient was admitted to the UROLOGY department for urinary incontinence. This patient is also allergic to Lipitor and Oxycodone, and no major surgical or invasive procedure was reported. The specific medications on admission for these patients are not provided in the available details.\"\n",
    "\n",
    "# Encode the sentences into vectors\n",
    "medlm_embedding = model.encode(medlm_output)\n",
    "reference_embedding = model.encode(rag_output)\n",
    "\n",
    "# Calculate cosine similarity\n",
    "cosine_similarity = util.cos_sim(medlm_embedding, reference_embedding)[0][0]\n",
    "\n",
    "print(f\"Cosine Similarity: {cosine_similarity}\")"
   ]
  },
  {
   "cell_type": "markdown",
   "id": "732b3edd-d4b4-4fdf-8ce6-ab2746e8bcbe",
   "metadata": {},
   "source": [
    "# Question 10"
   ]
  },
  {
   "cell_type": "code",
   "execution_count": 8,
   "id": "987e7bad-9bc5-4a07-bb7b-32305d11ccf2",
   "metadata": {},
   "outputs": [
    {
     "name": "stdout",
     "output_type": "stream",
     "text": [
      "Generated SQL: The three most frequent procedures are 'Venous catheterization, not elsewhere classified' with 13928 occurrences, 'Insertion of Infusion Device into Superior Vena Cava, Percutaneous Approach' with 10061 occurrences and 'Other nonoperative respiratory measurements' with 10041 occurrences.\n"
     ]
    }
   ],
   "source": [
    "# Initialize BigQuery client\n",
    "bigquery_client = bigquery.Client()\n",
    "\n",
    "# Define the Openai model\n",
    "llm = ChatOpenAI(openai_api_key=openai_api_key, model=\"gpt-4-32k\")\n",
    "\n",
    "# Manually define the SQLDatabase\n",
    "# Assume you have a BigQuery connection string or credentials file\n",
    "connection_string = \"bigquery://us-gcp-ame-con-5b680-sbx-1/mimic_iv_hosp_icu_dataset\"\n",
    "\n",
    "# Create the SQLDatabase instance\n",
    "db = SQLDatabase.from_uri(connection_string)\n",
    "\n",
    "# Create the SQLDatabaseChain\n",
    "chain = SQLDatabaseChain(llm=llm, database=db)\n",
    "\n",
    "# Define your natural language query\n",
    "natural_language_query = \"What is the most frequent procedure limit 3\"\n",
    "\n",
    "# Generate SQL and execute\n",
    "sql_query = chain.run(natural_language_query)\n",
    "print(\"Generated SQL:\", sql_query)"
   ]
  },
  {
   "cell_type": "code",
   "execution_count": 9,
   "id": "833bc80f-ab3d-4259-ad2a-4592f3abccc1",
   "metadata": {},
   "outputs": [
    {
     "name": "stdout",
     "output_type": "stream",
     "text": [
      "response\n",
      " prediction: {'citationMetadata': <proto.marshal.collections.maps.MapComposite object at 0x7f04d52d5360>, 'content': \" The three most frequent procedures are 'Venous catheterization, not elsewhere classified' with 13928 occurrences, 'Insertion of Infusion Device into Superior Vena Cava, Percutaneous Approach' with 10061 occurrences and 'Other nonoperative respiratory measurements' with 10041 occurrences.\\n\\n'Venous catheterization, not elsewhere classified' is the insertion of a catheter into a vein. It is a common procedure that is used for a variety of purposes, such as administering fluids, medications, or blood products, or for collecting blood samples.\\n\\n'Insertion of Infusion Device into Superior Vena Cava, Percutaneous Approach' is the placement of a catheter into the superior vena cava, a large vein that carries blood from the upper body to the heart. This procedure is often used to administer fluids, medications, or nutrition to patients who are unable to receive them through their veins.\\n\\n'Other nonoperative respiratory measurements' is a broad category that includes a variety of tests that are used to assess the function of the lungs. These tests may be used to diagnose respiratory conditions, such as asthma or chronic obstructive pulmonary disease (COPD), or to monitor the progress of a patient's treatment.\", 'safetyAttributes': <proto.marshal.collections.maps.MapComposite object at 0x7f04d52d5420>}\n"
     ]
    }
   ],
   "source": [
    "# The AI Platform services require regional API endpoints.\n",
    "\n",
    "client_options = {\"api_endpoint\": \"us-central1-aiplatform.googleapis.com\"}\n",
    "\n",
    "# Initialize client that will be used to create and send requests.\n",
    "\n",
    "# This client only needs to be created once, and can be reused for multiple requests.\n",
    "\n",
    "client = aiplatform.gapic.PredictionServiceClient(\n",
    "\n",
    "    client_options=client_options\n",
    "\n",
    ")\n",
    "\n",
    "instance_dict = { \"content\": \"Summarize \" + sql_query }\n",
    "\n",
    "instance = json_format.ParseDict(instance_dict, Value())\n",
    "\n",
    "instances = [instance]\n",
    "\n",
    "parameters_dict = {\n",
    "\n",
    "    \"candidateCount\": 1,\n",
    "\n",
    "    \"maxOutputTokens\": 500,\n",
    "\n",
    "    \"temperature\": 0.2,\n",
    "\n",
    "    \"topP\": 0.8,\n",
    "\n",
    "    \"topK\": 40\n",
    "\n",
    "}\n",
    "\n",
    "parameters = json_format.ParseDict(parameters_dict, Value())\n",
    "\n",
    "response = client.predict(\n",
    "\n",
    "    endpoint=\"projects/us-gcp-ame-con-5b680-sbx-1/locations/us-central1/publishers/google/models/medlm-large\", instances=instances, parameters=parameters\n",
    "\n",
    ")\n",
    "\n",
    "print(\"response\")\n",
    "\n",
    "predictions = response.predictions\n",
    "\n",
    "for prediction in predictions:\n",
    "    print(\" prediction:\", dict(prediction))"
   ]
  },
  {
   "cell_type": "code",
   "execution_count": 20,
   "id": "ecca662e-879b-4825-9078-6fccbda8e9c4",
   "metadata": {
    "tags": []
   },
   "outputs": [
    {
     "name": "stdout",
     "output_type": "stream",
     "text": [
      "Cosine Similarity: 0.8450198173522949\n"
     ]
    }
   ],
   "source": [
    "from sentence_transformers import SentenceTransformer, util\n",
    "\n",
    "# Load a pre-trained sentence embedding model\n",
    "model = SentenceTransformer('all-mpnet-base-v2')\n",
    "\n",
    "# Your MedLM output\n",
    "medlm_output = \"The three most frequent procedures are 'Venous catheterization, not elsewhere classified' with 13928 occurrences, 'Insertion of Infusion Device into Superior Vena Cava, Percutaneous Approach' with 10061 occurrences and 'Other nonoperative respiratory measurements' with 10041 occurrences.\\n\\n'Venous catheterization, not elsewhere classified' is the insertion of a catheter into a vein. It is a common procedure that is used for a variety of purposes, such as administering fluids, medications, or blood products, or for collecting blood samples.\\n\\n'Insertion of Infusion Device into Superior Vena Cava, Percutaneous Approach' is the placement of a catheter into the superior vena cava, a large vein that carries blood from the upper body to the heart. This procedure is often used to administer fluids, medications, or nutrition to patients who are unable to receive them through their veins.\\n\\n'Other nonoperative respiratory measurements' is a broad category that includes a variety of tests that are used to assess the function of the lungs. These tests may be used to diagnose respiratory conditions, such as asthma or chronic obstructive pulmonary disease (COPD), or to monitor the progress of a patient's treatment.\"\n",
    "rag_output = \"The three most frequent procedures are 'Venous catheterization, not elsewhere classified' with 13928 occurrences, 'Insertion of Infusion Device into Superior Vena Cava, Percutaneous Approach' with 10061 occurrences and 'Other nonoperative respiratory measurements' with 10041 occurrences.\"\n",
    "\n",
    "# Encode the sentences into vectors\n",
    "medlm_embedding = model.encode(medlm_output)\n",
    "reference_embedding = model.encode(rag_output)\n",
    "\n",
    "# Calculate cosine similarity\n",
    "cosine_similarity = util.cos_sim(medlm_embedding, reference_embedding)[0][0]\n",
    "\n",
    "print(f\"Cosine Similarity: {cosine_similarity}\")"
   ]
  },
  {
   "cell_type": "markdown",
   "id": "705472fb-9395-43a4-88a2-2939da8f1875",
   "metadata": {},
   "source": [
    "## Evaluation"
   ]
  },
  {
   "cell_type": "markdown",
   "id": "3587916f-577c-4e1a-96af-94c4db5eac4e",
   "metadata": {},
   "source": [
    "# Keeping the query the same for admission and compare against discharge notes"
   ]
  },
  {
   "cell_type": "code",
   "execution_count": 9,
   "id": "e3db8644-191e-4749-827d-7c8be96b5619",
   "metadata": {
    "tags": []
   },
   "outputs": [
    {
     "name": "stdout",
     "output_type": "stream",
     "text": [
      "Generated SQL: The youngest patient who got admitted has the subject_id of 11265045 and was admitted on May 10, 2125.\n"
     ]
    }
   ],
   "source": [
    "# Manually define the SQLDatabase\n",
    "connection_string_eval = \"bigquery://us-gcp-ame-con-5b680-sbx-1/mimic_iv_dataset\"\n",
    "\n",
    "# Create the SQLDatabase instance\n",
    "db_eval = SQLDatabase.from_uri(connection_string_eval)\n",
    "\n",
    "# Create the SQLDatabaseChain\n",
    "chain_eval = SQLDatabaseChain(llm=llm, database=db_eval)\n",
    "\n",
    "# Define your natural language query\n",
    "natural_language_query_eval = \"find the youngest patient who got admitted join with admissions limit 1\"\n",
    "\n",
    "# Generate SQL and execute\n",
    "sql_query_eval = chain.run(natural_language_query_eval)\n",
    "print(\"Generated SQL:\", sql_query_eval)"
   ]
  },
  {
   "cell_type": "code",
   "execution_count": 19,
   "id": "55698194-75d4-4e6f-bc75-be213a7d85bc",
   "metadata": {
    "tags": []
   },
   "outputs": [
    {
     "name": "stdout",
     "output_type": "stream",
     "text": [
      "11265045\n",
      "11265045\n",
      "The subject IDs are the same!\n"
     ]
    }
   ],
   "source": [
    "# Find the start of the subject ID\n",
    "start_index1 = sql_query.find(\"subject_id \") + len(\"subject_id \")\n",
    "start_index2 = sql_query_eval.find(\"subject_id of \") + len(\"subject_id of \")\n",
    "\n",
    "# Extract the subject ID\n",
    "subject_id1 = sql_query[start_index1: start_index1+8].strip()\n",
    "subject_id2 = sql_query_eval[start_index2:start_index2+9].strip()\n",
    "\n",
    "# Compare the IDs\n",
    "print(subject_id1)\n",
    "print(subject_id2)\n",
    "if subject_id1 == subject_id2:\n",
    "    print(\"The subject IDs are the same!\")\n",
    "else:\n",
    "    print(\"The subject IDs are different.\")"
   ]
  },
  {
   "cell_type": "markdown",
   "id": "adc4e8dd-9e9c-48d8-8f62-8dfae64fec10",
   "metadata": {},
   "source": [
    "- cannot use subject_id because several patients of the same age might have been admitted, so need to check that age in the lowest in the discharge notes as well\n",
    "- this create a challenege because the responses are worded differently."
   ]
  },
  {
   "cell_type": "code",
   "execution_count": 20,
   "id": "dd4a2d27-cf4d-493b-87d9-9d6333d032ac",
   "metadata": {},
   "outputs": [
    {
     "name": "stdout",
     "output_type": "stream",
     "text": [
      "un\n",
      "212\n",
      "The ages are different.\n"
     ]
    }
   ],
   "source": [
    "# Find the start of the age\n",
    "start_index1 = sql_query.find(\"at age \") + len(\"at age \")\n",
    "stop_index2 = sql_query_eval.find(\"years old \") + len(\"years old \")\n",
    "\n",
    "\n",
    "# Extract the age\n",
    "age1 = sql_query[start_index1:start_index1+2].strip()\n",
    "age2 = sql_query_eval[stop_index2-14:stop_index2-11].strip()\n",
    "\n",
    "# Compare the IDs\n",
    "print(age1)\n",
    "print(age2)\n",
    "if age1 == age2:\n",
    "    print(\"The ages are the same!\")\n",
    "else:\n",
    "    print(\"The ages are different.\")"
   ]
  },
  {
   "cell_type": "code",
   "execution_count": null,
   "id": "f57baf53-b407-4b95-85f0-a15ac1e72488",
   "metadata": {},
   "outputs": [],
   "source": []
  },
  {
   "cell_type": "code",
   "execution_count": 11,
   "id": "00fef7c9-bebf-4ffd-b869-621ca9a80af6",
   "metadata": {},
   "outputs": [
    {
     "name": "stdout",
     "output_type": "stream",
     "text": [
      "{'accuracy': 0.0, 'precision': 0.25789082819723796, 'recall': 0.5167212227219724, 'f1_score': 0.3127440310170613}\n"
     ]
    }
   ],
   "source": [
    "import numpy as np\n",
    "from nltk.translate.bleu_score import sentence_bleu\n",
    "from rouge import Rouge\n",
    "from sklearn.metrics import accuracy_score, precision_score, recall_score, f1_score\n",
    "\n",
    "def evaluate_medlm(queries, reference_texts, medlm_outputs):\n",
    "    \"\"\"\n",
    "    Evaluates MedLM's output using multiple reference texts.\n",
    "\n",
    "    Args:\n",
    "        queries: A list of queries.\n",
    "        reference_texts: A list of lists, where each inner list contains the reference texts for a query.\n",
    "        medlm_outputs: A list of MedLM outputs for the queries.\n",
    "\n",
    "    Returns:\n",
    "        A dictionary containing the accuracy, precision, recall, and F1-score.\n",
    "    \"\"\"\n",
    "\n",
    "    # Initialize lists to store the results\n",
    "    accuracy_results = []\n",
    "    precision_results = []\n",
    "    recall_results = []\n",
    "    f1_results = []\n",
    "\n",
    "    # Iterate over the queries\n",
    "    for i, query in enumerate(queries):\n",
    "        # Get the reference texts and MedLM output for the current query\n",
    "        refs = reference_texts[i]\n",
    "        output = medlm_outputs[i]\n",
    "\n",
    "        # Calculate accuracy\n",
    "        accuracy = any([output == ref for ref in refs])\n",
    "        accuracy_results.append(accuracy)\n",
    "\n",
    "        # Calculate precision, recall, and F1-score using ROUGE-L\n",
    "        rouge = Rouge()\n",
    "        scores = rouge.get_scores(output, refs[0])  # Use the first reference text for ROUGE\n",
    "        precision = scores[0]['rouge-l']['p']\n",
    "        recall = scores[0]['rouge-l']['r']\n",
    "        f1 = scores[0]['rouge-l']['f']\n",
    "        precision_results.append(precision)\n",
    "        recall_results.append(recall)\n",
    "        f1_results.append(f1)\n",
    "\n",
    "    # Calculate overall metrics\n",
    "    accuracy = accuracy_score(accuracy_results, [True] * len(accuracy_results))\n",
    "    precision = np.mean(precision_results)\n",
    "    recall = np.mean(recall_results)\n",
    "    f1 = np.mean(f1_results)\n",
    "\n",
    "    return {\n",
    "        \"accuracy\": accuracy,\n",
    "        \"precision\": precision,\n",
    "        \"recall\": recall,\n",
    "        \"f1_score\": f1\n",
    "    }\n",
    "\n",
    "# Example usage:\n",
    "queries = [\"List of medication used to treat patients with pain join with admissions limit 1\", \n",
    "           \"What is the most frequently prescribed prescription drug.\",\n",
    "          \"Provider order entries (poe) most frequent order type limit 5\", \n",
    "          \"What are the unique name of the tests given to patients who were admitted and the doctor comments VRE isolated limit 3\",\n",
    "          \"What is the radiology findings of a patient who received ORTHOPAEDICS service in discharge text limit 1\",\n",
    "          \"What is the radiology findings of a patient whose Chief Complaint is Abdominal pain in discharge text limit 1\",\n",
    "          \"What is the radiology findings of a patient who was discharged with a history of liver cirrhosis limit 2\",\n",
    "          \"What is the radiology findings of a patient with Past Medical History of coronary artery disease in discharge text limit 1\",\n",
    "          \"In discharge table what Medications on Admission was given to patient who has Allergies: Morphine limit 2\",\n",
    "          \"What is the most frequent procedure limit 3\"\n",
    "          ]\n",
    "reference_texts = [[\"The medication 'Papain 2.5 % Solution' was used to treat a patient with id 12749568, who was admitted on 2136-11-09\"],\n",
    "                   [\"The most frequently prescribed prescription drug is Insulin.\"],\n",
    "                   [\"The most frequent order types in provider order entries are: 1. Medications with 17690066 entries 2. Lab with 6565578 entries 3. General Care with 5690221 entries 4. ADT orders with 2171456 entries 5. IV therapy with 2140236 entries\"],\n",
    "                   [\"The unique names of the tests given to patients who were admitted and the doctor comments VRE isolated are 'R/O VANCOMYCIN RESISTANT ENTEROCOCCUS', 'WOUND CULTURE', and 'FECAL CULTURE - R/O VIBRIO'\"],\n",
    "                   [\"The radiology findings of a patient who received ORTHOPAEDICS service in discharge text are: EXAMINATION:  CHEST (PORTABLE AP) INDICATION:  ___ year old woman with urosepsis with fever rule out pneumonia TECHNIQUE:  CHEST (PORTABLE AP) COMPARISON:  ___ IMPRESSION:Left internal jugular line tip is at the level of mid SVC.  Cardiomegaly is substantial, unchanged.\"],\n",
    "                   [\"The radiology findings for the patient whose Chief Complaint was Abdominal pain in the discharge text were: EXAMINATION:  CT ABD AND PELVIS WITH CONTRAST INDICATION:  ___ with history of feeding tube, purulent drainage from wound site. Difficult venous access.NO_PO contrast Abscess?  G-tube placement? TECHNIQUE:  Single phase contrast: MDCT axial images were acquired through the abdomen and pelvis\"],\n",
    "                   [\"The patient with note_id '17829563-RR-2' had a CT HEAD W/O CONTRAST examination where they found 'Routine unenhanced head CT was performed and viewed in brain, intermediate and bone windows.  Coronal and sagittal reformats were also performed. DOSE:  Total DLP (Head) = 903 mGy-cm. COMPARISON: ...'. The patient with note_id '14707889-RR-3' was indicated with 'History of hep C without treatment.  Presenting with abdominal\\ndistension.  Question cirrhosis. COMPARISON:  None.FINDINGS:  The liver is shrunken and nodular in appearance consistent with\\ncirrhosis.  There is no evidence of intrahepatic biliary duct dilatation.\"],\n",
    "                   [\"The radiology findings of a patient with a past medical history of coronary artery disease are as follows: There is a mild homogeneous plaque in the proximal internal carotid artery without significant increase in peak systolic velocities. The peak systolic velocity in the common carotid artery is 86 cm/sec.\"],\n",
    "                   [\"Two patients had allergies to Morphine. Their admission notes include the following information: 1. The first patient has an altered mental status and is in the MEDICINE department. No major surgical or invasive procedure was performed. 2. The second patient was admitted to the UROLOGY department for urinary incontinence. This patient is also allergic to Lipitor and Oxycodone, and no major surgical or invasive procedure was reported. The specific medications on admission for these patients are not provided in the available details.\"],\n",
    "                   [\"The three most frequent procedures are 'Venous catheterization, not elsewhere classified' with 13928 occurrences, 'Insertion of Infusion Device into Superior Vena Cava, Percutaneous Approach' with 10061 occurrences and 'Other nonoperative respiratory measurements' with 10041 occurrences.\"]\n",
    "                   \n",
    "                  ]\n",
    "medlm_outputs = [\"Papain 2.5% solution is a medication that is used to treat a variety of conditions. It is a proteolytic enzyme, which means that it helps to break down proteins. Papain is derived from the papaya fruit, and it has been used for centuries to treat a variety of medical conditions. Papain 2.5% solution can be used to treat a variety of conditions, including: Wounds: Papain can help to clean and debride wounds, and it can also help to promote healing. Skin conditions: Papain can be used to treat a variety of skin conditions, such as acne, eczema, and psoriasis. Digestive problems: Papain can help to improve digestion and relieve symptoms of indigestion, such as heartburn and bloating. Inflammation: Papain can help to reduce inflammation in the body. Papain 2.5% solution is a safe and effective medication that can be used to treat a variety of conditions. It is important to follow the directions on the medication label and to talk to your doctor or pharmacist if you have any questions about papain 2.5% solution.\",\n",
    "                \"Insulin is a hormone that is produced by the pancreas and is essential for the body's use of glucose (sugar) for energy. It is used to treat diabetes, a condition in which the body does not produce enough insulin or does not use insulin effectively. Insulin is available in several different forms, including injectable, oral, and inhaled forms. The type and dose of insulin that is prescribed will depend on the individual's needs.\",\n",
    "                \"The most frequent order types in provider order entries are: 1. Medications: 17690066 entries 2. Lab: 6565578 entries 3. General Care: 5690221 entries 4. ADT orders: 2171456 entries 5. IV therapy: 2140236 entries .Medications are the most common type of order, accounting for over half of all orders. This is likely due to the fact that medications are a common form of treatment for many different medical conditions. Lab orders are also common, as they are often used to diagnose and monitor medical conditions. General care orders include a variety of different types of orders, such as orders for diet, activity, and wound care. ADT orders are used to admit, discharge, and transfer patients. IV therapy is used to administer fluids and medications intravenously.\",\n",
    "                \"Vancomycin-resistant Enterococcus (VRE) is a type of bacteria that is resistant to the antibiotic vancomycin. VRE can cause serious infections, especially in people who are hospitalized or have weakened immune systems. VRE is often found in hospitals and other healthcare settings, where it can be spread from person to person through contact with contaminated surfaces or objects. The tests listed above are used to diagnose VRE infections. The 'R/O VANCOMYCIN RESISTANT ENTEROCOCCUS' test is a culture test that is used to identify VRE bacteria in a sample of stool, urine, or blood. The 'WOUND CULTURE' test is used to identify bacteria that may be causing an infection in a wound. The 'FECAL CULTURE - R/O VIBRIO' test is used to identify Vibrio bacteria, which can cause a type of food poisoning. If you have any questions about these tests, please talk to your doctor.\",\n",
    "                \"There is no evidence of pneumonia on the chest X-ray. The patient has a large heart (cardiomegaly) and a sternal wire, which is likely from previous surgery. The tip of the left internal jugular line is in a good position.\",\n",
    "                \"There is no clear indication for the CT scan. The patient has a history of feeding tube, purulent drainage from wound site, and difficult venous access. The CT scan was done to evaluate for an abscess or to guide placement of a gastrostomy tube. The CT scan showed a small amount of free fluid in the right upper quadrant, which could be related to the patient's history of abdominal pain. There was no evidence of an abscess or other abnormality.\",\n",
    "                \"One of the patients had a CT scan of the head without contrast, which showed no abnormalities. The other patient had an ultrasound of the abdomen, which showed a shrunken and nodular liver consistent with cirrhosis. There was no evidence of intrahepatic biliary duct dilatation. The common bile duct was mildly dilated at 8 mm. The gallbladder was distended with stones and sludge.\",\n",
    "                \"The patient has a mild homogeneous plaque in the proximal internal carotid artery, which is the artery that supplies blood to the brain. This plaque does not appear to be causing any significant obstruction to blood flow, as the peak systolic velocity in the common carotid artery is normal. However, the patient's history of coronary artery disease suggests that they may be at increased risk of developing future cardiovascular events, such as a stroke or heart attack. It is important for the patient to continue to follow up with their doctor and manage their risk factors for cardiovascular disease, such as high blood pressure, high cholesterol, and diabetes.\",\n",
    "                \"Given the limited information provided, it is not possible to provide a detailed summary of the patients' medical history or treatment plan. However, based on the information provided, it is possible to make some general observations.\\n\\nFirst, both patients have an allergy to morphine, which is a common opioid pain medication. This means that they should not be given morphine or other opioids, as they may experience a serious allergic reaction.Second, the first patient has an altered mental status, which can be a sign of a variety of underlying medical conditions. The cause of the altered mental status is not clear from the information provided, but it is important for the patient to be evaluated by a doctor to determine the cause and receive appropriate treatment.\\n\\nThird, the second patient was admitted for urinary incontinence, which is a common problem that can affect people of all ages. The cause of the urinary incontinence is not clear from the information provided, but it is important for the patient to be evaluated by a doctor to determine the cause and receive appropriate treatment.\\n\\nOverall, the information provided is limited, and it is not possible to provide a detailed summary of the patients' medical history or treatment plan. However, based on the information provided, it is possible to make some general observations about the patients' conditions and the need for further evaluation and treatment.\",\n",
    "                \"The three most frequent procedures are 'Venous catheterization, not elsewhere classified' with 13928 occurrences, 'Insertion of Infusion Device into Superior Vena Cava, Percutaneous Approach' with 10061 occurrences and 'Other nonoperative respiratory measurements' with 10041 occurrences. 'Venous catheterization, not elsewhere classified' is the insertion of a catheter into a vein. It is a common procedure that is used for a variety of purposes, such as administering fluids, medications, or blood products, or for collecting blood samples.'Insertion of Infusion Device into Superior Vena Cava, Percutaneous Approach' is the placement of a catheter into the superior vena cava, a large vein that carries blood from the upper body to the heart. This procedure is often used to administer fluids, medications, or nutrition to patients who are unable to receive them through their veins.'Other nonoperative respiratory measurements' is a broad category that includes a variety of tests that are used to assess the function of the lungs. These tests may be used to diagnose respiratory conditions, such as asthma or chronic obstructive pulmonary disease (COPD), or to monitor the progress of a patient's treatment.\"\n",
    "                ]\n",
    "\n",
    "results = evaluate_medlm(queries, reference_texts, medlm_outputs)\n",
    "print(results)\n"
   ]
  },
  {
   "cell_type": "code",
   "execution_count": null,
   "id": "8b5b4bc6-b7dd-45a3-84b9-4373cd0e75c2",
   "metadata": {},
   "outputs": [],
   "source": []
  },
  {
   "cell_type": "code",
   "execution_count": 13,
   "id": "4882f145-c271-442f-8b3f-6a7e74a12ecb",
   "metadata": {},
   "outputs": [
    {
     "data": {
      "image/png": "[encoded data removed]",
      "text/plain": [
       "<Figure size 640x480 with 1 Axes>"
      ]
     },
     "metadata": {},
     "output_type": "display_data"
    }
   ],
   "source": [
    "import matplotlib.pyplot as plt\n",
    "\n",
    "results = {'precision': 0.25789082819723796, 'recall': 0.5167212227219724, 'f1_score': 0.3127440310170613}\n",
    "\n",
    "# Extract the values\n",
    "metrics = list(results.keys())\n",
    "scores = list(results.values())\n",
    "\n",
    "# Create the bar plot\n",
    "plt.bar(metrics, scores)\n",
    "plt.xlabel('Metrics')\n",
    "plt.ylabel('Scores')\n",
    "plt.title('Evaluation Results')\n",
    "plt.show()\n"
   ]
  },
  {
   "cell_type": "code",
   "execution_count": 5,
   "id": "031ae6e1-9cc7-496d-8476-0dd4748203e8",
   "metadata": {},
   "outputs": [
    {
     "name": "stdout",
     "output_type": "stream",
     "text": [
      "Average Cosine Similarity: 0.38580754906200687\n"
     ]
    }
   ],
   "source": [
    "import numpy as np\n",
    "from sklearn.metrics.pairwise import cosine_similarity\n",
    "from sklearn.feature_extraction.text import TfidfVectorizer\n",
    "\n",
    "def calculate_average_cosine_similarity(medlm_outputs, reference_texts):\n",
    "    \"\"\"\n",
    "    Calculates the average cosine similarity between MedLM outputs and reference texts.\n",
    "\n",
    "    Args:\n",
    "        medlm_outputs: A list of MedLM outputs.\n",
    "        reference_texts: A list of lists, where each inner list contains the reference texts for a corresponding MedLM output.\n",
    "\n",
    "    Returns:\n",
    "        The average cosine similarity.\n",
    "    \"\"\"\n",
    "\n",
    "    cosine_similarity_results = []\n",
    "\n",
    "    for i, medlm_output in enumerate(medlm_outputs):\n",
    "        refs = reference_texts[i]\n",
    "\n",
    "        # Calculate cosine similarity for each reference text\n",
    "        vectorizer = TfidfVectorizer()\n",
    "        tfidf_matrix = vectorizer.fit_transform([medlm_output] + refs)\n",
    "        cosine_sim = cosine_similarity(tfidf_matrix[0], tfidf_matrix[1:])\n",
    "        cosine_similarity_results.append(np.mean(cosine_sim))  # Average across references\n",
    "\n",
    "    # Calculate the overall average\n",
    "    average_cosine_similarity = np.mean(cosine_similarity_results)\n",
    "\n",
    "    return average_cosine_similarity\n",
    "\n",
    "# Example usage:\n",
    "reference_texts = [[\"The medication 'Papain 2.5 % Solution' was used to treat a patient with id 12749568, who was admitted on 2136-11-09\"],\n",
    "                   [\"The most frequently prescribed prescription drug is Insulin.\"],\n",
    "                   [\"The most frequent order types in provider order entries are: 1. Medications with 17690066 entries 2. Lab with 6565578 entries 3. General Care with 5690221 entries 4. ADT orders with 2171456 entries 5. IV therapy with 2140236 entries\"],\n",
    "                   [\"The unique names of the tests given to patients who were admitted and the doctor comments VRE isolated are 'R/O VANCOMYCIN RESISTANT ENTEROCOCCUS', 'WOUND CULTURE', and 'FECAL CULTURE - R/O VIBRIO'\"],\n",
    "                   [\"The radiology findings of a patient who received ORTHOPAEDICS service in discharge text are: EXAMINATION:  CHEST (PORTABLE AP) INDICATION:  ___ year old woman with urosepsis with fever rule out pneumonia TECHNIQUE:  CHEST (PORTABLE AP) COMPARISON:  ___ IMPRESSION:Left internal jugular line tip is at the level of mid SVC.  Cardiomegaly is substantial, unchanged.\"],\n",
    "                   [\"The radiology findings for the patient whose Chief Complaint was Abdominal pain in the discharge text were: EXAMINATION:  CT ABD AND PELVIS WITH CONTRAST INDICATION:  ___ with history of feeding tube, purulent drainage from wound site. Difficult venous access.NO_PO contrast Abscess?  G-tube placement? TECHNIQUE:  Single phase contrast: MDCT axial images were acquired through the abdomen and pelvis\"],\n",
    "                   [\"The patient with note_id '17829563-RR-2' had a CT HEAD W/O CONTRAST examination where they found 'Routine unenhanced head CT was performed and viewed in brain, intermediate and bone windows.  Coronal and sagittal reformats were also performed. DOSE:  Total DLP (Head) = 903 mGy-cm. COMPARISON: ...'. The patient with note_id '14707889-RR-3' was indicated with 'History of hep C without treatment.  Presenting with abdominal\\ndistension.  Question cirrhosis. COMPARISON:  None.FINDINGS:  The liver is shrunken and nodular in appearance consistent with\\ncirrhosis.  There is no evidence of intrahepatic biliary duct dilatation.\"],\n",
    "                   [\"The radiology findings of a patient with a past medical history of coronary artery disease are as follows: There is a mild homogeneous plaque in the proximal internal carotid artery without significant increase in peak systolic velocities. The peak systolic velocity in the common carotid artery is 86 cm/sec.\"],\n",
    "                   [\"Two patients had allergies to Morphine. Their admission notes include the following information: 1. The first patient has an altered mental status and is in the MEDICINE department. No major surgical or invasive procedure was performed. 2. The second patient was admitted to the UROLOGY department for urinary incontinence. This patient is also allergic to Lipitor and Oxycodone, and no major surgical or invasive procedure was reported. The specific medications on admission for these patients are not provided in the available details.\"],\n",
    "                   [\"The three most frequent procedures are 'Venous catheterization, not elsewhere classified' with 13928 occurrences, 'Insertion of Infusion Device into Superior Vena Cava, Percutaneous Approach' with 10061 occurrences and 'Other nonoperative respiratory measurements' with 10041 occurrences.\"]\n",
    "                   \n",
    "                  ]\n",
    "medlm_outputs = [\"Papain 2.5% solution is a medication that is used to treat a variety of conditions. It is a proteolytic enzyme, which means that it helps to break down proteins. Papain is derived from the papaya fruit, and it has been used for centuries to treat a variety of medical conditions. Papain 2.5% solution can be used to treat a variety of conditions, including: Wounds: Papain can help to clean and debride wounds, and it can also help to promote healing. Skin conditions: Papain can be used to treat a variety of skin conditions, such as acne, eczema, and psoriasis. Digestive problems: Papain can help to improve digestion and relieve symptoms of indigestion, such as heartburn and bloating. Inflammation: Papain can help to reduce inflammation in the body. Papain 2.5% solution is a safe and effective medication that can be used to treat a variety of conditions. It is important to follow the directions on the medication label and to talk to your doctor or pharmacist if you have any questions about papain 2.5% solution.\",\n",
    "                \"Insulin is a hormone that is produced by the pancreas and is essential for the body's use of glucose (sugar) for energy. It is used to treat diabetes, a condition in which the body does not produce enough insulin or does not use insulin effectively. Insulin is available in several different forms, including injectable, oral, and inhaled forms. The type and dose of insulin that is prescribed will depend on the individual's needs.\",\n",
    "                \"The most frequent order types in provider order entries are: 1. Medications: 17690066 entries 2. Lab: 6565578 entries 3. General Care: 5690221 entries 4. ADT orders: 2171456 entries 5. IV therapy: 2140236 entries .Medications are the most common type of order, accounting for over half of all orders. This is likely due to the fact that medications are a common form of treatment for many different medical conditions. Lab orders are also common, as they are often used to diagnose and monitor medical conditions. General care orders include a variety of different types of orders, such as orders for diet, activity, and wound care. ADT orders are used to admit, discharge, and transfer patients. IV therapy is used to administer fluids and medications intravenously.\",\n",
    "                \"Vancomycin-resistant Enterococcus (VRE) is a type of bacteria that is resistant to the antibiotic vancomycin. VRE can cause serious infections, especially in people who are hospitalized or have weakened immune systems. VRE is often found in hospitals and other healthcare settings, where it can be spread from person to person through contact with contaminated surfaces or objects. The tests listed above are used to diagnose VRE infections. The 'R/O VANCOMYCIN RESISTANT ENTEROCOCCUS' test is a culture test that is used to identify VRE bacteria in a sample of stool, urine, or blood. The 'WOUND CULTURE' test is used to identify bacteria that may be causing an infection in a wound. The 'FECAL CULTURE - R/O VIBRIO' test is used to identify Vibrio bacteria, which can cause a type of food poisoning. If you have any questions about these tests, please talk to your doctor.\",\n",
    "                \"There is no evidence of pneumonia on the chest X-ray. The patient has a large heart (cardiomegaly) and a sternal wire, which is likely from previous surgery. The tip of the left internal jugular line is in a good position.\",\n",
    "                \"There is no clear indication for the CT scan. The patient has a history of feeding tube, purulent drainage from wound site, and difficult venous access. The CT scan was done to evaluate for an abscess or to guide placement of a gastrostomy tube. The CT scan showed a small amount of free fluid in the right upper quadrant, which could be related to the patient's history of abdominal pain. There was no evidence of an abscess or other abnormality.\",\n",
    "                \"One of the patients had a CT scan of the head without contrast, which showed no abnormalities. The other patient had an ultrasound of the abdomen, which showed a shrunken and nodular liver consistent with cirrhosis. There was no evidence of intrahepatic biliary duct dilatation. The common bile duct was mildly dilated at 8 mm. The gallbladder was distended with stones and sludge.\",\n",
    "                \"The patient has a mild homogeneous plaque in the proximal internal carotid artery, which is the artery that supplies blood to the brain. This plaque does not appear to be causing any significant obstruction to blood flow, as the peak systolic velocity in the common carotid artery is normal. However, the patient's history of coronary artery disease suggests that they may be at increased risk of developing future cardiovascular events, such as a stroke or heart attack. It is important for the patient to continue to follow up with their doctor and manage their risk factors for cardiovascular disease, such as high blood pressure, high cholesterol, and diabetes.\",\n",
    "                \"Given the limited information provided, it is not possible to provide a detailed summary of the patients' medical history or treatment plan. However, based on the information provided, it is possible to make some general observations.\\n\\nFirst, both patients have an allergy to morphine, which is a common opioid pain medication. This means that they should not be given morphine or other opioids, as they may experience a serious allergic reaction.Second, the first patient has an altered mental status, which can be a sign of a variety of underlying medical conditions. The cause of the altered mental status is not clear from the information provided, but it is important for the patient to be evaluated by a doctor to determine the cause and receive appropriate treatment.\\n\\nThird, the second patient was admitted for urinary incontinence, which is a common problem that can affect people of all ages. The cause of the urinary incontinence is not clear from the information provided, but it is important for the patient to be evaluated by a doctor to determine the cause and receive appropriate treatment.\\n\\nOverall, the information provided is limited, and it is not possible to provide a detailed summary of the patients' medical history or treatment plan. However, based on the information provided, it is possible to make some general observations about the patients' conditions and the need for further evaluation and treatment.\",\n",
    "                \"The three most frequent procedures are 'Venous catheterization, not elsewhere classified' with 13928 occurrences, 'Insertion of Infusion Device into Superior Vena Cava, Percutaneous Approach' with 10061 occurrences and 'Other nonoperative respiratory measurements' with 10041 occurrences. 'Venous catheterization, not elsewhere classified' is the insertion of a catheter into a vein. It is a common procedure that is used for a variety of purposes, such as administering fluids, medications, or blood products, or for collecting blood samples.'Insertion of Infusion Device into Superior Vena Cava, Percutaneous Approach' is the placement of a catheter into the superior vena cava, a large vein that carries blood from the upper body to the heart. This procedure is often used to administer fluids, medications, or nutrition to patients who are unable to receive them through their veins.'Other nonoperative respiratory measurements' is a broad category that includes a variety of tests that are used to assess the function of the lungs. These tests may be used to diagnose respiratory conditions, such as asthma or chronic obstructive pulmonary disease (COPD), or to monitor the progress of a patient's treatment.\"\n",
    "                ]\n",
    "average_similarity = calculate_average_cosine_similarity(medlm_outputs, reference_texts)\n",
    "print(f\"Average Cosine Similarity: {average_similarity}\")\n"
   ]
  },
  {
   "cell_type": "code",
   "execution_count": 2,
   "id": "0a3bde6e-22c8-40ac-9ef2-2b9149ea8b98",
   "metadata": {},
   "outputs": [
    {
     "name": "stdout",
     "output_type": "stream",
     "text": [
      "BLEU Score: 0\n"
     ]
    }
   ],
   "source": [
    "from nltk.translate.bleu_score import sentence_bleu\n",
    "from nltk.translate.bleu_score import SmoothingFunction\n",
    "\n",
    "reference_texts = [[\"The medication 'Papain 2.5 % Solution' was used to treat a patient with id 12749568, who was admitted on 2136-11-09\"],\n",
    "                   [\"The most frequently prescribed prescription drug is Insulin.\"],\n",
    "                   [\"The most frequent order types in provider order entries are: 1. Medications with 17690066 entries 2. Lab with 6565578 entries 3. General Care with 5690221 entries 4. ADT orders with 2171456 entries 5. IV therapy with 2140236 entries\"],\n",
    "                   [\"The unique names of the tests given to patients who were admitted and the doctor comments VRE isolated are 'R/O VANCOMYCIN RESISTANT ENTEROCOCCUS', 'WOUND CULTURE', and 'FECAL CULTURE - R/O VIBRIO'\"],\n",
    "                   [\"The radiology findings of a patient who received ORTHOPAEDICS service in discharge text are: EXAMINATION:  CHEST (PORTABLE AP) INDICATION:  ___ year old woman with urosepsis with fever rule out pneumonia TECHNIQUE:  CHEST (PORTABLE AP) COMPARISON:  ___ IMPRESSION:Left internal jugular line tip is at the level of mid SVC.  Cardiomegaly is substantial, unchanged.\"],\n",
    "                   [\"The radiology findings for the patient whose Chief Complaint was Abdominal pain in the discharge text were: EXAMINATION:  CT ABD AND PELVIS WITH CONTRAST INDICATION:  ___ with history of feeding tube, purulent drainage from wound site. Difficult venous access.NO_PO contrast Abscess?  G-tube placement? TECHNIQUE:  Single phase contrast: MDCT axial images were acquired through the abdomen and pelvis\"],\n",
    "                   [\"The patient with note_id '17829563-RR-2' had a CT HEAD W/O CONTRAST examination where they found 'Routine unenhanced head CT was performed and viewed in brain, intermediate and bone windows.  Coronal and sagittal reformats were also performed. DOSE:  Total DLP (Head) = 903 mGy-cm. COMPARISON: ...'. The patient with note_id '14707889-RR-3' was indicated with 'History of hep C without treatment.  Presenting with abdominal\\ndistension.  Question cirrhosis. COMPARISON:  None.FINDINGS:  The liver is shrunken and nodular in appearance consistent with\\ncirrhosis.  There is no evidence of intrahepatic biliary duct dilatation.\"],\n",
    "                   [\"The radiology findings of a patient with a past medical history of coronary artery disease are as follows: There is a mild homogeneous plaque in the proximal internal carotid artery without significant increase in peak systolic velocities. The peak systolic velocity in the common carotid artery is 86 cm/sec.\"],\n",
    "                   [\"Two patients had allergies to Morphine. Their admission notes include the following information: 1. The first patient has an altered mental status and is in the MEDICINE department. No major surgical or invasive procedure was performed. 2. The second patient was admitted to the UROLOGY department for urinary incontinence. This patient is also allergic to Lipitor and Oxycodone, and no major surgical or invasive procedure was reported. The specific medications on admission for these patients are not provided in the available details.\"],\n",
    "                   [\"The three most frequent procedures are 'Venous catheterization, not elsewhere classified' with 13928 occurrences, 'Insertion of Infusion Device into Superior Vena Cava, Percutaneous Approach' with 10061 occurrences and 'Other nonoperative respiratory measurements' with 10041 occurrences.\"]\n",
    "                   \n",
    "                  ]\n",
    "medlm_outputs = [\"Papain 2.5% solution is a medication that is used to treat a variety of conditions. It is a proteolytic enzyme, which means that it helps to break down proteins. Papain is derived from the papaya fruit, and it has been used for centuries to treat a variety of medical conditions. Papain 2.5% solution can be used to treat a variety of conditions, including: Wounds: Papain can help to clean and debride wounds, and it can also help to promote healing. Skin conditions: Papain can be used to treat a variety of skin conditions, such as acne, eczema, and psoriasis. Digestive problems: Papain can help to improve digestion and relieve symptoms of indigestion, such as heartburn and bloating. Inflammation: Papain can help to reduce inflammation in the body. Papain 2.5% solution is a safe and effective medication that can be used to treat a variety of conditions. It is important to follow the directions on the medication label and to talk to your doctor or pharmacist if you have any questions about papain 2.5% solution.\",\n",
    "                \"Insulin is a hormone that is produced by the pancreas and is essential for the body's use of glucose (sugar) for energy. It is used to treat diabetes, a condition in which the body does not produce enough insulin or does not use insulin effectively. Insulin is available in several different forms, including injectable, oral, and inhaled forms. The type and dose of insulin that is prescribed will depend on the individual's needs.\",\n",
    "                \"The most frequent order types in provider order entries are: 1. Medications: 17690066 entries 2. Lab: 6565578 entries 3. General Care: 5690221 entries 4. ADT orders: 2171456 entries 5. IV therapy: 2140236 entries .Medications are the most common type of order, accounting for over half of all orders. This is likely due to the fact that medications are a common form of treatment for many different medical conditions. Lab orders are also common, as they are often used to diagnose and monitor medical conditions. General care orders include a variety of different types of orders, such as orders for diet, activity, and wound care. ADT orders are used to admit, discharge, and transfer patients. IV therapy is used to administer fluids and medications intravenously.\",\n",
    "                \"Vancomycin-resistant Enterococcus (VRE) is a type of bacteria that is resistant to the antibiotic vancomycin. VRE can cause serious infections, especially in people who are hospitalized or have weakened immune systems. VRE is often found in hospitals and other healthcare settings, where it can be spread from person to person through contact with contaminated surfaces or objects. The tests listed above are used to diagnose VRE infections. The 'R/O VANCOMYCIN RESISTANT ENTEROCOCCUS' test is a culture test that is used to identify VRE bacteria in a sample of stool, urine, or blood. The 'WOUND CULTURE' test is used to identify bacteria that may be causing an infection in a wound. The 'FECAL CULTURE - R/O VIBRIO' test is used to identify Vibrio bacteria, which can cause a type of food poisoning. If you have any questions about these tests, please talk to your doctor.\",\n",
    "                \"There is no evidence of pneumonia on the chest X-ray. The patient has a large heart (cardiomegaly) and a sternal wire, which is likely from previous surgery. The tip of the left internal jugular line is in a good position.\",\n",
    "                \"There is no clear indication for the CT scan. The patient has a history of feeding tube, purulent drainage from wound site, and difficult venous access. The CT scan was done to evaluate for an abscess or to guide placement of a gastrostomy tube. The CT scan showed a small amount of free fluid in the right upper quadrant, which could be related to the patient's history of abdominal pain. There was no evidence of an abscess or other abnormality.\",\n",
    "                \"One of the patients had a CT scan of the head without contrast, which showed no abnormalities. The other patient had an ultrasound of the abdomen, which showed a shrunken and nodular liver consistent with cirrhosis. There was no evidence of intrahepatic biliary duct dilatation. The common bile duct was mildly dilated at 8 mm. The gallbladder was distended with stones and sludge.\",\n",
    "                \"The patient has a mild homogeneous plaque in the proximal internal carotid artery, which is the artery that supplies blood to the brain. This plaque does not appear to be causing any significant obstruction to blood flow, as the peak systolic velocity in the common carotid artery is normal. However, the patient's history of coronary artery disease suggests that they may be at increased risk of developing future cardiovascular events, such as a stroke or heart attack. It is important for the patient to continue to follow up with their doctor and manage their risk factors for cardiovascular disease, such as high blood pressure, high cholesterol, and diabetes.\",\n",
    "                \"Given the limited information provided, it is not possible to provide a detailed summary of the patients' medical history or treatment plan. However, based on the information provided, it is possible to make some general observations.\\n\\nFirst, both patients have an allergy to morphine, which is a common opioid pain medication. This means that they should not be given morphine or other opioids, as they may experience a serious allergic reaction.Second, the first patient has an altered mental status, which can be a sign of a variety of underlying medical conditions. The cause of the altered mental status is not clear from the information provided, but it is important for the patient to be evaluated by a doctor to determine the cause and receive appropriate treatment.\\n\\nThird, the second patient was admitted for urinary incontinence, which is a common problem that can affect people of all ages. The cause of the urinary incontinence is not clear from the information provided, but it is important for the patient to be evaluated by a doctor to determine the cause and receive appropriate treatment.\\n\\nOverall, the information provided is limited, and it is not possible to provide a detailed summary of the patients' medical history or treatment plan. However, based on the information provided, it is possible to make some general observations about the patients' conditions and the need for further evaluation and treatment.\",\n",
    "                \"The three most frequent procedures are 'Venous catheterization, not elsewhere classified' with 13928 occurrences, 'Insertion of Infusion Device into Superior Vena Cava, Percutaneous Approach' with 10061 occurrences and 'Other nonoperative respiratory measurements' with 10041 occurrences. 'Venous catheterization, not elsewhere classified' is the insertion of a catheter into a vein. It is a common procedure that is used for a variety of purposes, such as administering fluids, medications, or blood products, or for collecting blood samples.'Insertion of Infusion Device into Superior Vena Cava, Percutaneous Approach' is the placement of a catheter into the superior vena cava, a large vein that carries blood from the upper body to the heart. This procedure is often used to administer fluids, medications, or nutrition to patients who are unable to receive them through their veins.'Other nonoperative respiratory measurements' is a broad category that includes a variety of tests that are used to assess the function of the lungs. These tests may be used to diagnose respiratory conditions, such as asthma or chronic obstructive pulmonary disease (COPD), or to monitor the progress of a patient's treatment.\"\n",
    "                ]\n",
    "# Calculate BLEU score\n",
    "smoothie = SmoothingFunction().method4\n",
    "bleu_score = sentence_bleu(reference_texts, medlm_output, smoothing_function=smoothie)\n",
    "\n",
    "print(f\"BLEU Score: {bleu_score}\")"
   ]
  },
  {
   "cell_type": "code",
   "execution_count": 24,
   "id": "dac4c981-c645-4e90-9af5-2c7eab3302dd",
   "metadata": {
    "tags": []
   },
   "outputs": [
    {
     "data": {
      "image/png": "[encoded data removed]",
      "text/plain": [
       "<Figure size 640x480 with 1 Axes>"
      ]
     },
     "metadata": {},
     "output_type": "display_data"
    }
   ],
   "source": [
    "import matplotlib.pyplot as plt\n",
    "\n",
    "results = {'precision': 0.25789082819723796, 'recall': 0.5167212227219724, 'f1_score': 0.3127440310170613}\n",
    "results1 = {'precision': 0.42945429100414, 'recall': 0.5903865329240142, 'f1_score': 0.45632465884170353}\n",
    "\n",
    "# Extract the values\n",
    "metrics = list(results.keys())\n",
    "scores = list(results.values())\n",
    "scores1 = list(results1.values())\n",
    "\n",
    "# Create the bar plot\n",
    "width = 0.35  # Set the width of the bars\n",
    "plt.bar(metrics, scores, width, label='MedLM')\n",
    "plt.bar([x + width for x in range(len(metrics))], scores1, width, label='Keyword Weights')\n",
    "\n",
    "plt.xlabel('Metrics')\n",
    "plt.ylabel('Scores')\n",
    "plt.title('Evaluation Results')\n",
    "plt.xticks([x + width / 2 for x in range(len(metrics))], metrics)  # Adjust x-tick positions\n",
    "plt.legend()\n",
    "plt.show()"
   ]
  },
  {
   "cell_type": "code",
   "execution_count": 21,
   "id": "8ccb8248-9f76-41bd-b843-fc8c9e1aeb2a",
   "metadata": {
    "tags": []
   },
   "outputs": [
    {
     "data": {
      "image/png": "[encoded data removed]",
      "text/plain": [
       "<Figure size 1000x600 with 2 Axes>"
      ]
     },
     "metadata": {},
     "output_type": "display_data"
    }
   ],
   "source": [
    "import matplotlib.pyplot as plt\n",
    "import seaborn as sns\n",
    "import numpy as np\n",
    "\n",
    "questions = [\n",
    "    \"Question 1\",\n",
    "    \"Question 2\",\n",
    "    \"Question 3\",\n",
    "    \"Question 4\",\n",
    "    \"Question 5\",\n",
    "    \"Question 6\",\n",
    "    \"Question 7\",\n",
    "    \"Question 8\",\n",
    "    \"Question 9\",\n",
    "    \"Question 10\",\n",
    "]\n",
    "model_names = [\"MedLM\", \"Keyword\"]\n",
    "cosine_similarities = np.array([\n",
    "    [0.6605226993560791, 0.6654064655303955],\n",
    "    [0.5294905304908752, 0.5294905304908752],\n",
    "    [0.9003145098686218, 1.0000001192092896],\n",
    "    [0.8557106256484985, 0.881264865398407],\n",
    "    [0.5574334859848022, 0.6521257758140564],\n",
    "    [0.8501511216163635, 0.42527711391448975],\n",
    "    [0.8337249755859375, 0.9914638996124268],\n",
    "    [0.7289897203445435, 0.7251367568969727],\n",
    "    [0.7765483260154724, 0.9855380654335022],\n",
    "    [0.8450198173522949, 0.8640492558479309],\n",
    "])\n",
    "\n",
    "# Create a heatmap\n",
    "plt.figure(figsize=(10, 6))  # Adjust figure size as needed\n",
    "sns.heatmap(cosine_similarities, annot=True, fmt=\".2f\", cmap=\"coolwarm\",\n",
    "            xticklabels=model_names, yticklabels=questions)\n",
    "\n",
    "# Set labels and title\n",
    "plt.xlabel(\"Models\")\n",
    "plt.ylabel(\"Questions\")\n",
    "plt.title(\"Cosine Similarity Heatmap\")\n",
    "\n",
    "# Show the plot\n",
    "plt.show()\n"
   ]
  },
  {
   "cell_type": "code",
   "execution_count": null,
   "id": "19316c4b-1fb2-4d41-815b-37ad9ac8527f",
   "metadata": {},
   "outputs": [],
   "source": []
  }
 ],
 "metadata": {
  "environment": {
   "kernel": "python3",
   "name": ".m123",
   "type": "gcloud",
   "uri": "us-docker.pkg.dev/deeplearning-platform-release/gcr.io/:m123"
  },
  "kernelspec": {
   "display_name": "Python 3 (Local)",
   "language": "python",
   "name": "python3"
  },
  "language_info": {
   "codemirror_mode": {
    "name": "ipython",
    "version": 3
   },
   "file_extension": ".py",
   "mimetype": "text/x-python",
   "name": "python",
   "nbconvert_exporter": "python",
   "pygments_lexer": "ipython3",
   "version": "3.10.14"
  }
 },
 "nbformat": 4,
 "nbformat_minor": 5
}
